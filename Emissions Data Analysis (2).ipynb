{
 "cells": [
  {
   "cell_type": "code",
   "execution_count": 1,
   "metadata": {},
   "outputs": [],
   "source": [
    "import matplotlib\n",
    "%matplotlib inline\n",
    "import matplotlib.pyplot as plt\n",
    "plt.style.use('fivethirtyeight')\n",
    "import warnings\n",
    "warnings.simplefilter('ignore', FutureWarning)\n",
    "import pandas as pd\n",
    "from datascience import *\n",
    "import numpy as np\n",
    "import math"
   ]
  },
  {
   "cell_type": "code",
   "execution_count": 2,
   "metadata": {},
   "outputs": [],
   "source": [
    "#ONLY 2014 DATA AND EMISSIONS IN TONS\n",
    "emissions = pd.read_csv(r\"C:\\Users\\19177\\Documents\\UChicago\\CS 181\\Final Project\\emissions2.csv\")"
   ]
  },
  {
   "cell_type": "code",
   "execution_count": 3,
   "metadata": {},
   "outputs": [
    {
     "data": {
      "text/html": [
       "<div>\n",
       "<style scoped>\n",
       "    .dataframe tbody tr th:only-of-type {\n",
       "        vertical-align: middle;\n",
       "    }\n",
       "\n",
       "    .dataframe tbody tr th {\n",
       "        vertical-align: top;\n",
       "    }\n",
       "\n",
       "    .dataframe thead th {\n",
       "        text-align: right;\n",
       "    }\n",
       "</style>\n",
       "<table border=\"1\" class=\"dataframe\">\n",
       "  <thead>\n",
       "    <tr style=\"text-align: right;\">\n",
       "      <th></th>\n",
       "      <th>ID</th>\n",
       "      <th>POLLUTANT</th>\n",
       "      <th>STATE</th>\n",
       "      <th>FIPS</th>\n",
       "      <th>STATE_COUNTY</th>\n",
       "      <th>MAJOR_SOURCE_TYPE</th>\n",
       "      <th>EMISSION_TONS</th>\n",
       "      <th>SECTOR_ONE</th>\n",
       "      <th>SECTOR_TWO</th>\n",
       "      <th>EPA_REGION</th>\n",
       "      <th>COUNTY_SURFACE_AREA</th>\n",
       "      <th>POPULATION_2010</th>\n",
       "    </tr>\n",
       "  </thead>\n",
       "  <tbody>\n",
       "    <tr>\n",
       "      <th>0</th>\n",
       "      <td>1941603</td>\n",
       "      <td>Acrolein</td>\n",
       "      <td>Alabama</td>\n",
       "      <td>1001</td>\n",
       "      <td>AL - Autauga</td>\n",
       "      <td>Fire Sources</td>\n",
       "      <td>0.16</td>\n",
       "      <td>Fires</td>\n",
       "      <td>Agricultural Field Burning</td>\n",
       "      <td>4.0</td>\n",
       "      <td>594</td>\n",
       "      <td>54571.0</td>\n",
       "    </tr>\n",
       "    <tr>\n",
       "      <th>1</th>\n",
       "      <td>1941604</td>\n",
       "      <td>Acrolein</td>\n",
       "      <td>Alabama</td>\n",
       "      <td>1001</td>\n",
       "      <td>AL - Autauga</td>\n",
       "      <td>Fire Sources</td>\n",
       "      <td>21.57</td>\n",
       "      <td>Fires</td>\n",
       "      <td>Prescribed Fires</td>\n",
       "      <td>4.0</td>\n",
       "      <td>594</td>\n",
       "      <td>54571.0</td>\n",
       "    </tr>\n",
       "    <tr>\n",
       "      <th>2</th>\n",
       "      <td>1941605</td>\n",
       "      <td>Acrolein</td>\n",
       "      <td>Alabama</td>\n",
       "      <td>1001</td>\n",
       "      <td>AL - Autauga</td>\n",
       "      <td>Fire Sources</td>\n",
       "      <td>2.45</td>\n",
       "      <td>Fires</td>\n",
       "      <td>Wildfires</td>\n",
       "      <td>4.0</td>\n",
       "      <td>594</td>\n",
       "      <td>54571.0</td>\n",
       "    </tr>\n",
       "    <tr>\n",
       "      <th>3</th>\n",
       "      <td>1941606</td>\n",
       "      <td>Acrolein</td>\n",
       "      <td>Alabama</td>\n",
       "      <td>1001</td>\n",
       "      <td>AL - Autauga</td>\n",
       "      <td>Mobile Sources</td>\n",
       "      <td>0.03</td>\n",
       "      <td>Mobile</td>\n",
       "      <td>Aircraft</td>\n",
       "      <td>4.0</td>\n",
       "      <td>594</td>\n",
       "      <td>54571.0</td>\n",
       "    </tr>\n",
       "    <tr>\n",
       "      <th>4</th>\n",
       "      <td>1941607</td>\n",
       "      <td>Acrolein</td>\n",
       "      <td>Alabama</td>\n",
       "      <td>1001</td>\n",
       "      <td>AL - Autauga</td>\n",
       "      <td>Mobile Sources</td>\n",
       "      <td>0.01</td>\n",
       "      <td>Mobile</td>\n",
       "      <td>Locomotives</td>\n",
       "      <td>4.0</td>\n",
       "      <td>594</td>\n",
       "      <td>54571.0</td>\n",
       "    </tr>\n",
       "    <tr>\n",
       "      <th>...</th>\n",
       "      <td>...</td>\n",
       "      <td>...</td>\n",
       "      <td>...</td>\n",
       "      <td>...</td>\n",
       "      <td>...</td>\n",
       "      <td>...</td>\n",
       "      <td>...</td>\n",
       "      <td>...</td>\n",
       "      <td>...</td>\n",
       "      <td>...</td>\n",
       "      <td>...</td>\n",
       "      <td>...</td>\n",
       "    </tr>\n",
       "    <tr>\n",
       "      <th>970612</th>\n",
       "      <td>2912215</td>\n",
       "      <td>Volatile Organic Compounds</td>\n",
       "      <td>Wyoming</td>\n",
       "      <td>56045</td>\n",
       "      <td>WY - Weston</td>\n",
       "      <td>Stationary Sources</td>\n",
       "      <td>38.74</td>\n",
       "      <td>Solvent</td>\n",
       "      <td>Consumer and Commercial Use</td>\n",
       "      <td>8.0</td>\n",
       "      <td>2398</td>\n",
       "      <td>7208.0</td>\n",
       "    </tr>\n",
       "    <tr>\n",
       "      <th>970613</th>\n",
       "      <td>2912216</td>\n",
       "      <td>Volatile Organic Compounds</td>\n",
       "      <td>Wyoming</td>\n",
       "      <td>56045</td>\n",
       "      <td>WY - Weston</td>\n",
       "      <td>Stationary Sources</td>\n",
       "      <td>2.04</td>\n",
       "      <td>Solvent</td>\n",
       "      <td>Degreasing</td>\n",
       "      <td>8.0</td>\n",
       "      <td>2398</td>\n",
       "      <td>7208.0</td>\n",
       "    </tr>\n",
       "    <tr>\n",
       "      <th>970614</th>\n",
       "      <td>2912217</td>\n",
       "      <td>Volatile Organic Compounds</td>\n",
       "      <td>Wyoming</td>\n",
       "      <td>56045</td>\n",
       "      <td>WY - Weston</td>\n",
       "      <td>Stationary Sources</td>\n",
       "      <td>0.02</td>\n",
       "      <td>Solvent</td>\n",
       "      <td>Dry Cleaning</td>\n",
       "      <td>8.0</td>\n",
       "      <td>2398</td>\n",
       "      <td>7208.0</td>\n",
       "    </tr>\n",
       "    <tr>\n",
       "      <th>970615</th>\n",
       "      <td>2912218</td>\n",
       "      <td>Volatile Organic Compounds</td>\n",
       "      <td>Wyoming</td>\n",
       "      <td>56045</td>\n",
       "      <td>WY - Weston</td>\n",
       "      <td>Stationary Sources</td>\n",
       "      <td>7.96</td>\n",
       "      <td>Solvent</td>\n",
       "      <td>Industrial Surface Coating and Use</td>\n",
       "      <td>8.0</td>\n",
       "      <td>2398</td>\n",
       "      <td>7208.0</td>\n",
       "    </tr>\n",
       "    <tr>\n",
       "      <th>970616</th>\n",
       "      <td>2912219</td>\n",
       "      <td>Volatile Organic Compounds</td>\n",
       "      <td>Wyoming</td>\n",
       "      <td>56045</td>\n",
       "      <td>WY - Weston</td>\n",
       "      <td>Stationary Sources</td>\n",
       "      <td>8.37</td>\n",
       "      <td>Solvent</td>\n",
       "      <td>Non-Industrial Surface Coating</td>\n",
       "      <td>8.0</td>\n",
       "      <td>2398</td>\n",
       "      <td>7208.0</td>\n",
       "    </tr>\n",
       "  </tbody>\n",
       "</table>\n",
       "<p>970617 rows × 12 columns</p>\n",
       "</div>"
      ],
      "text/plain": [
       "             ID                   POLLUTANT    STATE   FIPS  STATE_COUNTY  \\\n",
       "0       1941603                    Acrolein  Alabama   1001  AL - Autauga   \n",
       "1       1941604                    Acrolein  Alabama   1001  AL - Autauga   \n",
       "2       1941605                    Acrolein  Alabama   1001  AL - Autauga   \n",
       "3       1941606                    Acrolein  Alabama   1001  AL - Autauga   \n",
       "4       1941607                    Acrolein  Alabama   1001  AL - Autauga   \n",
       "...         ...                         ...      ...    ...           ...   \n",
       "970612  2912215  Volatile Organic Compounds  Wyoming  56045   WY - Weston   \n",
       "970613  2912216  Volatile Organic Compounds  Wyoming  56045   WY - Weston   \n",
       "970614  2912217  Volatile Organic Compounds  Wyoming  56045   WY - Weston   \n",
       "970615  2912218  Volatile Organic Compounds  Wyoming  56045   WY - Weston   \n",
       "970616  2912219  Volatile Organic Compounds  Wyoming  56045   WY - Weston   \n",
       "\n",
       "         MAJOR_SOURCE_TYPE  EMISSION_TONS SECTOR_ONE  \\\n",
       "0             Fire Sources           0.16      Fires   \n",
       "1             Fire Sources          21.57      Fires   \n",
       "2             Fire Sources           2.45      Fires   \n",
       "3           Mobile Sources           0.03     Mobile   \n",
       "4           Mobile Sources           0.01     Mobile   \n",
       "...                    ...            ...        ...   \n",
       "970612  Stationary Sources          38.74    Solvent   \n",
       "970613  Stationary Sources           2.04    Solvent   \n",
       "970614  Stationary Sources           0.02    Solvent   \n",
       "970615  Stationary Sources           7.96    Solvent   \n",
       "970616  Stationary Sources           8.37    Solvent   \n",
       "\n",
       "                                SECTOR_TWO  EPA_REGION  COUNTY_SURFACE_AREA  \\\n",
       "0               Agricultural Field Burning         4.0                  594   \n",
       "1                         Prescribed Fires         4.0                  594   \n",
       "2                                Wildfires         4.0                  594   \n",
       "3                                 Aircraft         4.0                  594   \n",
       "4                              Locomotives         4.0                  594   \n",
       "...                                    ...         ...                  ...   \n",
       "970612         Consumer and Commercial Use         8.0                 2398   \n",
       "970613                          Degreasing         8.0                 2398   \n",
       "970614                        Dry Cleaning         8.0                 2398   \n",
       "970615  Industrial Surface Coating and Use         8.0                 2398   \n",
       "970616      Non-Industrial Surface Coating         8.0                 2398   \n",
       "\n",
       "        POPULATION_2010  \n",
       "0               54571.0  \n",
       "1               54571.0  \n",
       "2               54571.0  \n",
       "3               54571.0  \n",
       "4               54571.0  \n",
       "...                 ...  \n",
       "970612           7208.0  \n",
       "970613           7208.0  \n",
       "970614           7208.0  \n",
       "970615           7208.0  \n",
       "970616           7208.0  \n",
       "\n",
       "[970617 rows x 12 columns]"
      ]
     },
     "execution_count": 3,
     "metadata": {},
     "output_type": "execute_result"
    }
   ],
   "source": [
    "#ONLY 2014 DATA AND EMISSIONS IN TONS\n",
    "emissions"
   ]
  },
  {
   "cell_type": "code",
   "execution_count": 4,
   "metadata": {},
   "outputs": [],
   "source": [
    "#ONLY 2014 DATA AND EMISSIONS IN TONS\n",
    "emissions = Table.from_df(emissions)"
   ]
  },
  {
   "cell_type": "code",
   "execution_count": 5,
   "metadata": {},
   "outputs": [
    {
     "data": {
      "text/html": [
       "<table border=\"1\" class=\"dataframe\">\n",
       "    <thead>\n",
       "        <tr>\n",
       "            <th>ID</th> <th>POLLUTANT</th> <th>STATE</th> <th>FIPS</th> <th>STATE_COUNTY</th> <th>MAJOR_SOURCE_TYPE</th> <th>EMISSION_TONS</th> <th>SECTOR_ONE</th> <th>SECTOR_TWO</th> <th>EPA_REGION</th> <th>COUNTY_SURFACE_AREA</th> <th>POPULATION_2010</th>\n",
       "        </tr>\n",
       "    </thead>\n",
       "    <tbody>\n",
       "        <tr>\n",
       "            <td>1941606</td> <td>Acrolein </td> <td>Alabama</td> <td>1001</td> <td>AL - Autauga</td> <td>Mobile Sources   </td> <td>0.03         </td> <td>Mobile    </td> <td>Aircraft                                </td> <td>4         </td> <td>594                </td> <td>54571          </td>\n",
       "        </tr>\n",
       "        <tr>\n",
       "            <td>1941607</td> <td>Acrolein </td> <td>Alabama</td> <td>1001</td> <td>AL - Autauga</td> <td>Mobile Sources   </td> <td>0.01         </td> <td>Mobile    </td> <td>Locomotives                             </td> <td>4         </td> <td>594                </td> <td>54571          </td>\n",
       "        </tr>\n",
       "        <tr>\n",
       "            <td>1941608</td> <td>Acrolein </td> <td>Alabama</td> <td>1001</td> <td>AL - Autauga</td> <td>Mobile Sources   </td> <td>0.2          </td> <td>Mobile    </td> <td>Non-Road - Diesel                       </td> <td>4         </td> <td>594                </td> <td>54571          </td>\n",
       "        </tr>\n",
       "        <tr>\n",
       "            <td>1941609</td> <td>Acrolein </td> <td>Alabama</td> <td>1001</td> <td>AL - Autauga</td> <td>Mobile Sources   </td> <td>0.03         </td> <td>Mobile    </td> <td>Non-Road - Gasoline                     </td> <td>4         </td> <td>594                </td> <td>54571          </td>\n",
       "        </tr>\n",
       "        <tr>\n",
       "            <td>1941610</td> <td>Acrolein </td> <td>Alabama</td> <td>1001</td> <td>AL - Autauga</td> <td>Mobile Sources   </td> <td>0.00663172   </td> <td>Mobile    </td> <td>Non-Road - Other                        </td> <td>4         </td> <td>594                </td> <td>54571          </td>\n",
       "        </tr>\n",
       "        <tr>\n",
       "            <td>1941611</td> <td>Acrolein </td> <td>Alabama</td> <td>1001</td> <td>AL - Autauga</td> <td>Mobile Sources   </td> <td>0.31         </td> <td>Mobile    </td> <td>On-Road - Diesel Heavy Duty Vehicles    </td> <td>4         </td> <td>594                </td> <td>54571          </td>\n",
       "        </tr>\n",
       "        <tr>\n",
       "            <td>1941612</td> <td>Acrolein </td> <td>Alabama</td> <td>1001</td> <td>AL - Autauga</td> <td>Mobile Sources   </td> <td>0.08         </td> <td>Mobile    </td> <td>On-Road - Diesel Light Duty Vehicles    </td> <td>4         </td> <td>594                </td> <td>54571          </td>\n",
       "        </tr>\n",
       "        <tr>\n",
       "            <td>1941613</td> <td>Acrolein </td> <td>Alabama</td> <td>1001</td> <td>AL - Autauga</td> <td>Mobile Sources   </td> <td>0.004395     </td> <td>Mobile    </td> <td>On-Road - non-Diesel Heavy Duty Vehicles</td> <td>4         </td> <td>594                </td> <td>54571          </td>\n",
       "        </tr>\n",
       "        <tr>\n",
       "            <td>1941614</td> <td>Acrolein </td> <td>Alabama</td> <td>1001</td> <td>AL - Autauga</td> <td>Mobile Sources   </td> <td>0.29         </td> <td>Mobile    </td> <td>On-Road - non-Diesel Light Duty Vehicles</td> <td>4         </td> <td>594                </td> <td>54571          </td>\n",
       "        </tr>\n",
       "        <tr>\n",
       "            <td>1941625</td> <td>Acrolein </td> <td>Alabama</td> <td>1003</td> <td>AL - Baldwin</td> <td>Mobile Sources   </td> <td>2.37         </td> <td>Mobile    </td> <td>Aircraft                                </td> <td>4         </td> <td>1590               </td> <td>182265         </td>\n",
       "        </tr>\n",
       "    </tbody>\n",
       "</table>\n",
       "<p>... (314352 rows omitted)</p>"
      ],
      "text/plain": [
       "ID      | POLLUTANT | STATE   | FIPS | STATE_COUNTY | MAJOR_SOURCE_TYPE | EMISSION_TONS | SECTOR_ONE | SECTOR_TWO                               | EPA_REGION | COUNTY_SURFACE_AREA | POPULATION_2010\n",
       "1941606 | Acrolein  | Alabama | 1001 | AL - Autauga | Mobile Sources    | 0.03          | Mobile     | Aircraft                                 | 4          | 594                 | 54571\n",
       "1941607 | Acrolein  | Alabama | 1001 | AL - Autauga | Mobile Sources    | 0.01          | Mobile     | Locomotives                              | 4          | 594                 | 54571\n",
       "1941608 | Acrolein  | Alabama | 1001 | AL - Autauga | Mobile Sources    | 0.2           | Mobile     | Non-Road - Diesel                        | 4          | 594                 | 54571\n",
       "1941609 | Acrolein  | Alabama | 1001 | AL - Autauga | Mobile Sources    | 0.03          | Mobile     | Non-Road - Gasoline                      | 4          | 594                 | 54571\n",
       "1941610 | Acrolein  | Alabama | 1001 | AL - Autauga | Mobile Sources    | 0.00663172    | Mobile     | Non-Road - Other                         | 4          | 594                 | 54571\n",
       "1941611 | Acrolein  | Alabama | 1001 | AL - Autauga | Mobile Sources    | 0.31          | Mobile     | On-Road - Diesel Heavy Duty Vehicles     | 4          | 594                 | 54571\n",
       "1941612 | Acrolein  | Alabama | 1001 | AL - Autauga | Mobile Sources    | 0.08          | Mobile     | On-Road - Diesel Light Duty Vehicles     | 4          | 594                 | 54571\n",
       "1941613 | Acrolein  | Alabama | 1001 | AL - Autauga | Mobile Sources    | 0.004395      | Mobile     | On-Road - non-Diesel Heavy Duty Vehicles | 4          | 594                 | 54571\n",
       "1941614 | Acrolein  | Alabama | 1001 | AL - Autauga | Mobile Sources    | 0.29          | Mobile     | On-Road - non-Diesel Light Duty Vehicles | 4          | 594                 | 54571\n",
       "1941625 | Acrolein  | Alabama | 1003 | AL - Baldwin | Mobile Sources    | 2.37          | Mobile     | Aircraft                                 | 4          | 1590                | 182265\n",
       "... (314352 rows omitted)"
      ]
     },
     "execution_count": 5,
     "metadata": {},
     "output_type": "execute_result"
    }
   ],
   "source": [
    "#ONLY 2014 DATA AND EMISSIONS IN TONS\n",
    "emissions = emissions.where(\"MAJOR_SOURCE_TYPE\", \"Mobile Sources\")\n",
    "emissions"
   ]
  },
  {
   "cell_type": "code",
   "execution_count": 6,
   "metadata": {},
   "outputs": [
    {
     "name": "stderr",
     "output_type": "stream",
     "text": [
      "C:\\Users\\19177\\Anaconda2\\envs\\snakes\\lib\\site-packages\\datascience\\tables.py:630: VisibleDeprecationWarning: Creating an ndarray from ragged nested sequences (which is a list-or-tuple of lists-or-tuples-or ndarrays with different lengths or shapes) is deprecated. If you meant to do this, you must specify 'dtype=object' when creating the ndarray\n",
      "  values = np.array(tuple(values))\n"
     ]
    },
    {
     "data": {
      "text/html": [
       "<table border=\"1\" class=\"dataframe\">\n",
       "    <thead>\n",
       "        <tr>\n",
       "            <th>STATE</th> <th>Acrolein</th> <th>Ammonia</th> <th>Benzene</th> <th>Black Carbon</th> <th>Carbon Monoxide</th> <th>Chromium VI Compounds</th> <th>Formaldehyde</th> <th>Lead</th> <th>Nitrogen Oxides</th> <th>PM10</th> <th>PM2.5</th> <th>Sulfur Dioxide</th> <th>Volatile Organic Compounds</th>\n",
       "        </tr>\n",
       "    </thead>\n",
       "    <tbody>\n",
       "        <tr>\n",
       "            <td>Alabama             </td> <td>154.016 </td> <td>2464.62</td> <td>2476.16</td> <td>3412.39     </td> <td>951865         </td> <td>0.00810546           </td> <td>1812.05     </td> <td>5.25911   </td> <td>176164         </td> <td>10307.1</td> <td>6890.27</td> <td>1525.32       </td> <td>96409.1                   </td>\n",
       "        </tr>\n",
       "        <tr>\n",
       "            <td>Alaska              </td> <td>57.8343 </td> <td>197.563</td> <td>541.207</td> <td>1207.17     </td> <td>142748         </td> <td>0.0344094            </td> <td>513.967     </td> <td>3.33707   </td> <td>62554.1        </td> <td>2883.94</td> <td>2478.02</td> <td>2934.83       </td> <td>26032.9                   </td>\n",
       "        </tr>\n",
       "        <tr>\n",
       "            <td>Arizona             </td> <td>157.015 </td> <td>2186.71</td> <td>1956.88</td> <td>3602.71     </td> <td>846288         </td> <td>0.000262785          </td> <td>1865.82     </td> <td>8.25232   </td> <td>168148         </td> <td>9601.41</td> <td>6807.37</td> <td>1190.43       </td> <td>84813.6                   </td>\n",
       "        </tr>\n",
       "        <tr>\n",
       "            <td>Arkansas            </td> <td>91.0566 </td> <td>1269.4 </td> <td>1303.67</td> <td>2717.64     </td> <td>484474         </td> <td>0                    </td> <td>1190.13     </td> <td>4.67405   </td> <td>116081         </td> <td>6611.87</td> <td>4891.37</td> <td>495.471       </td> <td>54847.7                   </td>\n",
       "        </tr>\n",
       "        <tr>\n",
       "            <td>California          </td> <td>275.136 </td> <td>13793.6</td> <td>5525.62</td> <td>7723.47     </td> <td>1.69653e+06    </td> <td>0.0423466            </td> <td>6684.33     </td> <td>25.4918   </td> <td>446617         </td> <td>33717.1</td> <td>21071.8</td> <td>4895.65       </td> <td>237715                    </td>\n",
       "        </tr>\n",
       "        <tr>\n",
       "            <td>Colorado            </td> <td>120.592 </td> <td>1889.84</td> <td>1964.22</td> <td>2863.19     </td> <td>739086         </td> <td>0                    </td> <td>1524.97     </td> <td>4.86209   </td> <td>126933         </td> <td>8369.33</td> <td>5833.69</td> <td>936.452       </td> <td>74011.8                   </td>\n",
       "        </tr>\n",
       "        <tr>\n",
       "            <td>Connecticut         </td> <td>41.5562 </td> <td>1028.19</td> <td>818.236</td> <td>913.7       </td> <td>351949         </td> <td>0.00111706           </td> <td>578.05      </td> <td>1.25398   </td> <td>44124          </td> <td>3462.45</td> <td>2189.37</td> <td>525.578       </td> <td>32469.4                   </td>\n",
       "        </tr>\n",
       "        <tr>\n",
       "            <td>Delaware            </td> <td>17.1716 </td> <td>327.918</td> <td>295.961</td> <td>377.99      </td> <td>119681         </td> <td>0.0168793            </td> <td>210.97      </td> <td>0.470501  </td> <td>20306.8        </td> <td>1351.21</td> <td>983.39 </td> <td>1945.1        </td> <td>11821.5                   </td>\n",
       "        </tr>\n",
       "        <tr>\n",
       "            <td>District Of Columbia</td> <td>6.61357 </td> <td>164.15 </td> <td>93.6669</td> <td>170.09      </td> <td>45298          </td> <td>0                    </td> <td>94.51       </td> <td>0.00293178</td> <td>6441.83        </td> <td>749.123</td> <td>383.402</td> <td>55.69         </td> <td>4094.62                   </td>\n",
       "        </tr>\n",
       "        <tr>\n",
       "            <td>Florida             </td> <td>398.816 </td> <td>6701   </td> <td>6893.53</td> <td>8861.7      </td> <td>2.71932e+06    </td> <td>0.0899661            </td> <td>4899.66     </td> <td>18.556    </td> <td>416562         </td> <td>31318.6</td> <td>19586.4</td> <td>12531.9       </td> <td>257547                    </td>\n",
       "        </tr>\n",
       "    </tbody>\n",
       "</table>\n",
       "<p>... (44 rows omitted)</p>"
      ],
      "text/plain": [
       "STATE                | Acrolein | Ammonia | Benzene | Black Carbon | Carbon Monoxide | Chromium VI Compounds | Formaldehyde | Lead       | Nitrogen Oxides | PM10    | PM2.5   | Sulfur Dioxide | Volatile Organic Compounds\n",
       "Alabama              | 154.016  | 2464.62 | 2476.16 | 3412.39      | 951865          | 0.00810546            | 1812.05      | 5.25911    | 176164          | 10307.1 | 6890.27 | 1525.32        | 96409.1\n",
       "Alaska               | 57.8343  | 197.563 | 541.207 | 1207.17      | 142748          | 0.0344094             | 513.967      | 3.33707    | 62554.1         | 2883.94 | 2478.02 | 2934.83        | 26032.9\n",
       "Arizona              | 157.015  | 2186.71 | 1956.88 | 3602.71      | 846288          | 0.000262785           | 1865.82      | 8.25232    | 168148          | 9601.41 | 6807.37 | 1190.43        | 84813.6\n",
       "Arkansas             | 91.0566  | 1269.4  | 1303.67 | 2717.64      | 484474          | 0                     | 1190.13      | 4.67405    | 116081          | 6611.87 | 4891.37 | 495.471        | 54847.7\n",
       "California           | 275.136  | 13793.6 | 5525.62 | 7723.47      | 1.69653e+06     | 0.0423466             | 6684.33      | 25.4918    | 446617          | 33717.1 | 21071.8 | 4895.65        | 237715\n",
       "Colorado             | 120.592  | 1889.84 | 1964.22 | 2863.19      | 739086          | 0                     | 1524.97      | 4.86209    | 126933          | 8369.33 | 5833.69 | 936.452        | 74011.8\n",
       "Connecticut          | 41.5562  | 1028.19 | 818.236 | 913.7        | 351949          | 0.00111706            | 578.05       | 1.25398    | 44124           | 3462.45 | 2189.37 | 525.578        | 32469.4\n",
       "Delaware             | 17.1716  | 327.918 | 295.961 | 377.99       | 119681          | 0.0168793             | 210.97       | 0.470501   | 20306.8         | 1351.21 | 983.39  | 1945.1         | 11821.5\n",
       "District Of Columbia | 6.61357  | 164.15  | 93.6669 | 170.09       | 45298           | 0                     | 94.51        | 0.00293178 | 6441.83         | 749.123 | 383.402 | 55.69          | 4094.62\n",
       "Florida              | 398.816  | 6701    | 6893.53 | 8861.7       | 2.71932e+06     | 0.0899661             | 4899.66      | 18.556     | 416562          | 31318.6 | 19586.4 | 12531.9        | 257547\n",
       "... (44 rows omitted)"
      ]
     },
     "execution_count": 6,
     "metadata": {},
     "output_type": "execute_result"
    }
   ],
   "source": [
    "#ONLY 2014 DATA AND EMISSIONS IN TONS\n",
    "mobile_emissions = emissions.pivot(\"POLLUTANT\", \"STATE\", values = \"EMISSION_TONS\", collect = sum)\n",
    "mobile_emissions"
   ]
  },
  {
   "cell_type": "code",
   "execution_count": 9,
   "metadata": {},
   "outputs": [],
   "source": [
    "#ONLY 2014 DATA AND EMISSIONS IN TONS\n",
    "acrolein = sum(mobile_emissions[\"Acrolein\"])\n",
    "ammonia = sum(mobile_emissions[\"Ammonia\"])\n",
    "benzene = sum(mobile_emissions[\"Benzene\"])\n",
    "black_carbon = sum(mobile_emissions[\"Black Carbon\"])\n",
    "carbon_monoxide = sum(mobile_emissions[\"Carbon Monoxide\"])\n",
    "chromium_VI_compounds = sum(mobile_emissions[\"Chromium VI Compounds\"])\n",
    "formaldehyde = sum(mobile_emissions[\"Formaldehyde\"])\n",
    "lead = sum(mobile_emissions[\"Lead\"])\n",
    "nitrogen_oxides = sum(mobile_emissions[\"Nitrogen Oxides\"])\n",
    "pm10 = sum(mobile_emissions[\"PM10\"])\n",
    "pm2_5 = sum(mobile_emissions[\"PM2.5\"])\n",
    "sulfur_dioxide = sum(mobile_emissions[\"Sulfur Dioxide\"])\n",
    "volatile_organic_compounds = sum(mobile_emissions[\"Volatile Organic Compounds\"])\n",
    "\n",
    "pollutants_names = np.array([\"Acrolein\", \"Ammonia\", \"Benzene\", \"Black Carbon\", \"Carbon Monoxide\", \"Chromium VI Compounds\", \"Formaldehyde\", \"Lead\", \"Nitrogen Oxides\", \"PM10\", \"PM2.5\", \"Sulfur Dioxide\", \"Volatile Organic Compounds\"])\n",
    "total_pollutants_count = np.array([acrolein, ammonia, benzene, black_carbon, carbon_monoxide, chromium_VI_compounds, formaldehyde, lead, nitrogen_oxides, pm10, pm2_5, sulfur_dioxide, volatile_organic_compounds])\n",
    "total_pollutants = Table().with_columns(\"Compounds\", pollutants_names, r\"Count (in Tons)\", total_pollutants_count)\n"
   ]
  },
  {
   "cell_type": "code",
   "execution_count": 10,
   "metadata": {},
   "outputs": [
    {
     "data": {
      "text/html": [
       "<table border=\"1\" class=\"dataframe\">\n",
       "    <thead>\n",
       "        <tr>\n",
       "            <th>Compounds</th> <th>Proportion</th>\n",
       "        </tr>\n",
       "    </thead>\n",
       "    <tbody>\n",
       "        <tr>\n",
       "            <td>Carbon Monoxide           </td> <td>0.744596  </td>\n",
       "        </tr>\n",
       "        <tr>\n",
       "            <td>Nitrogen Oxides           </td> <td>0.149292  </td>\n",
       "        </tr>\n",
       "        <tr>\n",
       "            <td>Volatile Organic Compounds</td> <td>0.0785339 </td>\n",
       "        </tr>\n",
       "        <tr>\n",
       "            <td>PM10                      </td> <td>0.00970385</td>\n",
       "        </tr>\n",
       "        <tr>\n",
       "            <td>PM2.5                     </td> <td>0.00669196</td>\n",
       "        </tr>\n",
       "        <tr>\n",
       "            <td>Black Carbon              </td> <td>0.0033071 </td>\n",
       "        </tr>\n",
       "        <tr>\n",
       "            <td>Ammonia                   </td> <td>0.00219986</td>\n",
       "        </tr>\n",
       "        <tr>\n",
       "            <td>Benzene                   </td> <td>0.00194082</td>\n",
       "        </tr>\n",
       "        <tr>\n",
       "            <td>Sulfur Dioxide            </td> <td>0.00191816</td>\n",
       "        </tr>\n",
       "        <tr>\n",
       "            <td>Formaldehyde              </td> <td>0.00168612</td>\n",
       "        </tr>\n",
       "    </tbody>\n",
       "</table>\n",
       "<p>... (3 rows omitted)</p>"
      ],
      "text/plain": [
       "Compounds                  | Proportion\n",
       "Carbon Monoxide            | 0.744596\n",
       "Nitrogen Oxides            | 0.149292\n",
       "Volatile Organic Compounds | 0.0785339\n",
       "PM10                       | 0.00970385\n",
       "PM2.5                      | 0.00669196\n",
       "Black Carbon               | 0.0033071\n",
       "Ammonia                    | 0.00219986\n",
       "Benzene                    | 0.00194082\n",
       "Sulfur Dioxide             | 0.00191816\n",
       "Formaldehyde               | 0.00168612\n",
       "... (3 rows omitted)"
      ]
     },
     "execution_count": 10,
     "metadata": {},
     "output_type": "execute_result"
    }
   ],
   "source": [
    "#normalize\n",
    "#ONLY 2014 DATA AND EMISSIONS IN TONS\n",
    "total_pollutants_count_normalized = total_pollutants_count/sum(total_pollutants_count)\n",
    "total_pollutants = total_pollutants = Table().with_columns(\"Compounds\", pollutants_names, r\"Count (in Tons)\", total_pollutants_count_normalized)\n",
    "total_pollutants_normalized = total_pollutants.sort(r\"Count (in Tons)\", descending = True)\n",
    "total_pollutants_normalized = total_pollutants_normalized.relabeled(r\"Count (in Tons)\", \"Proportion\")\n",
    "total_pollutants_normalized"
   ]
  },
  {
   "cell_type": "code",
   "execution_count": 11,
   "metadata": {},
   "outputs": [
    {
     "data": {
      "text/html": [
       "<table border=\"1\" class=\"dataframe\">\n",
       "    <thead>\n",
       "        <tr>\n",
       "            <th>Gas/Source</th> <th>1990</th> <th>1991</th> <th>1992</th> <th>1993</th> <th>1994</th> <th>1995</th> <th>1996</th> <th>1997</th> <th>1998</th> <th>1999</th> <th>2000</th> <th>2001</th> <th>2002</th> <th>2003</th> <th>2004</th> <th>2005</th> <th>2006</th> <th>2007</th> <th>2008</th> <th>2009</th> <th>2010</th> <th>2011</th> <th>2012</th> <th>2013</th> <th>2014</th> <th>Unnamed: 26</th>\n",
       "        </tr>\n",
       "    </thead>\n",
       "    <tbody>\n",
       "        <tr>\n",
       "            <td>Transportation</td> <td>1,493,758</td> <td>1,447,602</td> <td>1,496,852</td> <td>1,532,412</td> <td>1,576,980</td> <td>1,609,862</td> <td>1,654,302</td> <td>1,670,141</td> <td>1,706,636</td> <td>1,761,057</td> <td>1,805,460</td> <td>1,789,429</td> <td>1,830,641</td> <td>1,822,261</td> <td>1,867,141</td> <td>1,887,033</td> <td>1,882,633</td> <td>1,886,149</td> <td>1,791,798</td> <td>1,716,966</td> <td>1,728,267</td> <td>1,707,631</td> <td>1,696,752</td> <td>1,713,008</td> <td>1,737,598</td> <td>nan        </td>\n",
       "        </tr>\n",
       "    </tbody>\n",
       "</table>"
      ],
      "text/plain": [
       "Gas/Source     | 1990      | 1991      | 1992      | 1993      | 1994      | 1995      | 1996      | 1997      | 1998      | 1999      | 2000      | 2001      | 2002      | 2003      | 2004      | 2005      | 2006      | 2007      | 2008      | 2009      | 2010      | 2011      | 2012      | 2013      | 2014      | Unnamed: 26\n",
       "Transportation | 1,493,758 | 1,447,602 | 1,496,852 | 1,532,412 | 1,576,980 | 1,609,862 | 1,654,302 | 1,670,141 | 1,706,636 | 1,761,057 | 1,805,460 | 1,789,429 | 1,830,641 | 1,822,261 | 1,867,141 | 1,887,033 | 1,882,633 | 1,886,149 | 1,791,798 | 1,716,966 | 1,728,267 | 1,707,631 | 1,696,752 | 1,713,008 | 1,737,598 | nan"
      ]
     },
     "execution_count": 11,
     "metadata": {},
     "output_type": "execute_result"
    }
   ],
   "source": [
    "#ALL YEARS IN KILOTONS\n",
    "all_years = pd.read_csv(r\"C:\\Users\\19177\\Documents\\UChicago\\CS 181\\Final Project\\2016_chapter_tables_1 (all years, overall for US)\\Chapter Tables\\Chapter 2 - Trends\\Table 2-2.csv\")\n",
    "all_years = Table.from_df(all_years)\n",
    "all_years.where(\"Gas/Source\", \"Transportation\")"
   ]
  },
  {
   "cell_type": "code",
   "execution_count": 16,
   "metadata": {},
   "outputs": [
    {
     "data": {
      "text/plain": [
       "Text(0.5, 1.0, 'Change in Transportation-derived Emissions in the US \\nBetween 1990 and 2015 EPA')"
      ]
     },
     "execution_count": 16,
     "metadata": {},
     "output_type": "execute_result"
    }
   ],
   "source": [
    "all_years2 = Table().with_columns(\"Years\", [1990,1991,1992,1993,1994,1995,1996,1997,1998,1999,2000,2001,2002,2003,2004,2005,2006,2007,2008,2009,2010,2011,2012,2013,2014], \"Kilotons of Emissions from Transportation\", [1493758,1447602,1496852,1532412,1576980,1609862,1654302,1670141,1706636,1761057,1805460,1789429,1830641,1822261,1867141,1887033,1882633,1886149,1791798,1716966,1728267,1707631,1696752,1713008,1737598])\n",
    "plt.plot(all_years2.column(\"Years\"), all_years2.column(\"Kilotons of Emissions from Transportation\"))\n",
    "plt.xlabel(\"Years\")\n",
    "plt.ylabel(\"Kilotons of Emissions \\nfrom Transportation\")\n",
    "plt.title(\"Change in Transportation-derived Emissions in the US \\nBetween 1990 and 2015 EPA\")"
   ]
  },
  {
   "cell_type": "code",
   "execution_count": 15,
   "metadata": {},
   "outputs": [
    {
     "data": {
      "text/plain": [
       "Text(0, 0.5, 'Amount in Millions of Short Tons')"
      ]
     },
     "execution_count": 15,
     "metadata": {},
     "output_type": "execute_result"
    }
   ],
   "source": [
    "#CARBON MONOXIDE EMISSIONS OVER TIME IN US\n",
    "carb_mon_em = pd.read_csv(r\"C:\\Users\\19177\\Documents\\UChicago\\CS 181\\Final Project\\CO_Emissions_US.csv\")\n",
    "carb_mon_em = Table.from_df(carb_mon_em)\n",
    "\n",
    "carb_mon_em = carb_mon_em.take([1, 2])\n",
    "carb_mon_em = carb_mon_em.relabeled(\"(R) 2015\", \"2015\").relabeled(\"(R) 2016\", \"2016\").relabeled(\"(R) 2017\", \"2017\").relabeled(\"(R) 2018\", \"2018\").relabeled(\"Unnamed: 0\", \"Source\")\n",
    "highway_veh = np.array([110.26,104.98,99.71,94.43,89.16,83.88,78.61,75.85,73.24,68.71,68.06,63.48,51.61,48.68,45.7,42.83,40.05,37.27,33.16,27.44,28.24,27.36,26.38,25.41,24.44,23.35,20.14,19.51,17.79,16.87])\n",
    "off_highway = np.array([21.45,21.93,22.42,22.9,23.39,23.87,24.36,23.67,23.69,23.32,24.18,24.68,22.62,22.38,22.14,21.9,20.37,18.84,17.88,15.92,15.35,14.95,14.39,13.82,13.26,12.69,11.66,11.55,11.58,11.58])\n",
    "carb_mon_em_new = Table().with_columns(\"Years\", [1990,1991,1992,1993,1994,1995,1996,1997,1998,1999,2000,2001,2002,2003,2004,2005,2006,2007,2008,2009,2010,2011,2012,2013,2014,2015,2016,2017,2018,2019], \"Highway Vehicles\", highway_veh, \"Off Highway\", off_highway, \"Total\", highway_veh+off_highway)\n",
    "\n",
    "carb_mon_em_new\n",
    "\n",
    "fig = plt.figure()\n",
    "ax = fig.add_axes([0,0,1,1])\n",
    "fig.patch.set_facecolor('#fefcff')\n",
    "ax.set_facecolor('white')\n",
    "\n",
    "\n",
    "plt.plot(carb_mon_em_new.column(\"Years\"), carb_mon_em_new.column(\"Total\"), color='#6801A6')\n",
    "plt.title(\"US Carbon Monoxide Emissions \\nfrom Transportation Vehicles over Time\")\n",
    "plt.xlabel(\"Years\")\n",
    "plt.ylabel(\"Amount in Millions of Short Tons\")"
   ]
  },
  {
   "cell_type": "code",
   "execution_count": 204,
   "metadata": {},
   "outputs": [
    {
     "data": {
      "text/html": [
       "<table border=\"1\" class=\"dataframe\">\n",
       "    <thead>\n",
       "        <tr>\n",
       "            <th>Gas/Source</th> <th>1990</th> <th>1991</th> <th>1992</th> <th>1993</th> <th>1994</th> <th>1995</th> <th>1996</th> <th>1997</th> <th>1998</th> <th>1999</th> <th>2000</th> <th>2001</th> <th>2002</th> <th>2003</th> <th>2004</th> <th>2005</th> <th>2006</th> <th>2007</th> <th>2008</th> <th>2009</th> <th>2010</th> <th>2011</th> <th>2012</th> <th>2013</th> <th>2014</th> <th>Unnamed: 26</th>\n",
       "        </tr>\n",
       "    </thead>\n",
       "    <tbody>\n",
       "        <tr>\n",
       "            <td>Transportation   </td> <td>1,493,758</td> <td>1,447,602</td> <td>1,496,852</td> <td>1,532,412</td> <td>1,576,980</td> <td>1,609,862</td> <td>1,654,302</td> <td>1,670,141</td> <td>1,706,636</td> <td>1,761,057</td> <td>1,805,460</td> <td>1,789,429</td> <td>1,830,641</td> <td>1,822,261</td> <td>1,867,141</td> <td>1,887,033</td> <td>1,882,633</td> <td>1,886,149</td> <td>1,791,798</td> <td>1,716,966</td> <td>1,728,267</td> <td>1,707,631</td> <td>1,696,752</td> <td>1,713,008</td> <td>1,737,598</td> <td>nan        </td>\n",
       "        </tr>\n",
       "        <tr>\n",
       "            <td>Mobile Combustion</td> <td>226      </td> <td>220      </td> <td>219      </td> <td>216      </td> <td>212      </td> <td>206      </td> <td>198      </td> <td>191      </td> <td>183      </td> <td>159      </td> <td>149      </td> <td>138      </td> <td>128      </td> <td>119      </td> <td>115      </td> <td>110      </td> <td>106      </td> <td>100      </td> <td>95       </td> <td>92       </td> <td>91       </td> <td>90       </td> <td>86       </td> <td>84       </td> <td>82       </td> <td>nan        </td>\n",
       "        </tr>\n",
       "        <tr>\n",
       "            <td>Mobile Combustion</td> <td>138      </td> <td>145      </td> <td>155      </td> <td>161      </td> <td>167      </td> <td>172      </td> <td>175      </td> <td>178      </td> <td>178      </td> <td>168      </td> <td>164      </td> <td>151      </td> <td>141      </td> <td>130      </td> <td>124      </td> <td>115      </td> <td>108      </td> <td>95       </td> <td>87       </td> <td>82       </td> <td>79       </td> <td>75       </td> <td>67       </td> <td>61       </td> <td>55       </td> <td>nan        </td>\n",
       "        </tr>\n",
       "        <tr>\n",
       "            <td>nan              </td> <td>nan      </td> <td>nan      </td> <td>nan      </td> <td>nan      </td> <td>nan      </td> <td>nan      </td> <td>nan      </td> <td>nan      </td> <td>nan      </td> <td>nan      </td> <td>nan      </td> <td>nan      </td> <td>nan      </td> <td>nan      </td> <td>nan      </td> <td>nan      </td> <td>nan      </td> <td>nan      </td> <td>nan      </td> <td>nan      </td> <td>nan      </td> <td>nan      </td> <td>nan      </td> <td>nan      </td> <td>nan      </td> <td>nan        </td>\n",
       "        </tr>\n",
       "        <tr>\n",
       "            <td>nan              </td> <td>nan      </td> <td>nan      </td> <td>nan      </td> <td>nan      </td> <td>nan      </td> <td>nan      </td> <td>nan      </td> <td>nan      </td> <td>nan      </td> <td>nan      </td> <td>nan      </td> <td>nan      </td> <td>nan      </td> <td>nan      </td> <td>nan      </td> <td>nan      </td> <td>nan      </td> <td>nan      </td> <td>nan      </td> <td>nan      </td> <td>nan      </td> <td>nan      </td> <td>nan      </td> <td>nan      </td> <td>nan      </td> <td>nan        </td>\n",
       "        </tr>\n",
       "        <tr>\n",
       "            <td>nan              </td> <td>nan      </td> <td>nan      </td> <td>nan      </td> <td>nan      </td> <td>nan      </td> <td>nan      </td> <td>nan      </td> <td>nan      </td> <td>nan      </td> <td>nan      </td> <td>nan      </td> <td>nan      </td> <td>nan      </td> <td>nan      </td> <td>nan      </td> <td>nan      </td> <td>nan      </td> <td>nan      </td> <td>nan      </td> <td>nan      </td> <td>nan      </td> <td>nan      </td> <td>nan      </td> <td>nan      </td> <td>nan      </td> <td>nan        </td>\n",
       "        </tr>\n",
       "        <tr>\n",
       "            <td>nan              </td> <td>nan      </td> <td>nan      </td> <td>nan      </td> <td>nan      </td> <td>nan      </td> <td>nan      </td> <td>nan      </td> <td>nan      </td> <td>nan      </td> <td>nan      </td> <td>nan      </td> <td>nan      </td> <td>nan      </td> <td>nan      </td> <td>nan      </td> <td>nan      </td> <td>nan      </td> <td>nan      </td> <td>nan      </td> <td>nan      </td> <td>nan      </td> <td>nan      </td> <td>nan      </td> <td>nan      </td> <td>nan      </td> <td>nan        </td>\n",
       "        </tr>\n",
       "        <tr>\n",
       "            <td>nan              </td> <td>nan      </td> <td>nan      </td> <td>nan      </td> <td>nan      </td> <td>nan      </td> <td>nan      </td> <td>nan      </td> <td>nan      </td> <td>nan      </td> <td>nan      </td> <td>nan      </td> <td>nan      </td> <td>nan      </td> <td>nan      </td> <td>nan      </td> <td>nan      </td> <td>nan      </td> <td>nan      </td> <td>nan      </td> <td>nan      </td> <td>nan      </td> <td>nan      </td> <td>nan      </td> <td>nan      </td> <td>nan      </td> <td>nan        </td>\n",
       "        </tr>\n",
       "        <tr>\n",
       "            <td>nan              </td> <td>nan      </td> <td>nan      </td> <td>nan      </td> <td>nan      </td> <td>nan      </td> <td>nan      </td> <td>nan      </td> <td>nan      </td> <td>nan      </td> <td>nan      </td> <td>nan      </td> <td>nan      </td> <td>nan      </td> <td>nan      </td> <td>nan      </td> <td>nan      </td> <td>nan      </td> <td>nan      </td> <td>nan      </td> <td>nan      </td> <td>nan      </td> <td>nan      </td> <td>nan      </td> <td>nan      </td> <td>nan      </td> <td>nan        </td>\n",
       "        </tr>\n",
       "        <tr>\n",
       "            <td>nan              </td> <td>nan      </td> <td>nan      </td> <td>nan      </td> <td>nan      </td> <td>nan      </td> <td>nan      </td> <td>nan      </td> <td>nan      </td> <td>nan      </td> <td>nan      </td> <td>nan      </td> <td>nan      </td> <td>nan      </td> <td>nan      </td> <td>nan      </td> <td>nan      </td> <td>nan      </td> <td>nan      </td> <td>nan      </td> <td>nan      </td> <td>nan      </td> <td>nan      </td> <td>nan      </td> <td>nan      </td> <td>nan      </td> <td>nan        </td>\n",
       "        </tr>\n",
       "    </tbody>\n",
       "</table>\n",
       "<p>... (46 rows omitted)</p>"
      ],
      "text/plain": [
       "Gas/Source        | 1990      | 1991      | 1992      | 1993      | 1994      | 1995      | 1996      | 1997      | 1998      | 1999      | 2000      | 2001      | 2002      | 2003      | 2004      | 2005      | 2006      | 2007      | 2008      | 2009      | 2010      | 2011      | 2012      | 2013      | 2014      | Unnamed: 26\n",
       "Transportation    | 1,493,758 | 1,447,602 | 1,496,852 | 1,532,412 | 1,576,980 | 1,609,862 | 1,654,302 | 1,670,141 | 1,706,636 | 1,761,057 | 1,805,460 | 1,789,429 | 1,830,641 | 1,822,261 | 1,867,141 | 1,887,033 | 1,882,633 | 1,886,149 | 1,791,798 | 1,716,966 | 1,728,267 | 1,707,631 | 1,696,752 | 1,713,008 | 1,737,598 | nan\n",
       "Mobile Combustion | 226       | 220       | 219       | 216       | 212       | 206       | 198       | 191       | 183       | 159       | 149       | 138       | 128       | 119       | 115       | 110       | 106       | 100       | 95        | 92        | 91        | 90        | 86        | 84        | 82        | nan\n",
       "Mobile Combustion | 138       | 145       | 155       | 161       | 167       | 172       | 175       | 178       | 178       | 168       | 164       | 151       | 141       | 130       | 124       | 115       | 108       | 95        | 87        | 82        | 79        | 75        | 67        | 61        | 55        | nan\n",
       "nan               | nan       | nan       | nan       | nan       | nan       | nan       | nan       | nan       | nan       | nan       | nan       | nan       | nan       | nan       | nan       | nan       | nan       | nan       | nan       | nan       | nan       | nan       | nan       | nan       | nan       | nan\n",
       "nan               | nan       | nan       | nan       | nan       | nan       | nan       | nan       | nan       | nan       | nan       | nan       | nan       | nan       | nan       | nan       | nan       | nan       | nan       | nan       | nan       | nan       | nan       | nan       | nan       | nan       | nan\n",
       "nan               | nan       | nan       | nan       | nan       | nan       | nan       | nan       | nan       | nan       | nan       | nan       | nan       | nan       | nan       | nan       | nan       | nan       | nan       | nan       | nan       | nan       | nan       | nan       | nan       | nan       | nan\n",
       "nan               | nan       | nan       | nan       | nan       | nan       | nan       | nan       | nan       | nan       | nan       | nan       | nan       | nan       | nan       | nan       | nan       | nan       | nan       | nan       | nan       | nan       | nan       | nan       | nan       | nan       | nan\n",
       "nan               | nan       | nan       | nan       | nan       | nan       | nan       | nan       | nan       | nan       | nan       | nan       | nan       | nan       | nan       | nan       | nan       | nan       | nan       | nan       | nan       | nan       | nan       | nan       | nan       | nan       | nan\n",
       "nan               | nan       | nan       | nan       | nan       | nan       | nan       | nan       | nan       | nan       | nan       | nan       | nan       | nan       | nan       | nan       | nan       | nan       | nan       | nan       | nan       | nan       | nan       | nan       | nan       | nan       | nan\n",
       "nan               | nan       | nan       | nan       | nan       | nan       | nan       | nan       | nan       | nan       | nan       | nan       | nan       | nan       | nan       | nan       | nan       | nan       | nan       | nan       | nan       | nan       | nan       | nan       | nan       | nan       | nan\n",
       "... (46 rows omitted)"
      ]
     },
     "execution_count": 204,
     "metadata": {},
     "output_type": "execute_result"
    }
   ],
   "source": []
  },
  {
   "cell_type": "code",
   "execution_count": 502,
   "metadata": {},
   "outputs": [
    {
     "data": {
      "text/html": [
       "<table border=\"1\" class=\"dataframe\">\n",
       "    <thead>\n",
       "        <tr>\n",
       "            <th>Statefip</th> <th>State</th> <th>1990</th> <th>2018</th>\n",
       "        </tr>\n",
       "    </thead>\n",
       "    <tbody>\n",
       "        <tr>\n",
       "            <td>01      </td> <td>AL   </td> <td>2661.17</td> <td>668.663</td>\n",
       "        </tr>\n",
       "        <tr>\n",
       "            <td>02      </td> <td>AK   </td> <td>327.679</td> <td>108.09 </td>\n",
       "        </tr>\n",
       "        <tr>\n",
       "            <td>04      </td> <td>AZ   </td> <td>2047.74</td> <td>592.16 </td>\n",
       "        </tr>\n",
       "        <tr>\n",
       "            <td>05      </td> <td>AR   </td> <td>1357.53</td> <td>357.553</td>\n",
       "        </tr>\n",
       "        <tr>\n",
       "            <td>06      </td> <td>CA   </td> <td>14176  </td> <td>1323.66</td>\n",
       "        </tr>\n",
       "        <tr>\n",
       "            <td>08      </td> <td>CO   </td> <td>2130.68</td> <td>589.039</td>\n",
       "        </tr>\n",
       "        <tr>\n",
       "            <td>09      </td> <td>CT   </td> <td>1504.76</td> <td>251.057</td>\n",
       "        </tr>\n",
       "        <tr>\n",
       "            <td>10      </td> <td>DE   </td> <td>400.852</td> <td>110.292</td>\n",
       "        </tr>\n",
       "        <tr>\n",
       "            <td>11      </td> <td>DC   </td> <td>155.221</td> <td>31.1061</td>\n",
       "        </tr>\n",
       "        <tr>\n",
       "            <td>12      </td> <td>FL   </td> <td>6836.09</td> <td>2247.21</td>\n",
       "        </tr>\n",
       "    </tbody>\n",
       "</table>\n",
       "<p>... (41 rows omitted)</p>"
      ],
      "text/plain": [
       "Statefip | State | 1990    | 2018\n",
       "01       | AL    | 2661.17 | 668.663\n",
       "02       | AK    | 327.679 | 108.09\n",
       "04       | AZ    | 2047.74 | 592.16\n",
       "05       | AR    | 1357.53 | 357.553\n",
       "06       | CA    | 14176   | 1323.66\n",
       "08       | CO    | 2130.68 | 589.039\n",
       "09       | CT    | 1504.76 | 251.057\n",
       "10       | DE    | 400.852 | 110.292\n",
       "11       | DC    | 155.221 | 31.1061\n",
       "12       | FL    | 6836.09 | 2247.21\n",
       "... (41 rows omitted)"
      ]
     },
     "execution_count": 502,
     "metadata": {},
     "output_type": "execute_result"
    }
   ],
   "source": [
    "#DATA FROM ALL STATES, MANY YEARS, CARBON DIOXIDE ONLY\n",
    "#DO STATES HEATMAP, CHANGE FROM EARLIEST TO LATEST YEAR, 2 PLOTS\n",
    "all_states_years = pd.read_csv(r\"C:\\Users\\19177\\Documents\\UChicago\\CS 181\\Final Project\\all_states_years.csv\")\n",
    "all_states_years = Table.from_df(all_states_years)\n",
    "t1 = all_states_years.where(\"Unnamed: 3\", \"CO\").where(\"Unnamed: 2\", \"HIGHWAY VEHICLES\")\n",
    "t2 = all_states_years.where(\"Unnamed: 3\", \"CO\").where(\"Unnamed: 2\", \"OFF-HIGHWAY\")\n",
    "#NO 1990\n",
    "\n",
    "# t2 = t2.drop(\"Unnamed: 4\")\n",
    "# t1 = t1.drop(\"Unnamed: 4\")\n",
    "\n",
    "highway_veh_CO_all_st = t1.relabeled(\"Unnamed: 4\", \"1990\").relabeled(\"Unnamed: 5\", \"1996\").relabeled(\"Unnamed: 6\", \"1997\").relabeled(\"Unnamed: 7\", \"1998\").relabeled(\"Unnamed: 8\", \"1999\").relabeled(\"Unnamed: 9\", \"2000\").relabeled(\"Unnamed: 10\", \"2001\").relabeled(\"Unnamed: 11\", \"2002\").relabeled(\"Unnamed: 12\", \"2003\").relabeled(\"Unnamed: 13\", \"2004\").relabeled(\"Unnamed: 14\", \"2005\").relabeled(\"Unnamed: 15\", \"2006\").relabeled(\"Unnamed: 16\", \"2007\").relabeled(\"Unnamed: 17\", \"2008\").relabeled(\"Unnamed: 18\", \"2009\").relabeled(\"Unnamed: 19\", \"2010\").relabeled(\"Unnamed: 20\", \"2011\").relabeled(\"Unnamed: 21\", \"2012\").relabeled(\"Unnamed: 22\", \"2013\").relabeled(\"Unnamed: 23\", \"2013\").relabeled(\"Unnamed: 24\", \"2014\").relabeled(\"Unnamed: 25\", \"2015\").relabeled(\"Unnamed: 26\", \"2016\").relabeled(\"Unnamed: 27\", \"2017\").relabeled(\"Unnamed: 28\", \"2018\").drop(\"Unnamed: 3\").drop(\"Unnamed: 2\").relabeled(\"Emissions in 1000 / tons\", \"Statefip\").relabeled(\"Unnamed: 1\", \"State\")\n",
    "\n",
    "off_highway_veh_CO_all_st = t2.relabeled(\"Unnamed: 4\", \"1990\").relabeled(\"Unnamed: 5\", \"1996\").relabeled(\"Unnamed: 6\", \"1997\").relabeled(\"Unnamed: 7\", \"1998\").relabeled(\"Unnamed: 8\", \"1999\").relabeled(\"Unnamed: 9\", \"2000\").relabeled(\"Unnamed: 10\", \"2001\").relabeled(\"Unnamed: 11\", \"2002\").relabeled(\"Unnamed: 12\", \"2003\").relabeled(\"Unnamed: 13\", \"2004\").relabeled(\"Unnamed: 14\", \"2005\").relabeled(\"Unnamed: 15\", \"2006\").relabeled(\"Unnamed: 16\", \"2007\").relabeled(\"Unnamed: 17\", \"2008\").relabeled(\"Unnamed: 18\", \"2009\").relabeled(\"Unnamed: 19\", \"2010\").relabeled(\"Unnamed: 20\", \"2011\").relabeled(\"Unnamed: 21\", \"2012\").relabeled(\"Unnamed: 22\", \"2013\").relabeled(\"Unnamed: 23\", \"2013\").relabeled(\"Unnamed: 24\", \"2014\").relabeled(\"Unnamed: 25\", \"2015\").relabeled(\"Unnamed: 26\", \"2016\").relabeled(\"Unnamed: 27\", \"2017\").relabeled(\"Unnamed: 28\", \"2018\").drop(\"Unnamed: 3\").drop(\"Unnamed: 2\").relabeled(\"Emissions in 1000 / tons\", \"Statefip\").relabeled(\"Unnamed: 1\", \"State\")\n",
    "off_highway_veh_CO_all_st\n",
    "# add up vals\n",
    "\n",
    "t1990 = highway_veh_CO_all_st.column(\"1990\") + off_highway_veh_CO_all_st.column(\"1990\")\n",
    "t1996 = highway_veh_CO_all_st.column(\"1996\") + off_highway_veh_CO_all_st.column(\"1996\")\n",
    "t1997 = highway_veh_CO_all_st.column(\"1997\") + off_highway_veh_CO_all_st.column(\"1997\")\n",
    "t1998 = highway_veh_CO_all_st.column(\"1998\") + off_highway_veh_CO_all_st.column(\"1998\")\n",
    "t1999 = highway_veh_CO_all_st.column(\"1999\") + off_highway_veh_CO_all_st.column(\"1999\")\n",
    "t2000 = highway_veh_CO_all_st.column(\"2000\") + off_highway_veh_CO_all_st.column(\"2000\")\n",
    "t2001 = highway_veh_CO_all_st.column(\"2001\") + off_highway_veh_CO_all_st.column(\"2001\")\n",
    "t2002 = highway_veh_CO_all_st.column(\"2002\") + off_highway_veh_CO_all_st.column(\"2002\")\n",
    "t2003 = highway_veh_CO_all_st.column(\"2003\") + off_highway_veh_CO_all_st.column(\"2003\")\n",
    "t2004 = highway_veh_CO_all_st.column(\"2004\") + off_highway_veh_CO_all_st.column(\"2004\")\n",
    "t2005 = highway_veh_CO_all_st.column(\"2005\") + off_highway_veh_CO_all_st.column(\"2005\")\n",
    "t2006 = highway_veh_CO_all_st.column(\"2006\") + off_highway_veh_CO_all_st.column(\"2006\")\n",
    "t2007 = highway_veh_CO_all_st.column(\"2007\") + off_highway_veh_CO_all_st.column(\"2007\")\n",
    "t2008 = highway_veh_CO_all_st.column(\"2008\") + off_highway_veh_CO_all_st.column(\"2008\")\n",
    "t2009 = highway_veh_CO_all_st.column(\"2009\") + off_highway_veh_CO_all_st.column(\"2009\")\n",
    "t2010 = highway_veh_CO_all_st.column(\"2010\") + off_highway_veh_CO_all_st.column(\"2010\")\n",
    "t2011 = highway_veh_CO_all_st.column(\"2011\") + off_highway_veh_CO_all_st.column(\"2011\")\n",
    "t2012 = highway_veh_CO_all_st.column(\"2012\") + off_highway_veh_CO_all_st.column(\"2012\")\n",
    "t2013 = highway_veh_CO_all_st.column(\"2013\") + off_highway_veh_CO_all_st.column(\"2013\")\n",
    "t2014 = highway_veh_CO_all_st.column(\"2014\") + off_highway_veh_CO_all_st.column(\"2014\")\n",
    "t2015 = highway_veh_CO_all_st.column(\"2015\") + off_highway_veh_CO_all_st.column(\"2015\")\n",
    "t2016 = highway_veh_CO_all_st.column(\"2016\") + off_highway_veh_CO_all_st.column(\"2016\")\n",
    "t2017 = highway_veh_CO_all_st.column(\"2017\") + off_highway_veh_CO_all_st.column(\"2017\")\n",
    "t2018 = highway_veh_CO_all_st.column(\"2018\") + off_highway_veh_CO_all_st.column(\"2018\")\n",
    "# t2019 = highway_veh_CO_all_st.column(\"2019\") + off_highway_veh_CO_all_st.column(\"2019\")\n",
    "\n",
    "tfinal = Table().with_columns(\"Statefip\", off_highway_veh_CO_all_st.column(\"Statefip\"), \"State\", off_highway_veh_CO_all_st.column(\"State\"), \"1990\", t1990, \"1996\",t1996, \"1997\", t1997, \"1998\", t1998, \"1999\", t1999,\"2000\", t2000, \"2001\", t2001, \"2002\", t2002, \"2003\", t2003, \"2004\", t2004, \"2005\", t2005, \"2006\", t2006, \"2007\", t2007, \"2008\", t2008, \"2009\", t2009, \"2010\", t2010, \"2011\", t2011, \"2012\", t2012, \"2013\", t2013, \"2014\", t2014, \"2015\", t2015, \"2016\", t2016, \"2017\", t2017, \"2018\", t2018)\n",
    "# #total CO emissions from all states, all years\n",
    "# #BUILD HEATMAPS FOR BOTH OF THESE\n",
    "for_heat_map_1990 = tfinal.select([\"Statefip\", \"State\", \"1990\", \"2018\"])\n",
    "for_heat_map_2018 = tfinal.select([\"Statefip\", \"State\", \"2018\"])\n",
    "for_heat_map_1990"
   ]
  },
  {
   "cell_type": "code",
   "execution_count": null,
   "metadata": {},
   "outputs": [],
   "source": [
    "# 1990: EPA imposes limits on diesel fuel sulfur content to help buses and trucks meet the 1985 emission standards (which become effective in the early 1990s).\n",
    "\n",
    "# Congress amends the Clean Air Act to require further reductions in HC, CO, NOx, and PM emissions. The amendments also introduce lower tailpipe standards; more stringent emission testing procedures; expanded I/M programs; new vehicle technologies and clean fuels programs; and transportation management provisions. The 1990 amendments also give EPA, for the first time, specific authority to regulate emissions from nonroad engines and vehicles.\n",
    "\n",
    "# The amendments include fuel provisions that require oxygenated gasoline, which reduces emissions of CO, to be sold in areas that do not meet air quality standards for the pollutant. In addition, the Amendments require reformulated gasoline, which reduces emissions of volatile organic compounds and hazardous air pollutants (or “air toxics”), to be sold in the nine worst areas that do not meet the minimum national air quality standards for ozone."
   ]
  },
  {
   "cell_type": "code",
   "execution_count": 485,
   "metadata": {},
   "outputs": [
    {
     "name": "stdout",
     "output_type": "stream",
     "text": [
      "{'01': 'AL', '02': 'AK', '04': 'AZ', '05': 'AR', '06': 'CA', '08': 'CO', '09': 'CT', '10': 'DE', '12': 'FL', '13': 'GA', '15': 'HI', '16': 'ID', '17': 'IL', '18': 'IN', '19': 'IA', '20': 'KS', '21': 'KY', '22': 'LA', '23': 'ME', '24': 'MD', '25': 'MA', '26': 'MI', '27': 'MN', '28': 'MS', '29': 'MO', '30': 'MT', '31': 'NE', '32': 'NV', '33': 'NH', '34': 'NJ', '35': 'NM', '36': 'NY', '37': 'NC', '38': 'ND', '39': 'OH', '40': 'OK', '41': 'OR', '42': 'PA', '44': 'RI', '45': 'SC', '46': 'SD', '47': 'TN', '48': 'TX', '49': 'UT', '50': 'VT', '51': 'VA', '53': 'WA', '54': 'WV', '55': 'WI', '56': 'WY', '60': 'AS', '66': 'GU', '69': 'MP', '72': 'PR', '78': 'VI', '11': 'DC', None: 'PI'}\n"
     ]
    }
   ],
   "source": [
    "import plotly \n",
    "import us\n",
    "dt = us.states.mapping('fips', 'abbr')\n",
    "print(dt)"
   ]
  },
  {
   "cell_type": "code",
   "execution_count": 486,
   "metadata": {},
   "outputs": [
    {
     "data": {
      "text/plain": [
       "array([('01', 1), ('02', 1), ('04', 1), ('05', 1), ('06', 1), ('08', 1),\n",
       "       ('09', 1), ('10', 1), ('11', 1), ('12', 1), ('13', 1), ('15', 1),\n",
       "       ('16', 1), ('17', 1), ('18', 1), ('19', 1), ('20', 1), ('21', 1),\n",
       "       ('22', 1), ('23', 1), ('24', 1), ('25', 1), ('26', 1), ('27', 1),\n",
       "       ('28', 1), ('29', 1), ('30', 1), ('31', 1), ('32', 1), ('33', 1),\n",
       "       ('34', 1), ('35', 1), ('36', 1), ('37', 1), ('38', 1), ('39', 1),\n",
       "       ('40', 1), ('41', 1), ('42', 1), ('44', 1), ('45', 1), ('46', 1),\n",
       "       ('47', 1), ('48', 1), ('49', 1), ('50', 1), ('51', 1), ('53', 1),\n",
       "       ('54', 1), ('55', 1), ('56', 1)],\n",
       "      dtype=[('Statefip', '<U2'), ('count', '<i4')])"
      ]
     },
     "execution_count": 486,
     "metadata": {},
     "output_type": "execute_result"
    }
   ],
   "source": [
    "state_vals = for_heat_map_1990.group('Statefip').to_array()\n",
    "state_vals"
   ]
  },
  {
   "cell_type": "code",
   "execution_count": 489,
   "metadata": {},
   "outputs": [
    {
     "name": "stdout",
     "output_type": "stream",
     "text": [
      "['01', '02', '04', '05', '06', '08', '09', '10', '11', '12', '13', '15', '16', '17', '18', '19', '20', '21', '22', '23', '24', '25', '26', '27', '28', '29', '30', '31', '32', '33', '34', '35', '36', '37', '38', '39', '40', '41', '42', '44', '45', '46', '47', '48', '49', '50', '51', '53', '54', '55', '56']\n"
     ]
    }
   ],
   "source": [
    "fips = [i[0] for i in state_vals]\n",
    "print(fips)"
   ]
  },
  {
   "cell_type": "code",
   "execution_count": 490,
   "metadata": {},
   "outputs": [],
   "source": [
    "fips = [i[0] for i in state_vals]\n",
    "solutions = []\n",
    "for i in fips:\n",
    "    for key, value in dt.items():\n",
    "        \n",
    "        if i == key:\n",
    "            solutions.append(value)"
   ]
  },
  {
   "cell_type": "code",
   "execution_count": 491,
   "metadata": {},
   "outputs": [
    {
     "name": "stdout",
     "output_type": "stream",
     "text": [
      "['AL', 'AK', 'AZ', 'AR', 'CA', 'CO', 'CT', 'DE', 'DC', 'FL', 'GA', 'HI', 'ID', 'IL', 'IN', 'IA', 'KS', 'KY', 'LA', 'ME', 'MD', 'MA', 'MI', 'MN', 'MS', 'MO', 'MT', 'NE', 'NV', 'NH', 'NJ', 'NM', 'NY', 'NC', 'ND', 'OH', 'OK', 'OR', 'PA', 'RI', 'SC', 'SD', 'TN', 'TX', 'UT', 'VT', 'VA', 'WA', 'WV', 'WI', 'WY']\n"
     ]
    }
   ],
   "source": [
    "print(solutions)"
   ]
  },
  {
   "cell_type": "code",
   "execution_count": 555,
   "metadata": {},
   "outputs": [
    {
     "data": {
      "text/html": [
       "<table border=\"1\" class=\"dataframe\">\n",
       "    <thead>\n",
       "        <tr>\n",
       "            <th>Statefip</th> <th>State</th> <th>1990</th> <th>2018</th> <th>percentsCol</th> <th>percentsCol2</th>\n",
       "        </tr>\n",
       "    </thead>\n",
       "    <tbody>\n",
       "        <tr>\n",
       "            <td>01      </td> <td>AL   </td> <td>2661.17</td> <td>668.663</td> <td>17.873     </td> <td>28.7692     </td>\n",
       "        </tr>\n",
       "        <tr>\n",
       "            <td>02      </td> <td>AK   </td> <td>327.679</td> <td>108.09 </td> <td>1.23002    </td> <td>3.47385     </td>\n",
       "        </tr>\n",
       "        <tr>\n",
       "            <td>04      </td> <td>AZ   </td> <td>2047.74</td> <td>592.16 </td> <td>13.4979    </td> <td>25.3171     </td>\n",
       "        </tr>\n",
       "        <tr>\n",
       "            <td>05      </td> <td>AR   </td> <td>1357.53</td> <td>357.553</td> <td>8.57517    </td> <td>14.7306     </td>\n",
       "        </tr>\n",
       "        <tr>\n",
       "            <td>06      </td> <td>CA   </td> <td>14176  </td> <td>1323.66</td> <td>100        </td> <td>58.3252     </td>\n",
       "        </tr>\n",
       "        <tr>\n",
       "            <td>08      </td> <td>CO   </td> <td>2130.68</td> <td>589.039</td> <td>14.0895    </td> <td>25.1763     </td>\n",
       "        </tr>\n",
       "        <tr>\n",
       "            <td>09      </td> <td>CT   </td> <td>1504.76</td> <td>251.057</td> <td>9.62525    </td> <td>9.92509     </td>\n",
       "        </tr>\n",
       "        <tr>\n",
       "            <td>10      </td> <td>DE   </td> <td>400.852</td> <td>110.292</td> <td>1.7519     </td> <td>3.57318     </td>\n",
       "        </tr>\n",
       "        <tr>\n",
       "            <td>11      </td> <td>DC   </td> <td>155.221</td> <td>31.1061</td> <td>0          </td> <td>0           </td>\n",
       "        </tr>\n",
       "        <tr>\n",
       "            <td>12      </td> <td>FL   </td> <td>6836.09</td> <td>2247.21</td> <td>47.6497    </td> <td>100         </td>\n",
       "        </tr>\n",
       "    </tbody>\n",
       "</table>\n",
       "<p>... (41 rows omitted)</p>"
      ],
      "text/plain": [
       "Statefip | State | 1990    | 2018    | percentsCol | percentsCol2\n",
       "01       | AL    | 2661.17 | 668.663 | 17.873      | 28.7692\n",
       "02       | AK    | 327.679 | 108.09  | 1.23002     | 3.47385\n",
       "04       | AZ    | 2047.74 | 592.16  | 13.4979     | 25.3171\n",
       "05       | AR    | 1357.53 | 357.553 | 8.57517     | 14.7306\n",
       "06       | CA    | 14176   | 1323.66 | 100         | 58.3252\n",
       "08       | CO    | 2130.68 | 589.039 | 14.0895     | 25.1763\n",
       "09       | CT    | 1504.76 | 251.057 | 9.62525     | 9.92509\n",
       "10       | DE    | 400.852 | 110.292 | 1.7519      | 3.57318\n",
       "11       | DC    | 155.221 | 31.1061 | 0           | 0\n",
       "12       | FL    | 6836.09 | 2247.21 | 47.6497     | 100\n",
       "... (41 rows omitted)"
      ]
     },
     "execution_count": 555,
     "metadata": {},
     "output_type": "execute_result"
    }
   ],
   "source": [
    "percents = np.array([])\n",
    "for num in for_heat_map_1990.column(\"1990\"):\n",
    "    new = 100*((num-min(for_heat_map_1990.column(\"1990\")))/(max(for_heat_map_1990.column(\"1990\"))-min(for_heat_map_1990.column(\"1990\"))))\n",
    "    percents = np.append(percents, new)\n",
    "percents2 = np.array([])\n",
    "for num in for_heat_map_1990.column(\"2018\"):\n",
    "    new = 100*((num-min(for_heat_map_1990.column(\"2018\")))/(max(for_heat_map_1990.column(\"2018\"))-min(for_heat_map_1990.column(\"2018\"))))\n",
    "    percents2 = np.append(percents2, new)\n",
    "    \n",
    "for_heat_map_1990 = for_heat_map_1990.with_columns(\"percentsCol\", percents, \"percentsCol2\", percents2)\n",
    "for_heat_map_1990"
   ]
  },
  {
   "cell_type": "code",
   "execution_count": 501,
   "metadata": {},
   "outputs": [
    {
     "data": {
      "application/vnd.plotly.v1+json": {
       "config": {
        "plotlyServerURL": "https://plot.ly"
       },
       "data": [
        {
         "coloraxis": "coloraxis",
         "geo": "geo",
         "hovertemplate": "locations=%{location}<br>Percent Relative to Highest Emissions=%{z}<extra></extra>",
         "locationmode": "USA-states",
         "locations": [
          "AL",
          "AK",
          "AZ",
          "AR",
          "CA",
          "CO",
          "CT",
          "DE",
          "DC",
          "FL",
          "GA",
          "HI",
          "ID",
          "IL",
          "IN",
          "IA",
          "KS",
          "KY",
          "LA",
          "ME",
          "MD",
          "MA",
          "MI",
          "MN",
          "MS",
          "MO",
          "MT",
          "NE",
          "NV",
          "NH",
          "NJ",
          "NM",
          "NY",
          "NC",
          "ND",
          "OH",
          "OK",
          "OR",
          "PA",
          "RI",
          "SC",
          "SD",
          "TN",
          "TX",
          "UT",
          "VT",
          "VA",
          "WA",
          "WV",
          "WI",
          "WY"
         ],
         "name": "",
         "type": "choropleth",
         "z": [
          17.873033139362114,
          1.230018473162357,
          13.497895668755769,
          8.575171787583278,
          100,
          14.089507122133545,
          9.6252475169875,
          1.7519008865863797,
          0,
          47.64966152353832,
          27.73634113252403,
          2.5311795987808825,
          3.839706059207637,
          36.41828481268419,
          21.157807708793293,
          10.67746748686965,
          9.79850391640274,
          13.25117185908839,
          11.954929634249577,
          4.762047777158388,
          16.740088121436678,
          17.98269366564032,
          38.10624854783768,
          19.532018959376586,
          9.873758669203339,
          20.038330880418464,
          3.0282818557663007,
          5.872448457248932,
          4.140188796322962,
          3.7506832769492604,
          22.001699923952497,
          7.543038809160732,
          45.61662577593989,
          26.231731069701603,
          2.2346389291035416,
          38.87720648864058,
          13.436464077726995,
          11.022960230906511,
          36.05572066498866,
          1.890868196179608,
          14.800352225448021,
          2.4978045784760723,
          20.02477232522504,
          66.7407072009786,
          7.361479611630919,
          1.7921315709152503,
          25.062127056998047,
          19.3976732782669,
          5.579830455281993,
          17.394856957050138,
          1.8060993747735974
         ]
        }
       ],
       "layout": {
        "coloraxis": {
         "colorbar": {
          "title": {
           "text": "Percent Relative to Highest Emissions"
          }
         },
         "colorscale": [
          [
           0,
           "#0d0887"
          ],
          [
           0.1111111111111111,
           "#46039f"
          ],
          [
           0.2222222222222222,
           "#7201a8"
          ],
          [
           0.3333333333333333,
           "#9c179e"
          ],
          [
           0.4444444444444444,
           "#bd3786"
          ],
          [
           0.5555555555555556,
           "#d8576b"
          ],
          [
           0.6666666666666666,
           "#ed7953"
          ],
          [
           0.7777777777777778,
           "#fb9f3a"
          ],
          [
           0.8888888888888888,
           "#fdca26"
          ],
          [
           1,
           "#f0f921"
          ]
         ]
        },
        "geo": {
         "center": {},
         "domain": {
          "x": [
           0,
           1
          ],
          "y": [
           0,
           1
          ]
         },
         "scope": "usa"
        },
        "legend": {
         "tracegroupgap": 0
        },
        "template": {
         "data": {
          "bar": [
           {
            "error_x": {
             "color": "#2a3f5f"
            },
            "error_y": {
             "color": "#2a3f5f"
            },
            "marker": {
             "line": {
              "color": "#E5ECF6",
              "width": 0.5
             }
            },
            "type": "bar"
           }
          ],
          "barpolar": [
           {
            "marker": {
             "line": {
              "color": "#E5ECF6",
              "width": 0.5
             }
            },
            "type": "barpolar"
           }
          ],
          "carpet": [
           {
            "aaxis": {
             "endlinecolor": "#2a3f5f",
             "gridcolor": "white",
             "linecolor": "white",
             "minorgridcolor": "white",
             "startlinecolor": "#2a3f5f"
            },
            "baxis": {
             "endlinecolor": "#2a3f5f",
             "gridcolor": "white",
             "linecolor": "white",
             "minorgridcolor": "white",
             "startlinecolor": "#2a3f5f"
            },
            "type": "carpet"
           }
          ],
          "choropleth": [
           {
            "colorbar": {
             "outlinewidth": 0,
             "ticks": ""
            },
            "type": "choropleth"
           }
          ],
          "contour": [
           {
            "colorbar": {
             "outlinewidth": 0,
             "ticks": ""
            },
            "colorscale": [
             [
              0,
              "#0d0887"
             ],
             [
              0.1111111111111111,
              "#46039f"
             ],
             [
              0.2222222222222222,
              "#7201a8"
             ],
             [
              0.3333333333333333,
              "#9c179e"
             ],
             [
              0.4444444444444444,
              "#bd3786"
             ],
             [
              0.5555555555555556,
              "#d8576b"
             ],
             [
              0.6666666666666666,
              "#ed7953"
             ],
             [
              0.7777777777777778,
              "#fb9f3a"
             ],
             [
              0.8888888888888888,
              "#fdca26"
             ],
             [
              1,
              "#f0f921"
             ]
            ],
            "type": "contour"
           }
          ],
          "contourcarpet": [
           {
            "colorbar": {
             "outlinewidth": 0,
             "ticks": ""
            },
            "type": "contourcarpet"
           }
          ],
          "heatmap": [
           {
            "colorbar": {
             "outlinewidth": 0,
             "ticks": ""
            },
            "colorscale": [
             [
              0,
              "#0d0887"
             ],
             [
              0.1111111111111111,
              "#46039f"
             ],
             [
              0.2222222222222222,
              "#7201a8"
             ],
             [
              0.3333333333333333,
              "#9c179e"
             ],
             [
              0.4444444444444444,
              "#bd3786"
             ],
             [
              0.5555555555555556,
              "#d8576b"
             ],
             [
              0.6666666666666666,
              "#ed7953"
             ],
             [
              0.7777777777777778,
              "#fb9f3a"
             ],
             [
              0.8888888888888888,
              "#fdca26"
             ],
             [
              1,
              "#f0f921"
             ]
            ],
            "type": "heatmap"
           }
          ],
          "heatmapgl": [
           {
            "colorbar": {
             "outlinewidth": 0,
             "ticks": ""
            },
            "colorscale": [
             [
              0,
              "#0d0887"
             ],
             [
              0.1111111111111111,
              "#46039f"
             ],
             [
              0.2222222222222222,
              "#7201a8"
             ],
             [
              0.3333333333333333,
              "#9c179e"
             ],
             [
              0.4444444444444444,
              "#bd3786"
             ],
             [
              0.5555555555555556,
              "#d8576b"
             ],
             [
              0.6666666666666666,
              "#ed7953"
             ],
             [
              0.7777777777777778,
              "#fb9f3a"
             ],
             [
              0.8888888888888888,
              "#fdca26"
             ],
             [
              1,
              "#f0f921"
             ]
            ],
            "type": "heatmapgl"
           }
          ],
          "histogram": [
           {
            "marker": {
             "colorbar": {
              "outlinewidth": 0,
              "ticks": ""
             }
            },
            "type": "histogram"
           }
          ],
          "histogram2d": [
           {
            "colorbar": {
             "outlinewidth": 0,
             "ticks": ""
            },
            "colorscale": [
             [
              0,
              "#0d0887"
             ],
             [
              0.1111111111111111,
              "#46039f"
             ],
             [
              0.2222222222222222,
              "#7201a8"
             ],
             [
              0.3333333333333333,
              "#9c179e"
             ],
             [
              0.4444444444444444,
              "#bd3786"
             ],
             [
              0.5555555555555556,
              "#d8576b"
             ],
             [
              0.6666666666666666,
              "#ed7953"
             ],
             [
              0.7777777777777778,
              "#fb9f3a"
             ],
             [
              0.8888888888888888,
              "#fdca26"
             ],
             [
              1,
              "#f0f921"
             ]
            ],
            "type": "histogram2d"
           }
          ],
          "histogram2dcontour": [
           {
            "colorbar": {
             "outlinewidth": 0,
             "ticks": ""
            },
            "colorscale": [
             [
              0,
              "#0d0887"
             ],
             [
              0.1111111111111111,
              "#46039f"
             ],
             [
              0.2222222222222222,
              "#7201a8"
             ],
             [
              0.3333333333333333,
              "#9c179e"
             ],
             [
              0.4444444444444444,
              "#bd3786"
             ],
             [
              0.5555555555555556,
              "#d8576b"
             ],
             [
              0.6666666666666666,
              "#ed7953"
             ],
             [
              0.7777777777777778,
              "#fb9f3a"
             ],
             [
              0.8888888888888888,
              "#fdca26"
             ],
             [
              1,
              "#f0f921"
             ]
            ],
            "type": "histogram2dcontour"
           }
          ],
          "mesh3d": [
           {
            "colorbar": {
             "outlinewidth": 0,
             "ticks": ""
            },
            "type": "mesh3d"
           }
          ],
          "parcoords": [
           {
            "line": {
             "colorbar": {
              "outlinewidth": 0,
              "ticks": ""
             }
            },
            "type": "parcoords"
           }
          ],
          "pie": [
           {
            "automargin": true,
            "type": "pie"
           }
          ],
          "scatter": [
           {
            "marker": {
             "colorbar": {
              "outlinewidth": 0,
              "ticks": ""
             }
            },
            "type": "scatter"
           }
          ],
          "scatter3d": [
           {
            "line": {
             "colorbar": {
              "outlinewidth": 0,
              "ticks": ""
             }
            },
            "marker": {
             "colorbar": {
              "outlinewidth": 0,
              "ticks": ""
             }
            },
            "type": "scatter3d"
           }
          ],
          "scattercarpet": [
           {
            "marker": {
             "colorbar": {
              "outlinewidth": 0,
              "ticks": ""
             }
            },
            "type": "scattercarpet"
           }
          ],
          "scattergeo": [
           {
            "marker": {
             "colorbar": {
              "outlinewidth": 0,
              "ticks": ""
             }
            },
            "type": "scattergeo"
           }
          ],
          "scattergl": [
           {
            "marker": {
             "colorbar": {
              "outlinewidth": 0,
              "ticks": ""
             }
            },
            "type": "scattergl"
           }
          ],
          "scattermapbox": [
           {
            "marker": {
             "colorbar": {
              "outlinewidth": 0,
              "ticks": ""
             }
            },
            "type": "scattermapbox"
           }
          ],
          "scatterpolar": [
           {
            "marker": {
             "colorbar": {
              "outlinewidth": 0,
              "ticks": ""
             }
            },
            "type": "scatterpolar"
           }
          ],
          "scatterpolargl": [
           {
            "marker": {
             "colorbar": {
              "outlinewidth": 0,
              "ticks": ""
             }
            },
            "type": "scatterpolargl"
           }
          ],
          "scatterternary": [
           {
            "marker": {
             "colorbar": {
              "outlinewidth": 0,
              "ticks": ""
             }
            },
            "type": "scatterternary"
           }
          ],
          "surface": [
           {
            "colorbar": {
             "outlinewidth": 0,
             "ticks": ""
            },
            "colorscale": [
             [
              0,
              "#0d0887"
             ],
             [
              0.1111111111111111,
              "#46039f"
             ],
             [
              0.2222222222222222,
              "#7201a8"
             ],
             [
              0.3333333333333333,
              "#9c179e"
             ],
             [
              0.4444444444444444,
              "#bd3786"
             ],
             [
              0.5555555555555556,
              "#d8576b"
             ],
             [
              0.6666666666666666,
              "#ed7953"
             ],
             [
              0.7777777777777778,
              "#fb9f3a"
             ],
             [
              0.8888888888888888,
              "#fdca26"
             ],
             [
              1,
              "#f0f921"
             ]
            ],
            "type": "surface"
           }
          ],
          "table": [
           {
            "cells": {
             "fill": {
              "color": "#EBF0F8"
             },
             "line": {
              "color": "white"
             }
            },
            "header": {
             "fill": {
              "color": "#C8D4E3"
             },
             "line": {
              "color": "white"
             }
            },
            "type": "table"
           }
          ]
         },
         "layout": {
          "annotationdefaults": {
           "arrowcolor": "#2a3f5f",
           "arrowhead": 0,
           "arrowwidth": 1
          },
          "autotypenumbers": "strict",
          "coloraxis": {
           "colorbar": {
            "outlinewidth": 0,
            "ticks": ""
           }
          },
          "colorscale": {
           "diverging": [
            [
             0,
             "#8e0152"
            ],
            [
             0.1,
             "#c51b7d"
            ],
            [
             0.2,
             "#de77ae"
            ],
            [
             0.3,
             "#f1b6da"
            ],
            [
             0.4,
             "#fde0ef"
            ],
            [
             0.5,
             "#f7f7f7"
            ],
            [
             0.6,
             "#e6f5d0"
            ],
            [
             0.7,
             "#b8e186"
            ],
            [
             0.8,
             "#7fbc41"
            ],
            [
             0.9,
             "#4d9221"
            ],
            [
             1,
             "#276419"
            ]
           ],
           "sequential": [
            [
             0,
             "#0d0887"
            ],
            [
             0.1111111111111111,
             "#46039f"
            ],
            [
             0.2222222222222222,
             "#7201a8"
            ],
            [
             0.3333333333333333,
             "#9c179e"
            ],
            [
             0.4444444444444444,
             "#bd3786"
            ],
            [
             0.5555555555555556,
             "#d8576b"
            ],
            [
             0.6666666666666666,
             "#ed7953"
            ],
            [
             0.7777777777777778,
             "#fb9f3a"
            ],
            [
             0.8888888888888888,
             "#fdca26"
            ],
            [
             1,
             "#f0f921"
            ]
           ],
           "sequentialminus": [
            [
             0,
             "#0d0887"
            ],
            [
             0.1111111111111111,
             "#46039f"
            ],
            [
             0.2222222222222222,
             "#7201a8"
            ],
            [
             0.3333333333333333,
             "#9c179e"
            ],
            [
             0.4444444444444444,
             "#bd3786"
            ],
            [
             0.5555555555555556,
             "#d8576b"
            ],
            [
             0.6666666666666666,
             "#ed7953"
            ],
            [
             0.7777777777777778,
             "#fb9f3a"
            ],
            [
             0.8888888888888888,
             "#fdca26"
            ],
            [
             1,
             "#f0f921"
            ]
           ]
          },
          "colorway": [
           "#636efa",
           "#EF553B",
           "#00cc96",
           "#ab63fa",
           "#FFA15A",
           "#19d3f3",
           "#FF6692",
           "#B6E880",
           "#FF97FF",
           "#FECB52"
          ],
          "font": {
           "color": "#2a3f5f"
          },
          "geo": {
           "bgcolor": "white",
           "lakecolor": "white",
           "landcolor": "#E5ECF6",
           "showlakes": true,
           "showland": true,
           "subunitcolor": "white"
          },
          "hoverlabel": {
           "align": "left"
          },
          "hovermode": "closest",
          "mapbox": {
           "style": "light"
          },
          "paper_bgcolor": "white",
          "plot_bgcolor": "#E5ECF6",
          "polar": {
           "angularaxis": {
            "gridcolor": "white",
            "linecolor": "white",
            "ticks": ""
           },
           "bgcolor": "#E5ECF6",
           "radialaxis": {
            "gridcolor": "white",
            "linecolor": "white",
            "ticks": ""
           }
          },
          "scene": {
           "xaxis": {
            "backgroundcolor": "#E5ECF6",
            "gridcolor": "white",
            "gridwidth": 2,
            "linecolor": "white",
            "showbackground": true,
            "ticks": "",
            "zerolinecolor": "white"
           },
           "yaxis": {
            "backgroundcolor": "#E5ECF6",
            "gridcolor": "white",
            "gridwidth": 2,
            "linecolor": "white",
            "showbackground": true,
            "ticks": "",
            "zerolinecolor": "white"
           },
           "zaxis": {
            "backgroundcolor": "#E5ECF6",
            "gridcolor": "white",
            "gridwidth": 2,
            "linecolor": "white",
            "showbackground": true,
            "ticks": "",
            "zerolinecolor": "white"
           }
          },
          "shapedefaults": {
           "line": {
            "color": "#2a3f5f"
           }
          },
          "ternary": {
           "aaxis": {
            "gridcolor": "white",
            "linecolor": "white",
            "ticks": ""
           },
           "baxis": {
            "gridcolor": "white",
            "linecolor": "white",
            "ticks": ""
           },
           "bgcolor": "#E5ECF6",
           "caxis": {
            "gridcolor": "white",
            "linecolor": "white",
            "ticks": ""
           }
          },
          "title": {
           "x": 0.05
          },
          "xaxis": {
           "automargin": true,
           "gridcolor": "white",
           "linecolor": "white",
           "ticks": "",
           "title": {
            "standoff": 15
           },
           "zerolinecolor": "white",
           "zerolinewidth": 2
          },
          "yaxis": {
           "automargin": true,
           "gridcolor": "white",
           "linecolor": "white",
           "ticks": "",
           "title": {
            "standoff": 15
           },
           "zerolinecolor": "white",
           "zerolinewidth": 2
          }
         }
        },
        "title": {
         "text": "Percentage CO Emission by State 1990"
        }
       }
      },
      "text/html": [
       "<div>                            <div id=\"ea63f738-ad77-47ba-8cae-7a0f1c6a988d\" class=\"plotly-graph-div\" style=\"height:525px; width:100%;\"></div>            <script type=\"text/javascript\">                require([\"plotly\"], function(Plotly) {                    window.PLOTLYENV=window.PLOTLYENV || {};                                    if (document.getElementById(\"ea63f738-ad77-47ba-8cae-7a0f1c6a988d\")) {                    Plotly.newPlot(                        \"ea63f738-ad77-47ba-8cae-7a0f1c6a988d\",                        [{\"coloraxis\": \"coloraxis\", \"geo\": \"geo\", \"hovertemplate\": \"locations=%{location}<br>Percent Relative to Highest Emissions=%{z}<extra></extra>\", \"locationmode\": \"USA-states\", \"locations\": [\"AL\", \"AK\", \"AZ\", \"AR\", \"CA\", \"CO\", \"CT\", \"DE\", \"DC\", \"FL\", \"GA\", \"HI\", \"ID\", \"IL\", \"IN\", \"IA\", \"KS\", \"KY\", \"LA\", \"ME\", \"MD\", \"MA\", \"MI\", \"MN\", \"MS\", \"MO\", \"MT\", \"NE\", \"NV\", \"NH\", \"NJ\", \"NM\", \"NY\", \"NC\", \"ND\", \"OH\", \"OK\", \"OR\", \"PA\", \"RI\", \"SC\", \"SD\", \"TN\", \"TX\", \"UT\", \"VT\", \"VA\", \"WA\", \"WV\", \"WI\", \"WY\"], \"name\": \"\", \"type\": \"choropleth\", \"z\": [17.873033139362114, 1.230018473162357, 13.497895668755769, 8.575171787583278, 100.0, 14.089507122133545, 9.6252475169875, 1.7519008865863797, 0.0, 47.64966152353832, 27.73634113252403, 2.5311795987808825, 3.839706059207637, 36.41828481268419, 21.157807708793293, 10.67746748686965, 9.79850391640274, 13.25117185908839, 11.954929634249577, 4.762047777158388, 16.740088121436678, 17.98269366564032, 38.10624854783768, 19.532018959376586, 9.873758669203339, 20.038330880418464, 3.0282818557663007, 5.872448457248932, 4.140188796322962, 3.7506832769492604, 22.001699923952497, 7.543038809160732, 45.61662577593989, 26.231731069701603, 2.2346389291035416, 38.87720648864058, 13.436464077726995, 11.022960230906511, 36.05572066498866, 1.890868196179608, 14.800352225448021, 2.4978045784760723, 20.02477232522504, 66.7407072009786, 7.361479611630919, 1.7921315709152503, 25.062127056998047, 19.3976732782669, 5.579830455281993, 17.394856957050138, 1.8060993747735974]}],                        {\"coloraxis\": {\"colorbar\": {\"title\": {\"text\": \"Percent Relative to Highest Emissions\"}}, \"colorscale\": [[0.0, \"#0d0887\"], [0.1111111111111111, \"#46039f\"], [0.2222222222222222, \"#7201a8\"], [0.3333333333333333, \"#9c179e\"], [0.4444444444444444, \"#bd3786\"], [0.5555555555555556, \"#d8576b\"], [0.6666666666666666, \"#ed7953\"], [0.7777777777777778, \"#fb9f3a\"], [0.8888888888888888, \"#fdca26\"], [1.0, \"#f0f921\"]]}, \"geo\": {\"center\": {}, \"domain\": {\"x\": [0.0, 1.0], \"y\": [0.0, 1.0]}, \"scope\": \"usa\"}, \"legend\": {\"tracegroupgap\": 0}, \"template\": {\"data\": {\"bar\": [{\"error_x\": {\"color\": \"#2a3f5f\"}, \"error_y\": {\"color\": \"#2a3f5f\"}, \"marker\": {\"line\": {\"color\": \"#E5ECF6\", \"width\": 0.5}}, \"type\": \"bar\"}], \"barpolar\": [{\"marker\": {\"line\": {\"color\": \"#E5ECF6\", \"width\": 0.5}}, \"type\": \"barpolar\"}], \"carpet\": [{\"aaxis\": {\"endlinecolor\": \"#2a3f5f\", \"gridcolor\": \"white\", \"linecolor\": \"white\", \"minorgridcolor\": \"white\", \"startlinecolor\": \"#2a3f5f\"}, \"baxis\": {\"endlinecolor\": \"#2a3f5f\", \"gridcolor\": \"white\", \"linecolor\": \"white\", \"minorgridcolor\": \"white\", \"startlinecolor\": \"#2a3f5f\"}, \"type\": \"carpet\"}], \"choropleth\": [{\"colorbar\": {\"outlinewidth\": 0, \"ticks\": \"\"}, \"type\": \"choropleth\"}], \"contour\": [{\"colorbar\": {\"outlinewidth\": 0, \"ticks\": \"\"}, \"colorscale\": [[0.0, \"#0d0887\"], [0.1111111111111111, \"#46039f\"], [0.2222222222222222, \"#7201a8\"], [0.3333333333333333, \"#9c179e\"], [0.4444444444444444, \"#bd3786\"], [0.5555555555555556, \"#d8576b\"], [0.6666666666666666, \"#ed7953\"], [0.7777777777777778, \"#fb9f3a\"], [0.8888888888888888, \"#fdca26\"], [1.0, \"#f0f921\"]], \"type\": \"contour\"}], \"contourcarpet\": [{\"colorbar\": {\"outlinewidth\": 0, \"ticks\": \"\"}, \"type\": \"contourcarpet\"}], \"heatmap\": [{\"colorbar\": {\"outlinewidth\": 0, \"ticks\": \"\"}, \"colorscale\": [[0.0, \"#0d0887\"], [0.1111111111111111, \"#46039f\"], [0.2222222222222222, \"#7201a8\"], [0.3333333333333333, \"#9c179e\"], [0.4444444444444444, \"#bd3786\"], [0.5555555555555556, \"#d8576b\"], [0.6666666666666666, \"#ed7953\"], [0.7777777777777778, \"#fb9f3a\"], [0.8888888888888888, \"#fdca26\"], [1.0, \"#f0f921\"]], \"type\": \"heatmap\"}], \"heatmapgl\": [{\"colorbar\": {\"outlinewidth\": 0, \"ticks\": \"\"}, \"colorscale\": [[0.0, \"#0d0887\"], [0.1111111111111111, \"#46039f\"], [0.2222222222222222, \"#7201a8\"], [0.3333333333333333, \"#9c179e\"], [0.4444444444444444, \"#bd3786\"], [0.5555555555555556, \"#d8576b\"], [0.6666666666666666, \"#ed7953\"], [0.7777777777777778, \"#fb9f3a\"], [0.8888888888888888, \"#fdca26\"], [1.0, \"#f0f921\"]], \"type\": \"heatmapgl\"}], \"histogram\": [{\"marker\": {\"colorbar\": {\"outlinewidth\": 0, \"ticks\": \"\"}}, \"type\": \"histogram\"}], \"histogram2d\": [{\"colorbar\": {\"outlinewidth\": 0, \"ticks\": \"\"}, \"colorscale\": [[0.0, \"#0d0887\"], [0.1111111111111111, \"#46039f\"], [0.2222222222222222, \"#7201a8\"], [0.3333333333333333, \"#9c179e\"], [0.4444444444444444, \"#bd3786\"], [0.5555555555555556, \"#d8576b\"], [0.6666666666666666, \"#ed7953\"], [0.7777777777777778, \"#fb9f3a\"], [0.8888888888888888, \"#fdca26\"], [1.0, \"#f0f921\"]], \"type\": \"histogram2d\"}], \"histogram2dcontour\": [{\"colorbar\": {\"outlinewidth\": 0, \"ticks\": \"\"}, \"colorscale\": [[0.0, \"#0d0887\"], [0.1111111111111111, \"#46039f\"], [0.2222222222222222, \"#7201a8\"], [0.3333333333333333, \"#9c179e\"], [0.4444444444444444, \"#bd3786\"], [0.5555555555555556, \"#d8576b\"], [0.6666666666666666, \"#ed7953\"], [0.7777777777777778, \"#fb9f3a\"], [0.8888888888888888, \"#fdca26\"], [1.0, \"#f0f921\"]], \"type\": \"histogram2dcontour\"}], \"mesh3d\": [{\"colorbar\": {\"outlinewidth\": 0, \"ticks\": \"\"}, \"type\": \"mesh3d\"}], \"parcoords\": [{\"line\": {\"colorbar\": {\"outlinewidth\": 0, \"ticks\": \"\"}}, \"type\": \"parcoords\"}], \"pie\": [{\"automargin\": true, \"type\": \"pie\"}], \"scatter\": [{\"marker\": {\"colorbar\": {\"outlinewidth\": 0, \"ticks\": \"\"}}, \"type\": \"scatter\"}], \"scatter3d\": [{\"line\": {\"colorbar\": {\"outlinewidth\": 0, \"ticks\": \"\"}}, \"marker\": {\"colorbar\": {\"outlinewidth\": 0, \"ticks\": \"\"}}, \"type\": \"scatter3d\"}], \"scattercarpet\": [{\"marker\": {\"colorbar\": {\"outlinewidth\": 0, \"ticks\": \"\"}}, \"type\": \"scattercarpet\"}], \"scattergeo\": [{\"marker\": {\"colorbar\": {\"outlinewidth\": 0, \"ticks\": \"\"}}, \"type\": \"scattergeo\"}], \"scattergl\": [{\"marker\": {\"colorbar\": {\"outlinewidth\": 0, \"ticks\": \"\"}}, \"type\": \"scattergl\"}], \"scattermapbox\": [{\"marker\": {\"colorbar\": {\"outlinewidth\": 0, \"ticks\": \"\"}}, \"type\": \"scattermapbox\"}], \"scatterpolar\": [{\"marker\": {\"colorbar\": {\"outlinewidth\": 0, \"ticks\": \"\"}}, \"type\": \"scatterpolar\"}], \"scatterpolargl\": [{\"marker\": {\"colorbar\": {\"outlinewidth\": 0, \"ticks\": \"\"}}, \"type\": \"scatterpolargl\"}], \"scatterternary\": [{\"marker\": {\"colorbar\": {\"outlinewidth\": 0, \"ticks\": \"\"}}, \"type\": \"scatterternary\"}], \"surface\": [{\"colorbar\": {\"outlinewidth\": 0, \"ticks\": \"\"}, \"colorscale\": [[0.0, \"#0d0887\"], [0.1111111111111111, \"#46039f\"], [0.2222222222222222, \"#7201a8\"], [0.3333333333333333, \"#9c179e\"], [0.4444444444444444, \"#bd3786\"], [0.5555555555555556, \"#d8576b\"], [0.6666666666666666, \"#ed7953\"], [0.7777777777777778, \"#fb9f3a\"], [0.8888888888888888, \"#fdca26\"], [1.0, \"#f0f921\"]], \"type\": \"surface\"}], \"table\": [{\"cells\": {\"fill\": {\"color\": \"#EBF0F8\"}, \"line\": {\"color\": \"white\"}}, \"header\": {\"fill\": {\"color\": \"#C8D4E3\"}, \"line\": {\"color\": \"white\"}}, \"type\": \"table\"}]}, \"layout\": {\"annotationdefaults\": {\"arrowcolor\": \"#2a3f5f\", \"arrowhead\": 0, \"arrowwidth\": 1}, \"autotypenumbers\": \"strict\", \"coloraxis\": {\"colorbar\": {\"outlinewidth\": 0, \"ticks\": \"\"}}, \"colorscale\": {\"diverging\": [[0, \"#8e0152\"], [0.1, \"#c51b7d\"], [0.2, \"#de77ae\"], [0.3, \"#f1b6da\"], [0.4, \"#fde0ef\"], [0.5, \"#f7f7f7\"], [0.6, \"#e6f5d0\"], [0.7, \"#b8e186\"], [0.8, \"#7fbc41\"], [0.9, \"#4d9221\"], [1, \"#276419\"]], \"sequential\": [[0.0, \"#0d0887\"], [0.1111111111111111, \"#46039f\"], [0.2222222222222222, \"#7201a8\"], [0.3333333333333333, \"#9c179e\"], [0.4444444444444444, \"#bd3786\"], [0.5555555555555556, \"#d8576b\"], [0.6666666666666666, \"#ed7953\"], [0.7777777777777778, \"#fb9f3a\"], [0.8888888888888888, \"#fdca26\"], [1.0, \"#f0f921\"]], \"sequentialminus\": [[0.0, \"#0d0887\"], [0.1111111111111111, \"#46039f\"], [0.2222222222222222, \"#7201a8\"], [0.3333333333333333, \"#9c179e\"], [0.4444444444444444, \"#bd3786\"], [0.5555555555555556, \"#d8576b\"], [0.6666666666666666, \"#ed7953\"], [0.7777777777777778, \"#fb9f3a\"], [0.8888888888888888, \"#fdca26\"], [1.0, \"#f0f921\"]]}, \"colorway\": [\"#636efa\", \"#EF553B\", \"#00cc96\", \"#ab63fa\", \"#FFA15A\", \"#19d3f3\", \"#FF6692\", \"#B6E880\", \"#FF97FF\", \"#FECB52\"], \"font\": {\"color\": \"#2a3f5f\"}, \"geo\": {\"bgcolor\": \"white\", \"lakecolor\": \"white\", \"landcolor\": \"#E5ECF6\", \"showlakes\": true, \"showland\": true, \"subunitcolor\": \"white\"}, \"hoverlabel\": {\"align\": \"left\"}, \"hovermode\": \"closest\", \"mapbox\": {\"style\": \"light\"}, \"paper_bgcolor\": \"white\", \"plot_bgcolor\": \"#E5ECF6\", \"polar\": {\"angularaxis\": {\"gridcolor\": \"white\", \"linecolor\": \"white\", \"ticks\": \"\"}, \"bgcolor\": \"#E5ECF6\", \"radialaxis\": {\"gridcolor\": \"white\", \"linecolor\": \"white\", \"ticks\": \"\"}}, \"scene\": {\"xaxis\": {\"backgroundcolor\": \"#E5ECF6\", \"gridcolor\": \"white\", \"gridwidth\": 2, \"linecolor\": \"white\", \"showbackground\": true, \"ticks\": \"\", \"zerolinecolor\": \"white\"}, \"yaxis\": {\"backgroundcolor\": \"#E5ECF6\", \"gridcolor\": \"white\", \"gridwidth\": 2, \"linecolor\": \"white\", \"showbackground\": true, \"ticks\": \"\", \"zerolinecolor\": \"white\"}, \"zaxis\": {\"backgroundcolor\": \"#E5ECF6\", \"gridcolor\": \"white\", \"gridwidth\": 2, \"linecolor\": \"white\", \"showbackground\": true, \"ticks\": \"\", \"zerolinecolor\": \"white\"}}, \"shapedefaults\": {\"line\": {\"color\": \"#2a3f5f\"}}, \"ternary\": {\"aaxis\": {\"gridcolor\": \"white\", \"linecolor\": \"white\", \"ticks\": \"\"}, \"baxis\": {\"gridcolor\": \"white\", \"linecolor\": \"white\", \"ticks\": \"\"}, \"bgcolor\": \"#E5ECF6\", \"caxis\": {\"gridcolor\": \"white\", \"linecolor\": \"white\", \"ticks\": \"\"}}, \"title\": {\"x\": 0.05}, \"xaxis\": {\"automargin\": true, \"gridcolor\": \"white\", \"linecolor\": \"white\", \"ticks\": \"\", \"title\": {\"standoff\": 15}, \"zerolinecolor\": \"white\", \"zerolinewidth\": 2}, \"yaxis\": {\"automargin\": true, \"gridcolor\": \"white\", \"linecolor\": \"white\", \"ticks\": \"\", \"title\": {\"standoff\": 15}, \"zerolinecolor\": \"white\", \"zerolinewidth\": 2}}}, \"title\": {\"text\": \"Percentage CO Emission by State 1990\"}},                        {\"responsive\": true}                    ).then(function(){\n",
       "                            \n",
       "var gd = document.getElementById('ea63f738-ad77-47ba-8cae-7a0f1c6a988d');\n",
       "var x = new MutationObserver(function (mutations, observer) {{\n",
       "        var display = window.getComputedStyle(gd).display;\n",
       "        if (!display || display === 'none') {{\n",
       "            console.log([gd, 'removed!']);\n",
       "            Plotly.purge(gd);\n",
       "            observer.disconnect();\n",
       "        }}\n",
       "}});\n",
       "\n",
       "// Listen for the removal of the full notebook cells\n",
       "var notebookContainer = gd.closest('#notebook-container');\n",
       "if (notebookContainer) {{\n",
       "    x.observe(notebookContainer, {childList: true});\n",
       "}}\n",
       "\n",
       "// Listen for the clearing of the current output cell\n",
       "var outputEl = gd.closest('.output');\n",
       "if (outputEl) {{\n",
       "    x.observe(outputEl, {childList: true});\n",
       "}}\n",
       "\n",
       "                        })                };                });            </script>        </div>"
      ]
     },
     "metadata": {},
     "output_type": "display_data"
    }
   ],
   "source": [
    "fig = px.choropleth(locations=solutions, locationmode=\"USA-states\", \n",
    "                    color=for_heat_map_1990.column('percentsCol'), scope=\"usa\", \n",
    "                    labels={'color':'Percent Relative to Highest Emissions'}, title  = 'Percentage CO Emission by State 1990')\n",
    "fig.show()"
   ]
  },
  {
   "cell_type": "code",
   "execution_count": 505,
   "metadata": {},
   "outputs": [
    {
     "data": {
      "application/vnd.plotly.v1+json": {
       "config": {
        "plotlyServerURL": "https://plot.ly"
       },
       "data": [
        {
         "coloraxis": "coloraxis",
         "geo": "geo",
         "hovertemplate": "locations=%{location}<br>Percent Relative to Highest Emissions=%{z}<extra></extra>",
         "locationmode": "USA-states",
         "locations": [
          "AL",
          "AK",
          "AZ",
          "AR",
          "CA",
          "CO",
          "CT",
          "DE",
          "DC",
          "FL",
          "GA",
          "HI",
          "ID",
          "IL",
          "IN",
          "IA",
          "KS",
          "KY",
          "LA",
          "ME",
          "MD",
          "MA",
          "MI",
          "MN",
          "MS",
          "MO",
          "MT",
          "NE",
          "NV",
          "NH",
          "NJ",
          "NM",
          "NY",
          "NC",
          "ND",
          "OH",
          "OK",
          "OR",
          "PA",
          "RI",
          "SC",
          "SD",
          "TN",
          "TX",
          "UT",
          "VT",
          "VA",
          "WA",
          "WV",
          "WI",
          "WY"
         ],
         "name": "",
         "type": "choropleth",
         "z": [
          28.76922498990197,
          3.4738456023271103,
          25.317086015042236,
          14.73063814852655,
          58.32523407559906,
          25.176257281484038,
          9.925089864750552,
          3.573175541477802,
          0,
          100,
          46.95593228322225,
          4.513830089421392,
          8.41476535114988,
          48.035437111932175,
          32.69559760527493,
          15.54815144727356,
          14.245129834287361,
          19.71012246219516,
          18.877770783302534,
          6.159817531238263,
          20.743431894270667,
          19.527459693419594,
          40.981881559743556,
          31.616619452047313,
          14.42043094762862,
          30.690847052864946,
          6.230871101384799,
          9.844676754116062,
          11.415396014857274,
          4.769103550225616,
          25.584126408869356,
          8.727488024129709,
          50.976589033298715,
          45.25520033708451,
          4.874094254244085,
          46.19997686466129,
          19.627704380211306,
          18.78174505063889,
          41.67466832859171,
          1.8444030997174752,
          24.744741121209866,
          4.208870111360138,
          31.65353427860606,
          86.6961614970609,
          11.853818069030945,
          1.5831693196656185,
          35.38990019769196,
          31.45806614388534,
          5.91116603373762,
          26.90183970340604,
          2.712974650017881
         ]
        }
       ],
       "layout": {
        "coloraxis": {
         "colorbar": {
          "title": {
           "text": "Percent Relative to Highest Emissions"
          }
         },
         "colorscale": [
          [
           0,
           "#0d0887"
          ],
          [
           0.1111111111111111,
           "#46039f"
          ],
          [
           0.2222222222222222,
           "#7201a8"
          ],
          [
           0.3333333333333333,
           "#9c179e"
          ],
          [
           0.4444444444444444,
           "#bd3786"
          ],
          [
           0.5555555555555556,
           "#d8576b"
          ],
          [
           0.6666666666666666,
           "#ed7953"
          ],
          [
           0.7777777777777778,
           "#fb9f3a"
          ],
          [
           0.8888888888888888,
           "#fdca26"
          ],
          [
           1,
           "#f0f921"
          ]
         ]
        },
        "geo": {
         "center": {},
         "domain": {
          "x": [
           0,
           1
          ],
          "y": [
           0,
           1
          ]
         },
         "scope": "usa"
        },
        "legend": {
         "tracegroupgap": 0
        },
        "template": {
         "data": {
          "bar": [
           {
            "error_x": {
             "color": "#2a3f5f"
            },
            "error_y": {
             "color": "#2a3f5f"
            },
            "marker": {
             "line": {
              "color": "#E5ECF6",
              "width": 0.5
             }
            },
            "type": "bar"
           }
          ],
          "barpolar": [
           {
            "marker": {
             "line": {
              "color": "#E5ECF6",
              "width": 0.5
             }
            },
            "type": "barpolar"
           }
          ],
          "carpet": [
           {
            "aaxis": {
             "endlinecolor": "#2a3f5f",
             "gridcolor": "white",
             "linecolor": "white",
             "minorgridcolor": "white",
             "startlinecolor": "#2a3f5f"
            },
            "baxis": {
             "endlinecolor": "#2a3f5f",
             "gridcolor": "white",
             "linecolor": "white",
             "minorgridcolor": "white",
             "startlinecolor": "#2a3f5f"
            },
            "type": "carpet"
           }
          ],
          "choropleth": [
           {
            "colorbar": {
             "outlinewidth": 0,
             "ticks": ""
            },
            "type": "choropleth"
           }
          ],
          "contour": [
           {
            "colorbar": {
             "outlinewidth": 0,
             "ticks": ""
            },
            "colorscale": [
             [
              0,
              "#0d0887"
             ],
             [
              0.1111111111111111,
              "#46039f"
             ],
             [
              0.2222222222222222,
              "#7201a8"
             ],
             [
              0.3333333333333333,
              "#9c179e"
             ],
             [
              0.4444444444444444,
              "#bd3786"
             ],
             [
              0.5555555555555556,
              "#d8576b"
             ],
             [
              0.6666666666666666,
              "#ed7953"
             ],
             [
              0.7777777777777778,
              "#fb9f3a"
             ],
             [
              0.8888888888888888,
              "#fdca26"
             ],
             [
              1,
              "#f0f921"
             ]
            ],
            "type": "contour"
           }
          ],
          "contourcarpet": [
           {
            "colorbar": {
             "outlinewidth": 0,
             "ticks": ""
            },
            "type": "contourcarpet"
           }
          ],
          "heatmap": [
           {
            "colorbar": {
             "outlinewidth": 0,
             "ticks": ""
            },
            "colorscale": [
             [
              0,
              "#0d0887"
             ],
             [
              0.1111111111111111,
              "#46039f"
             ],
             [
              0.2222222222222222,
              "#7201a8"
             ],
             [
              0.3333333333333333,
              "#9c179e"
             ],
             [
              0.4444444444444444,
              "#bd3786"
             ],
             [
              0.5555555555555556,
              "#d8576b"
             ],
             [
              0.6666666666666666,
              "#ed7953"
             ],
             [
              0.7777777777777778,
              "#fb9f3a"
             ],
             [
              0.8888888888888888,
              "#fdca26"
             ],
             [
              1,
              "#f0f921"
             ]
            ],
            "type": "heatmap"
           }
          ],
          "heatmapgl": [
           {
            "colorbar": {
             "outlinewidth": 0,
             "ticks": ""
            },
            "colorscale": [
             [
              0,
              "#0d0887"
             ],
             [
              0.1111111111111111,
              "#46039f"
             ],
             [
              0.2222222222222222,
              "#7201a8"
             ],
             [
              0.3333333333333333,
              "#9c179e"
             ],
             [
              0.4444444444444444,
              "#bd3786"
             ],
             [
              0.5555555555555556,
              "#d8576b"
             ],
             [
              0.6666666666666666,
              "#ed7953"
             ],
             [
              0.7777777777777778,
              "#fb9f3a"
             ],
             [
              0.8888888888888888,
              "#fdca26"
             ],
             [
              1,
              "#f0f921"
             ]
            ],
            "type": "heatmapgl"
           }
          ],
          "histogram": [
           {
            "marker": {
             "colorbar": {
              "outlinewidth": 0,
              "ticks": ""
             }
            },
            "type": "histogram"
           }
          ],
          "histogram2d": [
           {
            "colorbar": {
             "outlinewidth": 0,
             "ticks": ""
            },
            "colorscale": [
             [
              0,
              "#0d0887"
             ],
             [
              0.1111111111111111,
              "#46039f"
             ],
             [
              0.2222222222222222,
              "#7201a8"
             ],
             [
              0.3333333333333333,
              "#9c179e"
             ],
             [
              0.4444444444444444,
              "#bd3786"
             ],
             [
              0.5555555555555556,
              "#d8576b"
             ],
             [
              0.6666666666666666,
              "#ed7953"
             ],
             [
              0.7777777777777778,
              "#fb9f3a"
             ],
             [
              0.8888888888888888,
              "#fdca26"
             ],
             [
              1,
              "#f0f921"
             ]
            ],
            "type": "histogram2d"
           }
          ],
          "histogram2dcontour": [
           {
            "colorbar": {
             "outlinewidth": 0,
             "ticks": ""
            },
            "colorscale": [
             [
              0,
              "#0d0887"
             ],
             [
              0.1111111111111111,
              "#46039f"
             ],
             [
              0.2222222222222222,
              "#7201a8"
             ],
             [
              0.3333333333333333,
              "#9c179e"
             ],
             [
              0.4444444444444444,
              "#bd3786"
             ],
             [
              0.5555555555555556,
              "#d8576b"
             ],
             [
              0.6666666666666666,
              "#ed7953"
             ],
             [
              0.7777777777777778,
              "#fb9f3a"
             ],
             [
              0.8888888888888888,
              "#fdca26"
             ],
             [
              1,
              "#f0f921"
             ]
            ],
            "type": "histogram2dcontour"
           }
          ],
          "mesh3d": [
           {
            "colorbar": {
             "outlinewidth": 0,
             "ticks": ""
            },
            "type": "mesh3d"
           }
          ],
          "parcoords": [
           {
            "line": {
             "colorbar": {
              "outlinewidth": 0,
              "ticks": ""
             }
            },
            "type": "parcoords"
           }
          ],
          "pie": [
           {
            "automargin": true,
            "type": "pie"
           }
          ],
          "scatter": [
           {
            "marker": {
             "colorbar": {
              "outlinewidth": 0,
              "ticks": ""
             }
            },
            "type": "scatter"
           }
          ],
          "scatter3d": [
           {
            "line": {
             "colorbar": {
              "outlinewidth": 0,
              "ticks": ""
             }
            },
            "marker": {
             "colorbar": {
              "outlinewidth": 0,
              "ticks": ""
             }
            },
            "type": "scatter3d"
           }
          ],
          "scattercarpet": [
           {
            "marker": {
             "colorbar": {
              "outlinewidth": 0,
              "ticks": ""
             }
            },
            "type": "scattercarpet"
           }
          ],
          "scattergeo": [
           {
            "marker": {
             "colorbar": {
              "outlinewidth": 0,
              "ticks": ""
             }
            },
            "type": "scattergeo"
           }
          ],
          "scattergl": [
           {
            "marker": {
             "colorbar": {
              "outlinewidth": 0,
              "ticks": ""
             }
            },
            "type": "scattergl"
           }
          ],
          "scattermapbox": [
           {
            "marker": {
             "colorbar": {
              "outlinewidth": 0,
              "ticks": ""
             }
            },
            "type": "scattermapbox"
           }
          ],
          "scatterpolar": [
           {
            "marker": {
             "colorbar": {
              "outlinewidth": 0,
              "ticks": ""
             }
            },
            "type": "scatterpolar"
           }
          ],
          "scatterpolargl": [
           {
            "marker": {
             "colorbar": {
              "outlinewidth": 0,
              "ticks": ""
             }
            },
            "type": "scatterpolargl"
           }
          ],
          "scatterternary": [
           {
            "marker": {
             "colorbar": {
              "outlinewidth": 0,
              "ticks": ""
             }
            },
            "type": "scatterternary"
           }
          ],
          "surface": [
           {
            "colorbar": {
             "outlinewidth": 0,
             "ticks": ""
            },
            "colorscale": [
             [
              0,
              "#0d0887"
             ],
             [
              0.1111111111111111,
              "#46039f"
             ],
             [
              0.2222222222222222,
              "#7201a8"
             ],
             [
              0.3333333333333333,
              "#9c179e"
             ],
             [
              0.4444444444444444,
              "#bd3786"
             ],
             [
              0.5555555555555556,
              "#d8576b"
             ],
             [
              0.6666666666666666,
              "#ed7953"
             ],
             [
              0.7777777777777778,
              "#fb9f3a"
             ],
             [
              0.8888888888888888,
              "#fdca26"
             ],
             [
              1,
              "#f0f921"
             ]
            ],
            "type": "surface"
           }
          ],
          "table": [
           {
            "cells": {
             "fill": {
              "color": "#EBF0F8"
             },
             "line": {
              "color": "white"
             }
            },
            "header": {
             "fill": {
              "color": "#C8D4E3"
             },
             "line": {
              "color": "white"
             }
            },
            "type": "table"
           }
          ]
         },
         "layout": {
          "annotationdefaults": {
           "arrowcolor": "#2a3f5f",
           "arrowhead": 0,
           "arrowwidth": 1
          },
          "autotypenumbers": "strict",
          "coloraxis": {
           "colorbar": {
            "outlinewidth": 0,
            "ticks": ""
           }
          },
          "colorscale": {
           "diverging": [
            [
             0,
             "#8e0152"
            ],
            [
             0.1,
             "#c51b7d"
            ],
            [
             0.2,
             "#de77ae"
            ],
            [
             0.3,
             "#f1b6da"
            ],
            [
             0.4,
             "#fde0ef"
            ],
            [
             0.5,
             "#f7f7f7"
            ],
            [
             0.6,
             "#e6f5d0"
            ],
            [
             0.7,
             "#b8e186"
            ],
            [
             0.8,
             "#7fbc41"
            ],
            [
             0.9,
             "#4d9221"
            ],
            [
             1,
             "#276419"
            ]
           ],
           "sequential": [
            [
             0,
             "#0d0887"
            ],
            [
             0.1111111111111111,
             "#46039f"
            ],
            [
             0.2222222222222222,
             "#7201a8"
            ],
            [
             0.3333333333333333,
             "#9c179e"
            ],
            [
             0.4444444444444444,
             "#bd3786"
            ],
            [
             0.5555555555555556,
             "#d8576b"
            ],
            [
             0.6666666666666666,
             "#ed7953"
            ],
            [
             0.7777777777777778,
             "#fb9f3a"
            ],
            [
             0.8888888888888888,
             "#fdca26"
            ],
            [
             1,
             "#f0f921"
            ]
           ],
           "sequentialminus": [
            [
             0,
             "#0d0887"
            ],
            [
             0.1111111111111111,
             "#46039f"
            ],
            [
             0.2222222222222222,
             "#7201a8"
            ],
            [
             0.3333333333333333,
             "#9c179e"
            ],
            [
             0.4444444444444444,
             "#bd3786"
            ],
            [
             0.5555555555555556,
             "#d8576b"
            ],
            [
             0.6666666666666666,
             "#ed7953"
            ],
            [
             0.7777777777777778,
             "#fb9f3a"
            ],
            [
             0.8888888888888888,
             "#fdca26"
            ],
            [
             1,
             "#f0f921"
            ]
           ]
          },
          "colorway": [
           "#636efa",
           "#EF553B",
           "#00cc96",
           "#ab63fa",
           "#FFA15A",
           "#19d3f3",
           "#FF6692",
           "#B6E880",
           "#FF97FF",
           "#FECB52"
          ],
          "font": {
           "color": "#2a3f5f"
          },
          "geo": {
           "bgcolor": "white",
           "lakecolor": "white",
           "landcolor": "#E5ECF6",
           "showlakes": true,
           "showland": true,
           "subunitcolor": "white"
          },
          "hoverlabel": {
           "align": "left"
          },
          "hovermode": "closest",
          "mapbox": {
           "style": "light"
          },
          "paper_bgcolor": "white",
          "plot_bgcolor": "#E5ECF6",
          "polar": {
           "angularaxis": {
            "gridcolor": "white",
            "linecolor": "white",
            "ticks": ""
           },
           "bgcolor": "#E5ECF6",
           "radialaxis": {
            "gridcolor": "white",
            "linecolor": "white",
            "ticks": ""
           }
          },
          "scene": {
           "xaxis": {
            "backgroundcolor": "#E5ECF6",
            "gridcolor": "white",
            "gridwidth": 2,
            "linecolor": "white",
            "showbackground": true,
            "ticks": "",
            "zerolinecolor": "white"
           },
           "yaxis": {
            "backgroundcolor": "#E5ECF6",
            "gridcolor": "white",
            "gridwidth": 2,
            "linecolor": "white",
            "showbackground": true,
            "ticks": "",
            "zerolinecolor": "white"
           },
           "zaxis": {
            "backgroundcolor": "#E5ECF6",
            "gridcolor": "white",
            "gridwidth": 2,
            "linecolor": "white",
            "showbackground": true,
            "ticks": "",
            "zerolinecolor": "white"
           }
          },
          "shapedefaults": {
           "line": {
            "color": "#2a3f5f"
           }
          },
          "ternary": {
           "aaxis": {
            "gridcolor": "white",
            "linecolor": "white",
            "ticks": ""
           },
           "baxis": {
            "gridcolor": "white",
            "linecolor": "white",
            "ticks": ""
           },
           "bgcolor": "#E5ECF6",
           "caxis": {
            "gridcolor": "white",
            "linecolor": "white",
            "ticks": ""
           }
          },
          "title": {
           "x": 0.05
          },
          "xaxis": {
           "automargin": true,
           "gridcolor": "white",
           "linecolor": "white",
           "ticks": "",
           "title": {
            "standoff": 15
           },
           "zerolinecolor": "white",
           "zerolinewidth": 2
          },
          "yaxis": {
           "automargin": true,
           "gridcolor": "white",
           "linecolor": "white",
           "ticks": "",
           "title": {
            "standoff": 15
           },
           "zerolinecolor": "white",
           "zerolinewidth": 2
          }
         }
        },
        "title": {
         "text": "Percentage CO Emission by State 2018"
        }
       }
      },
      "text/html": [
       "<div>                            <div id=\"59ef9e39-ff53-4d9e-89e5-8762f0a9e2d3\" class=\"plotly-graph-div\" style=\"height:525px; width:100%;\"></div>            <script type=\"text/javascript\">                require([\"plotly\"], function(Plotly) {                    window.PLOTLYENV=window.PLOTLYENV || {};                                    if (document.getElementById(\"59ef9e39-ff53-4d9e-89e5-8762f0a9e2d3\")) {                    Plotly.newPlot(                        \"59ef9e39-ff53-4d9e-89e5-8762f0a9e2d3\",                        [{\"coloraxis\": \"coloraxis\", \"geo\": \"geo\", \"hovertemplate\": \"locations=%{location}<br>Percent Relative to Highest Emissions=%{z}<extra></extra>\", \"locationmode\": \"USA-states\", \"locations\": [\"AL\", \"AK\", \"AZ\", \"AR\", \"CA\", \"CO\", \"CT\", \"DE\", \"DC\", \"FL\", \"GA\", \"HI\", \"ID\", \"IL\", \"IN\", \"IA\", \"KS\", \"KY\", \"LA\", \"ME\", \"MD\", \"MA\", \"MI\", \"MN\", \"MS\", \"MO\", \"MT\", \"NE\", \"NV\", \"NH\", \"NJ\", \"NM\", \"NY\", \"NC\", \"ND\", \"OH\", \"OK\", \"OR\", \"PA\", \"RI\", \"SC\", \"SD\", \"TN\", \"TX\", \"UT\", \"VT\", \"VA\", \"WA\", \"WV\", \"WI\", \"WY\"], \"name\": \"\", \"type\": \"choropleth\", \"z\": [28.76922498990197, 3.4738456023271103, 25.317086015042236, 14.73063814852655, 58.32523407559906, 25.176257281484038, 9.925089864750552, 3.573175541477802, 0.0, 100.0, 46.95593228322225, 4.513830089421392, 8.41476535114988, 48.035437111932175, 32.69559760527493, 15.54815144727356, 14.245129834287361, 19.71012246219516, 18.877770783302534, 6.159817531238263, 20.743431894270667, 19.527459693419594, 40.981881559743556, 31.616619452047313, 14.42043094762862, 30.690847052864946, 6.230871101384799, 9.844676754116062, 11.415396014857274, 4.769103550225616, 25.584126408869356, 8.727488024129709, 50.976589033298715, 45.25520033708451, 4.874094254244085, 46.19997686466129, 19.627704380211306, 18.78174505063889, 41.67466832859171, 1.8444030997174752, 24.744741121209866, 4.208870111360138, 31.65353427860606, 86.6961614970609, 11.853818069030945, 1.5831693196656185, 35.38990019769196, 31.45806614388534, 5.91116603373762, 26.90183970340604, 2.712974650017881]}],                        {\"coloraxis\": {\"colorbar\": {\"title\": {\"text\": \"Percent Relative to Highest Emissions\"}}, \"colorscale\": [[0.0, \"#0d0887\"], [0.1111111111111111, \"#46039f\"], [0.2222222222222222, \"#7201a8\"], [0.3333333333333333, \"#9c179e\"], [0.4444444444444444, \"#bd3786\"], [0.5555555555555556, \"#d8576b\"], [0.6666666666666666, \"#ed7953\"], [0.7777777777777778, \"#fb9f3a\"], [0.8888888888888888, \"#fdca26\"], [1.0, \"#f0f921\"]]}, \"geo\": {\"center\": {}, \"domain\": {\"x\": [0.0, 1.0], \"y\": [0.0, 1.0]}, \"scope\": \"usa\"}, \"legend\": {\"tracegroupgap\": 0}, \"template\": {\"data\": {\"bar\": [{\"error_x\": {\"color\": \"#2a3f5f\"}, \"error_y\": {\"color\": \"#2a3f5f\"}, \"marker\": {\"line\": {\"color\": \"#E5ECF6\", \"width\": 0.5}}, \"type\": \"bar\"}], \"barpolar\": [{\"marker\": {\"line\": {\"color\": \"#E5ECF6\", \"width\": 0.5}}, \"type\": \"barpolar\"}], \"carpet\": [{\"aaxis\": {\"endlinecolor\": \"#2a3f5f\", \"gridcolor\": \"white\", \"linecolor\": \"white\", \"minorgridcolor\": \"white\", \"startlinecolor\": \"#2a3f5f\"}, \"baxis\": {\"endlinecolor\": \"#2a3f5f\", \"gridcolor\": \"white\", \"linecolor\": \"white\", \"minorgridcolor\": \"white\", \"startlinecolor\": \"#2a3f5f\"}, \"type\": \"carpet\"}], \"choropleth\": [{\"colorbar\": {\"outlinewidth\": 0, \"ticks\": \"\"}, \"type\": \"choropleth\"}], \"contour\": [{\"colorbar\": {\"outlinewidth\": 0, \"ticks\": \"\"}, \"colorscale\": [[0.0, \"#0d0887\"], [0.1111111111111111, \"#46039f\"], [0.2222222222222222, \"#7201a8\"], [0.3333333333333333, \"#9c179e\"], [0.4444444444444444, \"#bd3786\"], [0.5555555555555556, \"#d8576b\"], [0.6666666666666666, \"#ed7953\"], [0.7777777777777778, \"#fb9f3a\"], [0.8888888888888888, \"#fdca26\"], [1.0, \"#f0f921\"]], \"type\": \"contour\"}], \"contourcarpet\": [{\"colorbar\": {\"outlinewidth\": 0, \"ticks\": \"\"}, \"type\": \"contourcarpet\"}], \"heatmap\": [{\"colorbar\": {\"outlinewidth\": 0, \"ticks\": \"\"}, \"colorscale\": [[0.0, \"#0d0887\"], [0.1111111111111111, \"#46039f\"], [0.2222222222222222, \"#7201a8\"], [0.3333333333333333, \"#9c179e\"], [0.4444444444444444, \"#bd3786\"], [0.5555555555555556, \"#d8576b\"], [0.6666666666666666, \"#ed7953\"], [0.7777777777777778, \"#fb9f3a\"], [0.8888888888888888, \"#fdca26\"], [1.0, \"#f0f921\"]], \"type\": \"heatmap\"}], \"heatmapgl\": [{\"colorbar\": {\"outlinewidth\": 0, \"ticks\": \"\"}, \"colorscale\": [[0.0, \"#0d0887\"], [0.1111111111111111, \"#46039f\"], [0.2222222222222222, \"#7201a8\"], [0.3333333333333333, \"#9c179e\"], [0.4444444444444444, \"#bd3786\"], [0.5555555555555556, \"#d8576b\"], [0.6666666666666666, \"#ed7953\"], [0.7777777777777778, \"#fb9f3a\"], [0.8888888888888888, \"#fdca26\"], [1.0, \"#f0f921\"]], \"type\": \"heatmapgl\"}], \"histogram\": [{\"marker\": {\"colorbar\": {\"outlinewidth\": 0, \"ticks\": \"\"}}, \"type\": \"histogram\"}], \"histogram2d\": [{\"colorbar\": {\"outlinewidth\": 0, \"ticks\": \"\"}, \"colorscale\": [[0.0, \"#0d0887\"], [0.1111111111111111, \"#46039f\"], [0.2222222222222222, \"#7201a8\"], [0.3333333333333333, \"#9c179e\"], [0.4444444444444444, \"#bd3786\"], [0.5555555555555556, \"#d8576b\"], [0.6666666666666666, \"#ed7953\"], [0.7777777777777778, \"#fb9f3a\"], [0.8888888888888888, \"#fdca26\"], [1.0, \"#f0f921\"]], \"type\": \"histogram2d\"}], \"histogram2dcontour\": [{\"colorbar\": {\"outlinewidth\": 0, \"ticks\": \"\"}, \"colorscale\": [[0.0, \"#0d0887\"], [0.1111111111111111, \"#46039f\"], [0.2222222222222222, \"#7201a8\"], [0.3333333333333333, \"#9c179e\"], [0.4444444444444444, \"#bd3786\"], [0.5555555555555556, \"#d8576b\"], [0.6666666666666666, \"#ed7953\"], [0.7777777777777778, \"#fb9f3a\"], [0.8888888888888888, \"#fdca26\"], [1.0, \"#f0f921\"]], \"type\": \"histogram2dcontour\"}], \"mesh3d\": [{\"colorbar\": {\"outlinewidth\": 0, \"ticks\": \"\"}, \"type\": \"mesh3d\"}], \"parcoords\": [{\"line\": {\"colorbar\": {\"outlinewidth\": 0, \"ticks\": \"\"}}, \"type\": \"parcoords\"}], \"pie\": [{\"automargin\": true, \"type\": \"pie\"}], \"scatter\": [{\"marker\": {\"colorbar\": {\"outlinewidth\": 0, \"ticks\": \"\"}}, \"type\": \"scatter\"}], \"scatter3d\": [{\"line\": {\"colorbar\": {\"outlinewidth\": 0, \"ticks\": \"\"}}, \"marker\": {\"colorbar\": {\"outlinewidth\": 0, \"ticks\": \"\"}}, \"type\": \"scatter3d\"}], \"scattercarpet\": [{\"marker\": {\"colorbar\": {\"outlinewidth\": 0, \"ticks\": \"\"}}, \"type\": \"scattercarpet\"}], \"scattergeo\": [{\"marker\": {\"colorbar\": {\"outlinewidth\": 0, \"ticks\": \"\"}}, \"type\": \"scattergeo\"}], \"scattergl\": [{\"marker\": {\"colorbar\": {\"outlinewidth\": 0, \"ticks\": \"\"}}, \"type\": \"scattergl\"}], \"scattermapbox\": [{\"marker\": {\"colorbar\": {\"outlinewidth\": 0, \"ticks\": \"\"}}, \"type\": \"scattermapbox\"}], \"scatterpolar\": [{\"marker\": {\"colorbar\": {\"outlinewidth\": 0, \"ticks\": \"\"}}, \"type\": \"scatterpolar\"}], \"scatterpolargl\": [{\"marker\": {\"colorbar\": {\"outlinewidth\": 0, \"ticks\": \"\"}}, \"type\": \"scatterpolargl\"}], \"scatterternary\": [{\"marker\": {\"colorbar\": {\"outlinewidth\": 0, \"ticks\": \"\"}}, \"type\": \"scatterternary\"}], \"surface\": [{\"colorbar\": {\"outlinewidth\": 0, \"ticks\": \"\"}, \"colorscale\": [[0.0, \"#0d0887\"], [0.1111111111111111, \"#46039f\"], [0.2222222222222222, \"#7201a8\"], [0.3333333333333333, \"#9c179e\"], [0.4444444444444444, \"#bd3786\"], [0.5555555555555556, \"#d8576b\"], [0.6666666666666666, \"#ed7953\"], [0.7777777777777778, \"#fb9f3a\"], [0.8888888888888888, \"#fdca26\"], [1.0, \"#f0f921\"]], \"type\": \"surface\"}], \"table\": [{\"cells\": {\"fill\": {\"color\": \"#EBF0F8\"}, \"line\": {\"color\": \"white\"}}, \"header\": {\"fill\": {\"color\": \"#C8D4E3\"}, \"line\": {\"color\": \"white\"}}, \"type\": \"table\"}]}, \"layout\": {\"annotationdefaults\": {\"arrowcolor\": \"#2a3f5f\", \"arrowhead\": 0, \"arrowwidth\": 1}, \"autotypenumbers\": \"strict\", \"coloraxis\": {\"colorbar\": {\"outlinewidth\": 0, \"ticks\": \"\"}}, \"colorscale\": {\"diverging\": [[0, \"#8e0152\"], [0.1, \"#c51b7d\"], [0.2, \"#de77ae\"], [0.3, \"#f1b6da\"], [0.4, \"#fde0ef\"], [0.5, \"#f7f7f7\"], [0.6, \"#e6f5d0\"], [0.7, \"#b8e186\"], [0.8, \"#7fbc41\"], [0.9, \"#4d9221\"], [1, \"#276419\"]], \"sequential\": [[0.0, \"#0d0887\"], [0.1111111111111111, \"#46039f\"], [0.2222222222222222, \"#7201a8\"], [0.3333333333333333, \"#9c179e\"], [0.4444444444444444, \"#bd3786\"], [0.5555555555555556, \"#d8576b\"], [0.6666666666666666, \"#ed7953\"], [0.7777777777777778, \"#fb9f3a\"], [0.8888888888888888, \"#fdca26\"], [1.0, \"#f0f921\"]], \"sequentialminus\": [[0.0, \"#0d0887\"], [0.1111111111111111, \"#46039f\"], [0.2222222222222222, \"#7201a8\"], [0.3333333333333333, \"#9c179e\"], [0.4444444444444444, \"#bd3786\"], [0.5555555555555556, \"#d8576b\"], [0.6666666666666666, \"#ed7953\"], [0.7777777777777778, \"#fb9f3a\"], [0.8888888888888888, \"#fdca26\"], [1.0, \"#f0f921\"]]}, \"colorway\": [\"#636efa\", \"#EF553B\", \"#00cc96\", \"#ab63fa\", \"#FFA15A\", \"#19d3f3\", \"#FF6692\", \"#B6E880\", \"#FF97FF\", \"#FECB52\"], \"font\": {\"color\": \"#2a3f5f\"}, \"geo\": {\"bgcolor\": \"white\", \"lakecolor\": \"white\", \"landcolor\": \"#E5ECF6\", \"showlakes\": true, \"showland\": true, \"subunitcolor\": \"white\"}, \"hoverlabel\": {\"align\": \"left\"}, \"hovermode\": \"closest\", \"mapbox\": {\"style\": \"light\"}, \"paper_bgcolor\": \"white\", \"plot_bgcolor\": \"#E5ECF6\", \"polar\": {\"angularaxis\": {\"gridcolor\": \"white\", \"linecolor\": \"white\", \"ticks\": \"\"}, \"bgcolor\": \"#E5ECF6\", \"radialaxis\": {\"gridcolor\": \"white\", \"linecolor\": \"white\", \"ticks\": \"\"}}, \"scene\": {\"xaxis\": {\"backgroundcolor\": \"#E5ECF6\", \"gridcolor\": \"white\", \"gridwidth\": 2, \"linecolor\": \"white\", \"showbackground\": true, \"ticks\": \"\", \"zerolinecolor\": \"white\"}, \"yaxis\": {\"backgroundcolor\": \"#E5ECF6\", \"gridcolor\": \"white\", \"gridwidth\": 2, \"linecolor\": \"white\", \"showbackground\": true, \"ticks\": \"\", \"zerolinecolor\": \"white\"}, \"zaxis\": {\"backgroundcolor\": \"#E5ECF6\", \"gridcolor\": \"white\", \"gridwidth\": 2, \"linecolor\": \"white\", \"showbackground\": true, \"ticks\": \"\", \"zerolinecolor\": \"white\"}}, \"shapedefaults\": {\"line\": {\"color\": \"#2a3f5f\"}}, \"ternary\": {\"aaxis\": {\"gridcolor\": \"white\", \"linecolor\": \"white\", \"ticks\": \"\"}, \"baxis\": {\"gridcolor\": \"white\", \"linecolor\": \"white\", \"ticks\": \"\"}, \"bgcolor\": \"#E5ECF6\", \"caxis\": {\"gridcolor\": \"white\", \"linecolor\": \"white\", \"ticks\": \"\"}}, \"title\": {\"x\": 0.05}, \"xaxis\": {\"automargin\": true, \"gridcolor\": \"white\", \"linecolor\": \"white\", \"ticks\": \"\", \"title\": {\"standoff\": 15}, \"zerolinecolor\": \"white\", \"zerolinewidth\": 2}, \"yaxis\": {\"automargin\": true, \"gridcolor\": \"white\", \"linecolor\": \"white\", \"ticks\": \"\", \"title\": {\"standoff\": 15}, \"zerolinecolor\": \"white\", \"zerolinewidth\": 2}}}, \"title\": {\"text\": \"Percentage CO Emission by State 2018\"}},                        {\"responsive\": true}                    ).then(function(){\n",
       "                            \n",
       "var gd = document.getElementById('59ef9e39-ff53-4d9e-89e5-8762f0a9e2d3');\n",
       "var x = new MutationObserver(function (mutations, observer) {{\n",
       "        var display = window.getComputedStyle(gd).display;\n",
       "        if (!display || display === 'none') {{\n",
       "            console.log([gd, 'removed!']);\n",
       "            Plotly.purge(gd);\n",
       "            observer.disconnect();\n",
       "        }}\n",
       "}});\n",
       "\n",
       "// Listen for the removal of the full notebook cells\n",
       "var notebookContainer = gd.closest('#notebook-container');\n",
       "if (notebookContainer) {{\n",
       "    x.observe(notebookContainer, {childList: true});\n",
       "}}\n",
       "\n",
       "// Listen for the clearing of the current output cell\n",
       "var outputEl = gd.closest('.output');\n",
       "if (outputEl) {{\n",
       "    x.observe(outputEl, {childList: true});\n",
       "}}\n",
       "\n",
       "                        })                };                });            </script>        </div>"
      ]
     },
     "metadata": {},
     "output_type": "display_data"
    }
   ],
   "source": [
    "fig = px.choropleth(locations=solutions, locationmode=\"USA-states\", \n",
    "                    color=for_heat_map_1990.column('percentsCol2'), scope=\"usa\", \n",
    "                    labels={'color':'Percent Relative to Highest Emissions'}, title  = 'Percentage CO Emission by State 2018')\n",
    "fig.show()"
   ]
  },
  {
   "cell_type": "code",
   "execution_count": 640,
   "metadata": {},
   "outputs": [
    {
     "ename": "TypeError",
     "evalue": "'tuple' object is not callable",
     "output_type": "error",
     "traceback": [
      "\u001b[1;31m---------------------------------------------------------------------------\u001b[0m",
      "\u001b[1;31mTypeError\u001b[0m                                 Traceback (most recent call last)",
      "\u001b[1;32m<ipython-input-640-0eef0c7613ea>\u001b[0m in \u001b[0;36m<module>\u001b[1;34m\u001b[0m\n\u001b[0;32m     10\u001b[0m \u001b[0mt_slopes\u001b[0m \u001b[1;33m=\u001b[0m \u001b[0mt_slopes\u001b[0m\u001b[1;33m.\u001b[0m\u001b[0msort\u001b[0m\u001b[1;33m(\u001b[0m\u001b[1;34m\"Percentage Change in CO Emissions \\nBetween 1990 and 2018\"\u001b[0m\u001b[1;33m,\u001b[0m \u001b[0mdescending\u001b[0m\u001b[1;33m=\u001b[0m\u001b[1;32mFalse\u001b[0m\u001b[1;33m)\u001b[0m\u001b[1;33m\u001b[0m\u001b[1;33m\u001b[0m\u001b[0m\n\u001b[0;32m     11\u001b[0m \u001b[0mt_slopes\u001b[0m \u001b[1;33m=\u001b[0m \u001b[0mt_slopes\u001b[0m\u001b[1;33m.\u001b[0m\u001b[0mrelabeled\u001b[0m\u001b[1;33m(\u001b[0m\u001b[1;34m\"1990\"\u001b[0m\u001b[1;33m,\u001b[0m \u001b[1;34m\"CO Emissions in 1990\"\u001b[0m\u001b[1;33m)\u001b[0m\u001b[1;33m.\u001b[0m\u001b[0mrelabeled\u001b[0m\u001b[1;33m(\u001b[0m\u001b[1;34m\"2018\"\u001b[0m\u001b[1;33m,\u001b[0m \u001b[1;34m\"CO Emissions in 2018\"\u001b[0m\u001b[1;33m)\u001b[0m\u001b[1;33m\u001b[0m\u001b[1;33m\u001b[0m\u001b[0m\n\u001b[1;32m---> 12\u001b[1;33m \u001b[0mt_slopes\u001b[0m\u001b[1;33m.\u001b[0m\u001b[0mrelabeled\u001b[0m\u001b[1;33m(\u001b[0m\u001b[0mt_slopes\u001b[0m\u001b[1;33m.\u001b[0m\u001b[0mlabels\u001b[0m\u001b[1;33m(\u001b[0m\u001b[1;36m4\u001b[0m\u001b[1;33m)\u001b[0m\u001b[1;33m,\u001b[0m \u001b[1;34m\"% Change in CO Emissions Btwn. 1990 and 2018\"\u001b[0m\u001b[1;33m)\u001b[0m\u001b[1;33m\u001b[0m\u001b[1;33m\u001b[0m\u001b[0m\n\u001b[0m\u001b[0;32m     13\u001b[0m \u001b[0mt_slopes\u001b[0m\u001b[1;33m\u001b[0m\u001b[1;33m\u001b[0m\u001b[0m\n",
      "\u001b[1;31mTypeError\u001b[0m: 'tuple' object is not callable"
     ]
    }
   ],
   "source": [
    "#CALCULATE WHICH STATE HAS MOST NEGATIVE CHANGE IN CO\n",
    "# Emissions in 1000 / tons\n",
    "t_slopes = tfinal.select(\"State\", \"Statefip\", \"1990\", \"2018\")\n",
    "\n",
    "em_1990 = t_slopes.column(\"1990\")\n",
    "em_2018 = t_slopes.column(\"2018\")\n",
    "change_in_em = (em_2018-em_1990)/em_1990\n",
    "change_in_em_abs = abs(change_in_em)\n",
    "t_slopes = t_slopes.with_columns(\"Percentage Change in CO Emissions \\nBetween 1990 and 2018\", change_in_em, \"Percentage Decrease in CO Emissions \\m Between 1990 and 2018\", change_in_em_abs)\n",
    "t_slopes = t_slopes.sort(\"Percentage Change in CO Emissions \\nBetween 1990 and 2018\", descending=False)\n",
    "t_slopes = t_slopes.relabeled(\"1990\", \"CO Emissions in 1990\").relabeled(\"2018\", \"CO Emissions in 2018\")\n",
    "t_slopes.relabeled(t_slopes.labels(4), \"% Change in CO Emissions Btwn. 1990 and 2018\")\n",
    "t_slopes"
   ]
  },
  {
   "cell_type": "code",
   "execution_count": 646,
   "metadata": {},
   "outputs": [
    {
     "data": {
      "text/html": [
       "<table border=\"1\" class=\"dataframe\">\n",
       "    <thead>\n",
       "        <tr>\n",
       "            <th>State</th> <th>1990 CO Emissions</th> <th>2018 CO Emissions</th> <th>% Change in CO Emissions Btwn. 1990 & 2018</th>\n",
       "        </tr>\n",
       "    </thead>\n",
       "    <tbody>\n",
       "        <tr>\n",
       "            <td>AL   </td> <td>2661.17          </td> <td>668.663          </td> <td>-0.748733                                 </td>\n",
       "        </tr>\n",
       "        <tr>\n",
       "            <td>AK   </td> <td>327.679          </td> <td>108.09           </td> <td>-0.670134                                 </td>\n",
       "        </tr>\n",
       "        <tr>\n",
       "            <td>AZ   </td> <td>2047.74          </td> <td>592.16           </td> <td>-0.710822                                 </td>\n",
       "        </tr>\n",
       "        <tr>\n",
       "            <td>AR   </td> <td>1357.53          </td> <td>357.553          </td> <td>-0.736615                                 </td>\n",
       "        </tr>\n",
       "        <tr>\n",
       "            <td>CA   </td> <td>14176            </td> <td>1323.66          </td> <td>-0.906627                                 </td>\n",
       "        </tr>\n",
       "        <tr>\n",
       "            <td>CO   </td> <td>2130.68          </td> <td>589.039          </td> <td>-0.723545                                 </td>\n",
       "        </tr>\n",
       "        <tr>\n",
       "            <td>CT   </td> <td>1504.76          </td> <td>251.057          </td> <td>-0.833158                                 </td>\n",
       "        </tr>\n",
       "        <tr>\n",
       "            <td>DE   </td> <td>400.852          </td> <td>110.292          </td> <td>-0.724857                                 </td>\n",
       "        </tr>\n",
       "        <tr>\n",
       "            <td>DC   </td> <td>155.221          </td> <td>31.1061          </td> <td>-0.799601                                 </td>\n",
       "        </tr>\n",
       "        <tr>\n",
       "            <td>FL   </td> <td>6836.09          </td> <td>2247.21          </td> <td>-0.671272                                 </td>\n",
       "        </tr>\n",
       "    </tbody>\n",
       "</table>\n",
       "<p>... (41 rows omitted)</p>"
      ],
      "text/plain": [
       "State | 1990 CO Emissions | 2018 CO Emissions | % Change in CO Emissions Btwn. 1990 & 2018\n",
       "AL    | 2661.17           | 668.663           | -0.748733\n",
       "AK    | 327.679           | 108.09            | -0.670134\n",
       "AZ    | 2047.74           | 592.16            | -0.710822\n",
       "AR    | 1357.53           | 357.553           | -0.736615\n",
       "CA    | 14176             | 1323.66           | -0.906627\n",
       "CO    | 2130.68           | 589.039           | -0.723545\n",
       "CT    | 1504.76           | 251.057           | -0.833158\n",
       "DE    | 400.852           | 110.292           | -0.724857\n",
       "DC    | 155.221           | 31.1061           | -0.799601\n",
       "FL    | 6836.09           | 2247.21           | -0.671272\n",
       "... (41 rows omitted)"
      ]
     },
     "execution_count": 646,
     "metadata": {},
     "output_type": "execute_result"
    }
   ],
   "source": [
    "# t_slopes = t_slopes.sort(\"Statefip\", descending=False)\n",
    "# t_slopes = t_slopes.drop(\"Statefip\").drop(\"Percentage Decrease in CO Emissions \\m Between 1990 and 2018\").relabel(\"CO Emissions in 1990\", \"1990 CO Emissions\").relabel(\"CO Emissions in 2018\", \"2018 CO Emissions\")\n",
    "t_slopes2 = Table().with_columns(\"State\", t_slopes.column(\"State\"), \"1990 CO Emissions\", t_slopes.column(\"1990 CO Emissions\"), \"2018 CO Emissions\", t_slopes.column(\"2018 CO Emissions\"), \"% Change in CO Emissions Btwn. 1990 & 2018\", t_slopes.column(3))\n",
    "t_slopes2"
   ]
  },
  {
   "cell_type": "code",
   "execution_count": 530,
   "metadata": {},
   "outputs": [
    {
     "data": {
      "text/html": [
       "<table border=\"1\" class=\"dataframe\">\n",
       "    <thead>\n",
       "        <tr>\n",
       "            <th>State</th> <th>Statefip</th> <th>CO Emissions in 1990</th> <th>CO Emissions in 2018</th> <th>Percentage Change in CO Emissions \n",
       "Between 1990 and 2018</th> <th>Percentage Decrease in CO Emissions \\m Between 1990 and 2018</th>\n",
       "        </tr>\n",
       "    </thead>\n",
       "    <tbody>\n",
       "        <tr>\n",
       "            <td>TX   </td> <td>48      </td> <td>9512.81             </td> <td>1952.39             </td> <td>-0.794762                                               </td> <td>0.794762                                                    </td>\n",
       "        </tr>\n",
       "    </tbody>\n",
       "</table>"
      ],
      "text/plain": [
       "State | Statefip | CO Emissions in 1990 | CO Emissions in 2018 | Percentage Change in CO Emissions \n",
       "Between 1990 and 2018 | Percentage Decrease in CO Emissions \\m Between 1990 and 2018\n",
       "TX    | 48       | 9512.81              | 1952.39              | -0.794762                                                | 0.794762"
      ]
     },
     "execution_count": 530,
     "metadata": {},
     "output_type": "execute_result"
    }
   ],
   "source": [
    "t_slopes.where(\"State\", \"TX\")"
   ]
  },
  {
   "cell_type": "code",
   "execution_count": 529,
   "metadata": {},
   "outputs": [
    {
     "data": {
      "application/vnd.plotly.v1+json": {
       "config": {
        "plotlyServerURL": "https://plot.ly"
       },
       "data": [
        {
         "coloraxis": "coloraxis",
         "geo": "geo",
         "hovertemplate": "locations=%{location}<br>Percentage Decrease=%{z}<extra></extra>",
         "locationmode": "USA-states",
         "locations": [
          "AL",
          "AK",
          "AZ",
          "AR",
          "CA",
          "CO",
          "CT",
          "DE",
          "DC",
          "FL",
          "GA",
          "HI",
          "ID",
          "IL",
          "IN",
          "IA",
          "KS",
          "KY",
          "LA",
          "ME",
          "MD",
          "MA",
          "MI",
          "MN",
          "MS",
          "MO",
          "MT",
          "NE",
          "NV",
          "NH",
          "NJ",
          "NM",
          "NY",
          "NC",
          "ND",
          "OH",
          "OK",
          "OR",
          "PA",
          "RI",
          "SC",
          "SD",
          "TN",
          "TX",
          "UT",
          "VT",
          "VA",
          "WA",
          "WV",
          "WI",
          "WY"
         ],
         "name": "",
         "type": "choropleth",
         "z": [
          0.7487329328186476,
          0.6701340812105195,
          0.7108219891091521,
          0.7366149845867848,
          0.9066271748236333,
          0.7235446001994927,
          0.8331580979902271,
          0.72485693549863,
          0.7996010031577588,
          0.6712720375418589,
          0.7349953625199074,
          0.7429245927474836,
          0.6862845523930621,
          0.7917604546207418,
          0.7579294454660578,
          0.7726366050788481,
          0.7731968180263444,
          0.7675755023288955,
          0.7545822261813804,
          0.7963123228837452,
          0.8038606157249313,
          0.8266958108852382,
          0.8291552686867818,
          0.7471240308461644,
          0.7722278745642065,
          0.7600989666867407,
          0.7081996298757254,
          0.7452704044481485,
          0.6138641360794406,
          0.7991555323165827,
          0.8154101935248864,
          0.8148798907979806,
          0.822806463347453,
          0.7302433782037466,
          0.7030719479390515,
          0.8118222072047513,
          0.7714324265668998,
          0.7369776451139421,
          0.8167820687193842,
          0.8287558578079407,
          0.7401859937807455,
          0.75391569896585,
          0.7527444948899696,
          0.7947623648932257,
          0.7525607311014065,
          0.8371657950921629,
          0.7777719858380915,
          0.7466893947803622,
          0.8270999193565057,
          0.7581917352572565,
          0.7766473125239518
         ]
        }
       ],
       "layout": {
        "coloraxis": {
         "colorbar": {
          "title": {
           "text": "Percentage Decrease"
          }
         },
         "colorscale": [
          [
           0,
           "#0d0887"
          ],
          [
           0.1111111111111111,
           "#46039f"
          ],
          [
           0.2222222222222222,
           "#7201a8"
          ],
          [
           0.3333333333333333,
           "#9c179e"
          ],
          [
           0.4444444444444444,
           "#bd3786"
          ],
          [
           0.5555555555555556,
           "#d8576b"
          ],
          [
           0.6666666666666666,
           "#ed7953"
          ],
          [
           0.7777777777777778,
           "#fb9f3a"
          ],
          [
           0.8888888888888888,
           "#fdca26"
          ],
          [
           1,
           "#f0f921"
          ]
         ]
        },
        "geo": {
         "center": {},
         "domain": {
          "x": [
           0,
           1
          ],
          "y": [
           0,
           1
          ]
         },
         "scope": "usa"
        },
        "legend": {
         "tracegroupgap": 0
        },
        "template": {
         "data": {
          "bar": [
           {
            "error_x": {
             "color": "#2a3f5f"
            },
            "error_y": {
             "color": "#2a3f5f"
            },
            "marker": {
             "line": {
              "color": "#E5ECF6",
              "width": 0.5
             }
            },
            "type": "bar"
           }
          ],
          "barpolar": [
           {
            "marker": {
             "line": {
              "color": "#E5ECF6",
              "width": 0.5
             }
            },
            "type": "barpolar"
           }
          ],
          "carpet": [
           {
            "aaxis": {
             "endlinecolor": "#2a3f5f",
             "gridcolor": "white",
             "linecolor": "white",
             "minorgridcolor": "white",
             "startlinecolor": "#2a3f5f"
            },
            "baxis": {
             "endlinecolor": "#2a3f5f",
             "gridcolor": "white",
             "linecolor": "white",
             "minorgridcolor": "white",
             "startlinecolor": "#2a3f5f"
            },
            "type": "carpet"
           }
          ],
          "choropleth": [
           {
            "colorbar": {
             "outlinewidth": 0,
             "ticks": ""
            },
            "type": "choropleth"
           }
          ],
          "contour": [
           {
            "colorbar": {
             "outlinewidth": 0,
             "ticks": ""
            },
            "colorscale": [
             [
              0,
              "#0d0887"
             ],
             [
              0.1111111111111111,
              "#46039f"
             ],
             [
              0.2222222222222222,
              "#7201a8"
             ],
             [
              0.3333333333333333,
              "#9c179e"
             ],
             [
              0.4444444444444444,
              "#bd3786"
             ],
             [
              0.5555555555555556,
              "#d8576b"
             ],
             [
              0.6666666666666666,
              "#ed7953"
             ],
             [
              0.7777777777777778,
              "#fb9f3a"
             ],
             [
              0.8888888888888888,
              "#fdca26"
             ],
             [
              1,
              "#f0f921"
             ]
            ],
            "type": "contour"
           }
          ],
          "contourcarpet": [
           {
            "colorbar": {
             "outlinewidth": 0,
             "ticks": ""
            },
            "type": "contourcarpet"
           }
          ],
          "heatmap": [
           {
            "colorbar": {
             "outlinewidth": 0,
             "ticks": ""
            },
            "colorscale": [
             [
              0,
              "#0d0887"
             ],
             [
              0.1111111111111111,
              "#46039f"
             ],
             [
              0.2222222222222222,
              "#7201a8"
             ],
             [
              0.3333333333333333,
              "#9c179e"
             ],
             [
              0.4444444444444444,
              "#bd3786"
             ],
             [
              0.5555555555555556,
              "#d8576b"
             ],
             [
              0.6666666666666666,
              "#ed7953"
             ],
             [
              0.7777777777777778,
              "#fb9f3a"
             ],
             [
              0.8888888888888888,
              "#fdca26"
             ],
             [
              1,
              "#f0f921"
             ]
            ],
            "type": "heatmap"
           }
          ],
          "heatmapgl": [
           {
            "colorbar": {
             "outlinewidth": 0,
             "ticks": ""
            },
            "colorscale": [
             [
              0,
              "#0d0887"
             ],
             [
              0.1111111111111111,
              "#46039f"
             ],
             [
              0.2222222222222222,
              "#7201a8"
             ],
             [
              0.3333333333333333,
              "#9c179e"
             ],
             [
              0.4444444444444444,
              "#bd3786"
             ],
             [
              0.5555555555555556,
              "#d8576b"
             ],
             [
              0.6666666666666666,
              "#ed7953"
             ],
             [
              0.7777777777777778,
              "#fb9f3a"
             ],
             [
              0.8888888888888888,
              "#fdca26"
             ],
             [
              1,
              "#f0f921"
             ]
            ],
            "type": "heatmapgl"
           }
          ],
          "histogram": [
           {
            "marker": {
             "colorbar": {
              "outlinewidth": 0,
              "ticks": ""
             }
            },
            "type": "histogram"
           }
          ],
          "histogram2d": [
           {
            "colorbar": {
             "outlinewidth": 0,
             "ticks": ""
            },
            "colorscale": [
             [
              0,
              "#0d0887"
             ],
             [
              0.1111111111111111,
              "#46039f"
             ],
             [
              0.2222222222222222,
              "#7201a8"
             ],
             [
              0.3333333333333333,
              "#9c179e"
             ],
             [
              0.4444444444444444,
              "#bd3786"
             ],
             [
              0.5555555555555556,
              "#d8576b"
             ],
             [
              0.6666666666666666,
              "#ed7953"
             ],
             [
              0.7777777777777778,
              "#fb9f3a"
             ],
             [
              0.8888888888888888,
              "#fdca26"
             ],
             [
              1,
              "#f0f921"
             ]
            ],
            "type": "histogram2d"
           }
          ],
          "histogram2dcontour": [
           {
            "colorbar": {
             "outlinewidth": 0,
             "ticks": ""
            },
            "colorscale": [
             [
              0,
              "#0d0887"
             ],
             [
              0.1111111111111111,
              "#46039f"
             ],
             [
              0.2222222222222222,
              "#7201a8"
             ],
             [
              0.3333333333333333,
              "#9c179e"
             ],
             [
              0.4444444444444444,
              "#bd3786"
             ],
             [
              0.5555555555555556,
              "#d8576b"
             ],
             [
              0.6666666666666666,
              "#ed7953"
             ],
             [
              0.7777777777777778,
              "#fb9f3a"
             ],
             [
              0.8888888888888888,
              "#fdca26"
             ],
             [
              1,
              "#f0f921"
             ]
            ],
            "type": "histogram2dcontour"
           }
          ],
          "mesh3d": [
           {
            "colorbar": {
             "outlinewidth": 0,
             "ticks": ""
            },
            "type": "mesh3d"
           }
          ],
          "parcoords": [
           {
            "line": {
             "colorbar": {
              "outlinewidth": 0,
              "ticks": ""
             }
            },
            "type": "parcoords"
           }
          ],
          "pie": [
           {
            "automargin": true,
            "type": "pie"
           }
          ],
          "scatter": [
           {
            "marker": {
             "colorbar": {
              "outlinewidth": 0,
              "ticks": ""
             }
            },
            "type": "scatter"
           }
          ],
          "scatter3d": [
           {
            "line": {
             "colorbar": {
              "outlinewidth": 0,
              "ticks": ""
             }
            },
            "marker": {
             "colorbar": {
              "outlinewidth": 0,
              "ticks": ""
             }
            },
            "type": "scatter3d"
           }
          ],
          "scattercarpet": [
           {
            "marker": {
             "colorbar": {
              "outlinewidth": 0,
              "ticks": ""
             }
            },
            "type": "scattercarpet"
           }
          ],
          "scattergeo": [
           {
            "marker": {
             "colorbar": {
              "outlinewidth": 0,
              "ticks": ""
             }
            },
            "type": "scattergeo"
           }
          ],
          "scattergl": [
           {
            "marker": {
             "colorbar": {
              "outlinewidth": 0,
              "ticks": ""
             }
            },
            "type": "scattergl"
           }
          ],
          "scattermapbox": [
           {
            "marker": {
             "colorbar": {
              "outlinewidth": 0,
              "ticks": ""
             }
            },
            "type": "scattermapbox"
           }
          ],
          "scatterpolar": [
           {
            "marker": {
             "colorbar": {
              "outlinewidth": 0,
              "ticks": ""
             }
            },
            "type": "scatterpolar"
           }
          ],
          "scatterpolargl": [
           {
            "marker": {
             "colorbar": {
              "outlinewidth": 0,
              "ticks": ""
             }
            },
            "type": "scatterpolargl"
           }
          ],
          "scatterternary": [
           {
            "marker": {
             "colorbar": {
              "outlinewidth": 0,
              "ticks": ""
             }
            },
            "type": "scatterternary"
           }
          ],
          "surface": [
           {
            "colorbar": {
             "outlinewidth": 0,
             "ticks": ""
            },
            "colorscale": [
             [
              0,
              "#0d0887"
             ],
             [
              0.1111111111111111,
              "#46039f"
             ],
             [
              0.2222222222222222,
              "#7201a8"
             ],
             [
              0.3333333333333333,
              "#9c179e"
             ],
             [
              0.4444444444444444,
              "#bd3786"
             ],
             [
              0.5555555555555556,
              "#d8576b"
             ],
             [
              0.6666666666666666,
              "#ed7953"
             ],
             [
              0.7777777777777778,
              "#fb9f3a"
             ],
             [
              0.8888888888888888,
              "#fdca26"
             ],
             [
              1,
              "#f0f921"
             ]
            ],
            "type": "surface"
           }
          ],
          "table": [
           {
            "cells": {
             "fill": {
              "color": "#EBF0F8"
             },
             "line": {
              "color": "white"
             }
            },
            "header": {
             "fill": {
              "color": "#C8D4E3"
             },
             "line": {
              "color": "white"
             }
            },
            "type": "table"
           }
          ]
         },
         "layout": {
          "annotationdefaults": {
           "arrowcolor": "#2a3f5f",
           "arrowhead": 0,
           "arrowwidth": 1
          },
          "autotypenumbers": "strict",
          "coloraxis": {
           "colorbar": {
            "outlinewidth": 0,
            "ticks": ""
           }
          },
          "colorscale": {
           "diverging": [
            [
             0,
             "#8e0152"
            ],
            [
             0.1,
             "#c51b7d"
            ],
            [
             0.2,
             "#de77ae"
            ],
            [
             0.3,
             "#f1b6da"
            ],
            [
             0.4,
             "#fde0ef"
            ],
            [
             0.5,
             "#f7f7f7"
            ],
            [
             0.6,
             "#e6f5d0"
            ],
            [
             0.7,
             "#b8e186"
            ],
            [
             0.8,
             "#7fbc41"
            ],
            [
             0.9,
             "#4d9221"
            ],
            [
             1,
             "#276419"
            ]
           ],
           "sequential": [
            [
             0,
             "#0d0887"
            ],
            [
             0.1111111111111111,
             "#46039f"
            ],
            [
             0.2222222222222222,
             "#7201a8"
            ],
            [
             0.3333333333333333,
             "#9c179e"
            ],
            [
             0.4444444444444444,
             "#bd3786"
            ],
            [
             0.5555555555555556,
             "#d8576b"
            ],
            [
             0.6666666666666666,
             "#ed7953"
            ],
            [
             0.7777777777777778,
             "#fb9f3a"
            ],
            [
             0.8888888888888888,
             "#fdca26"
            ],
            [
             1,
             "#f0f921"
            ]
           ],
           "sequentialminus": [
            [
             0,
             "#0d0887"
            ],
            [
             0.1111111111111111,
             "#46039f"
            ],
            [
             0.2222222222222222,
             "#7201a8"
            ],
            [
             0.3333333333333333,
             "#9c179e"
            ],
            [
             0.4444444444444444,
             "#bd3786"
            ],
            [
             0.5555555555555556,
             "#d8576b"
            ],
            [
             0.6666666666666666,
             "#ed7953"
            ],
            [
             0.7777777777777778,
             "#fb9f3a"
            ],
            [
             0.8888888888888888,
             "#fdca26"
            ],
            [
             1,
             "#f0f921"
            ]
           ]
          },
          "colorway": [
           "#636efa",
           "#EF553B",
           "#00cc96",
           "#ab63fa",
           "#FFA15A",
           "#19d3f3",
           "#FF6692",
           "#B6E880",
           "#FF97FF",
           "#FECB52"
          ],
          "font": {
           "color": "#2a3f5f"
          },
          "geo": {
           "bgcolor": "white",
           "lakecolor": "white",
           "landcolor": "#E5ECF6",
           "showlakes": true,
           "showland": true,
           "subunitcolor": "white"
          },
          "hoverlabel": {
           "align": "left"
          },
          "hovermode": "closest",
          "mapbox": {
           "style": "light"
          },
          "paper_bgcolor": "white",
          "plot_bgcolor": "#E5ECF6",
          "polar": {
           "angularaxis": {
            "gridcolor": "white",
            "linecolor": "white",
            "ticks": ""
           },
           "bgcolor": "#E5ECF6",
           "radialaxis": {
            "gridcolor": "white",
            "linecolor": "white",
            "ticks": ""
           }
          },
          "scene": {
           "xaxis": {
            "backgroundcolor": "#E5ECF6",
            "gridcolor": "white",
            "gridwidth": 2,
            "linecolor": "white",
            "showbackground": true,
            "ticks": "",
            "zerolinecolor": "white"
           },
           "yaxis": {
            "backgroundcolor": "#E5ECF6",
            "gridcolor": "white",
            "gridwidth": 2,
            "linecolor": "white",
            "showbackground": true,
            "ticks": "",
            "zerolinecolor": "white"
           },
           "zaxis": {
            "backgroundcolor": "#E5ECF6",
            "gridcolor": "white",
            "gridwidth": 2,
            "linecolor": "white",
            "showbackground": true,
            "ticks": "",
            "zerolinecolor": "white"
           }
          },
          "shapedefaults": {
           "line": {
            "color": "#2a3f5f"
           }
          },
          "ternary": {
           "aaxis": {
            "gridcolor": "white",
            "linecolor": "white",
            "ticks": ""
           },
           "baxis": {
            "gridcolor": "white",
            "linecolor": "white",
            "ticks": ""
           },
           "bgcolor": "#E5ECF6",
           "caxis": {
            "gridcolor": "white",
            "linecolor": "white",
            "ticks": ""
           }
          },
          "title": {
           "x": 0.05
          },
          "xaxis": {
           "automargin": true,
           "gridcolor": "white",
           "linecolor": "white",
           "ticks": "",
           "title": {
            "standoff": 15
           },
           "zerolinecolor": "white",
           "zerolinewidth": 2
          },
          "yaxis": {
           "automargin": true,
           "gridcolor": "white",
           "linecolor": "white",
           "ticks": "",
           "title": {
            "standoff": 15
           },
           "zerolinecolor": "white",
           "zerolinewidth": 2
          }
         }
        },
        "title": {
         "text": "Percentage Decrease in CO Emissions Between 1990 and 2018"
        }
       }
      },
      "text/html": [
       "<div>                            <div id=\"607533b6-301c-4674-9bae-d4c24e7fa655\" class=\"plotly-graph-div\" style=\"height:525px; width:100%;\"></div>            <script type=\"text/javascript\">                require([\"plotly\"], function(Plotly) {                    window.PLOTLYENV=window.PLOTLYENV || {};                                    if (document.getElementById(\"607533b6-301c-4674-9bae-d4c24e7fa655\")) {                    Plotly.newPlot(                        \"607533b6-301c-4674-9bae-d4c24e7fa655\",                        [{\"coloraxis\": \"coloraxis\", \"geo\": \"geo\", \"hovertemplate\": \"locations=%{location}<br>Percentage Decrease=%{z}<extra></extra>\", \"locationmode\": \"USA-states\", \"locations\": [\"AL\", \"AK\", \"AZ\", \"AR\", \"CA\", \"CO\", \"CT\", \"DE\", \"DC\", \"FL\", \"GA\", \"HI\", \"ID\", \"IL\", \"IN\", \"IA\", \"KS\", \"KY\", \"LA\", \"ME\", \"MD\", \"MA\", \"MI\", \"MN\", \"MS\", \"MO\", \"MT\", \"NE\", \"NV\", \"NH\", \"NJ\", \"NM\", \"NY\", \"NC\", \"ND\", \"OH\", \"OK\", \"OR\", \"PA\", \"RI\", \"SC\", \"SD\", \"TN\", \"TX\", \"UT\", \"VT\", \"VA\", \"WA\", \"WV\", \"WI\", \"WY\"], \"name\": \"\", \"type\": \"choropleth\", \"z\": [0.7487329328186476, 0.6701340812105195, 0.7108219891091521, 0.7366149845867848, 0.9066271748236333, 0.7235446001994927, 0.8331580979902271, 0.72485693549863, 0.7996010031577588, 0.6712720375418589, 0.7349953625199074, 0.7429245927474836, 0.6862845523930621, 0.7917604546207418, 0.7579294454660578, 0.7726366050788481, 0.7731968180263444, 0.7675755023288955, 0.7545822261813804, 0.7963123228837452, 0.8038606157249313, 0.8266958108852382, 0.8291552686867818, 0.7471240308461644, 0.7722278745642065, 0.7600989666867407, 0.7081996298757254, 0.7452704044481485, 0.6138641360794406, 0.7991555323165827, 0.8154101935248864, 0.8148798907979806, 0.822806463347453, 0.7302433782037466, 0.7030719479390515, 0.8118222072047513, 0.7714324265668998, 0.7369776451139421, 0.8167820687193842, 0.8287558578079407, 0.7401859937807455, 0.75391569896585, 0.7527444948899696, 0.7947623648932257, 0.7525607311014065, 0.8371657950921629, 0.7777719858380915, 0.7466893947803622, 0.8270999193565057, 0.7581917352572565, 0.7766473125239518]}],                        {\"coloraxis\": {\"colorbar\": {\"title\": {\"text\": \"Percentage Decrease\"}}, \"colorscale\": [[0.0, \"#0d0887\"], [0.1111111111111111, \"#46039f\"], [0.2222222222222222, \"#7201a8\"], [0.3333333333333333, \"#9c179e\"], [0.4444444444444444, \"#bd3786\"], [0.5555555555555556, \"#d8576b\"], [0.6666666666666666, \"#ed7953\"], [0.7777777777777778, \"#fb9f3a\"], [0.8888888888888888, \"#fdca26\"], [1.0, \"#f0f921\"]]}, \"geo\": {\"center\": {}, \"domain\": {\"x\": [0.0, 1.0], \"y\": [0.0, 1.0]}, \"scope\": \"usa\"}, \"legend\": {\"tracegroupgap\": 0}, \"template\": {\"data\": {\"bar\": [{\"error_x\": {\"color\": \"#2a3f5f\"}, \"error_y\": {\"color\": \"#2a3f5f\"}, \"marker\": {\"line\": {\"color\": \"#E5ECF6\", \"width\": 0.5}}, \"type\": \"bar\"}], \"barpolar\": [{\"marker\": {\"line\": {\"color\": \"#E5ECF6\", \"width\": 0.5}}, \"type\": \"barpolar\"}], \"carpet\": [{\"aaxis\": {\"endlinecolor\": \"#2a3f5f\", \"gridcolor\": \"white\", \"linecolor\": \"white\", \"minorgridcolor\": \"white\", \"startlinecolor\": \"#2a3f5f\"}, \"baxis\": {\"endlinecolor\": \"#2a3f5f\", \"gridcolor\": \"white\", \"linecolor\": \"white\", \"minorgridcolor\": \"white\", \"startlinecolor\": \"#2a3f5f\"}, \"type\": \"carpet\"}], \"choropleth\": [{\"colorbar\": {\"outlinewidth\": 0, \"ticks\": \"\"}, \"type\": \"choropleth\"}], \"contour\": [{\"colorbar\": {\"outlinewidth\": 0, \"ticks\": \"\"}, \"colorscale\": [[0.0, \"#0d0887\"], [0.1111111111111111, \"#46039f\"], [0.2222222222222222, \"#7201a8\"], [0.3333333333333333, \"#9c179e\"], [0.4444444444444444, \"#bd3786\"], [0.5555555555555556, \"#d8576b\"], [0.6666666666666666, \"#ed7953\"], [0.7777777777777778, \"#fb9f3a\"], [0.8888888888888888, \"#fdca26\"], [1.0, \"#f0f921\"]], \"type\": \"contour\"}], \"contourcarpet\": [{\"colorbar\": {\"outlinewidth\": 0, \"ticks\": \"\"}, \"type\": \"contourcarpet\"}], \"heatmap\": [{\"colorbar\": {\"outlinewidth\": 0, \"ticks\": \"\"}, \"colorscale\": [[0.0, \"#0d0887\"], [0.1111111111111111, \"#46039f\"], [0.2222222222222222, \"#7201a8\"], [0.3333333333333333, \"#9c179e\"], [0.4444444444444444, \"#bd3786\"], [0.5555555555555556, \"#d8576b\"], [0.6666666666666666, \"#ed7953\"], [0.7777777777777778, \"#fb9f3a\"], [0.8888888888888888, \"#fdca26\"], [1.0, \"#f0f921\"]], \"type\": \"heatmap\"}], \"heatmapgl\": [{\"colorbar\": {\"outlinewidth\": 0, \"ticks\": \"\"}, \"colorscale\": [[0.0, \"#0d0887\"], [0.1111111111111111, \"#46039f\"], [0.2222222222222222, \"#7201a8\"], [0.3333333333333333, \"#9c179e\"], [0.4444444444444444, \"#bd3786\"], [0.5555555555555556, \"#d8576b\"], [0.6666666666666666, \"#ed7953\"], [0.7777777777777778, \"#fb9f3a\"], [0.8888888888888888, \"#fdca26\"], [1.0, \"#f0f921\"]], \"type\": \"heatmapgl\"}], \"histogram\": [{\"marker\": {\"colorbar\": {\"outlinewidth\": 0, \"ticks\": \"\"}}, \"type\": \"histogram\"}], \"histogram2d\": [{\"colorbar\": {\"outlinewidth\": 0, \"ticks\": \"\"}, \"colorscale\": [[0.0, \"#0d0887\"], [0.1111111111111111, \"#46039f\"], [0.2222222222222222, \"#7201a8\"], [0.3333333333333333, \"#9c179e\"], [0.4444444444444444, \"#bd3786\"], [0.5555555555555556, \"#d8576b\"], [0.6666666666666666, \"#ed7953\"], [0.7777777777777778, \"#fb9f3a\"], [0.8888888888888888, \"#fdca26\"], [1.0, \"#f0f921\"]], \"type\": \"histogram2d\"}], \"histogram2dcontour\": [{\"colorbar\": {\"outlinewidth\": 0, \"ticks\": \"\"}, \"colorscale\": [[0.0, \"#0d0887\"], [0.1111111111111111, \"#46039f\"], [0.2222222222222222, \"#7201a8\"], [0.3333333333333333, \"#9c179e\"], [0.4444444444444444, \"#bd3786\"], [0.5555555555555556, \"#d8576b\"], [0.6666666666666666, \"#ed7953\"], [0.7777777777777778, \"#fb9f3a\"], [0.8888888888888888, \"#fdca26\"], [1.0, \"#f0f921\"]], \"type\": \"histogram2dcontour\"}], \"mesh3d\": [{\"colorbar\": {\"outlinewidth\": 0, \"ticks\": \"\"}, \"type\": \"mesh3d\"}], \"parcoords\": [{\"line\": {\"colorbar\": {\"outlinewidth\": 0, \"ticks\": \"\"}}, \"type\": \"parcoords\"}], \"pie\": [{\"automargin\": true, \"type\": \"pie\"}], \"scatter\": [{\"marker\": {\"colorbar\": {\"outlinewidth\": 0, \"ticks\": \"\"}}, \"type\": \"scatter\"}], \"scatter3d\": [{\"line\": {\"colorbar\": {\"outlinewidth\": 0, \"ticks\": \"\"}}, \"marker\": {\"colorbar\": {\"outlinewidth\": 0, \"ticks\": \"\"}}, \"type\": \"scatter3d\"}], \"scattercarpet\": [{\"marker\": {\"colorbar\": {\"outlinewidth\": 0, \"ticks\": \"\"}}, \"type\": \"scattercarpet\"}], \"scattergeo\": [{\"marker\": {\"colorbar\": {\"outlinewidth\": 0, \"ticks\": \"\"}}, \"type\": \"scattergeo\"}], \"scattergl\": [{\"marker\": {\"colorbar\": {\"outlinewidth\": 0, \"ticks\": \"\"}}, \"type\": \"scattergl\"}], \"scattermapbox\": [{\"marker\": {\"colorbar\": {\"outlinewidth\": 0, \"ticks\": \"\"}}, \"type\": \"scattermapbox\"}], \"scatterpolar\": [{\"marker\": {\"colorbar\": {\"outlinewidth\": 0, \"ticks\": \"\"}}, \"type\": \"scatterpolar\"}], \"scatterpolargl\": [{\"marker\": {\"colorbar\": {\"outlinewidth\": 0, \"ticks\": \"\"}}, \"type\": \"scatterpolargl\"}], \"scatterternary\": [{\"marker\": {\"colorbar\": {\"outlinewidth\": 0, \"ticks\": \"\"}}, \"type\": \"scatterternary\"}], \"surface\": [{\"colorbar\": {\"outlinewidth\": 0, \"ticks\": \"\"}, \"colorscale\": [[0.0, \"#0d0887\"], [0.1111111111111111, \"#46039f\"], [0.2222222222222222, \"#7201a8\"], [0.3333333333333333, \"#9c179e\"], [0.4444444444444444, \"#bd3786\"], [0.5555555555555556, \"#d8576b\"], [0.6666666666666666, \"#ed7953\"], [0.7777777777777778, \"#fb9f3a\"], [0.8888888888888888, \"#fdca26\"], [1.0, \"#f0f921\"]], \"type\": \"surface\"}], \"table\": [{\"cells\": {\"fill\": {\"color\": \"#EBF0F8\"}, \"line\": {\"color\": \"white\"}}, \"header\": {\"fill\": {\"color\": \"#C8D4E3\"}, \"line\": {\"color\": \"white\"}}, \"type\": \"table\"}]}, \"layout\": {\"annotationdefaults\": {\"arrowcolor\": \"#2a3f5f\", \"arrowhead\": 0, \"arrowwidth\": 1}, \"autotypenumbers\": \"strict\", \"coloraxis\": {\"colorbar\": {\"outlinewidth\": 0, \"ticks\": \"\"}}, \"colorscale\": {\"diverging\": [[0, \"#8e0152\"], [0.1, \"#c51b7d\"], [0.2, \"#de77ae\"], [0.3, \"#f1b6da\"], [0.4, \"#fde0ef\"], [0.5, \"#f7f7f7\"], [0.6, \"#e6f5d0\"], [0.7, \"#b8e186\"], [0.8, \"#7fbc41\"], [0.9, \"#4d9221\"], [1, \"#276419\"]], \"sequential\": [[0.0, \"#0d0887\"], [0.1111111111111111, \"#46039f\"], [0.2222222222222222, \"#7201a8\"], [0.3333333333333333, \"#9c179e\"], [0.4444444444444444, \"#bd3786\"], [0.5555555555555556, \"#d8576b\"], [0.6666666666666666, \"#ed7953\"], [0.7777777777777778, \"#fb9f3a\"], [0.8888888888888888, \"#fdca26\"], [1.0, \"#f0f921\"]], \"sequentialminus\": [[0.0, \"#0d0887\"], [0.1111111111111111, \"#46039f\"], [0.2222222222222222, \"#7201a8\"], [0.3333333333333333, \"#9c179e\"], [0.4444444444444444, \"#bd3786\"], [0.5555555555555556, \"#d8576b\"], [0.6666666666666666, \"#ed7953\"], [0.7777777777777778, \"#fb9f3a\"], [0.8888888888888888, \"#fdca26\"], [1.0, \"#f0f921\"]]}, \"colorway\": [\"#636efa\", \"#EF553B\", \"#00cc96\", \"#ab63fa\", \"#FFA15A\", \"#19d3f3\", \"#FF6692\", \"#B6E880\", \"#FF97FF\", \"#FECB52\"], \"font\": {\"color\": \"#2a3f5f\"}, \"geo\": {\"bgcolor\": \"white\", \"lakecolor\": \"white\", \"landcolor\": \"#E5ECF6\", \"showlakes\": true, \"showland\": true, \"subunitcolor\": \"white\"}, \"hoverlabel\": {\"align\": \"left\"}, \"hovermode\": \"closest\", \"mapbox\": {\"style\": \"light\"}, \"paper_bgcolor\": \"white\", \"plot_bgcolor\": \"#E5ECF6\", \"polar\": {\"angularaxis\": {\"gridcolor\": \"white\", \"linecolor\": \"white\", \"ticks\": \"\"}, \"bgcolor\": \"#E5ECF6\", \"radialaxis\": {\"gridcolor\": \"white\", \"linecolor\": \"white\", \"ticks\": \"\"}}, \"scene\": {\"xaxis\": {\"backgroundcolor\": \"#E5ECF6\", \"gridcolor\": \"white\", \"gridwidth\": 2, \"linecolor\": \"white\", \"showbackground\": true, \"ticks\": \"\", \"zerolinecolor\": \"white\"}, \"yaxis\": {\"backgroundcolor\": \"#E5ECF6\", \"gridcolor\": \"white\", \"gridwidth\": 2, \"linecolor\": \"white\", \"showbackground\": true, \"ticks\": \"\", \"zerolinecolor\": \"white\"}, \"zaxis\": {\"backgroundcolor\": \"#E5ECF6\", \"gridcolor\": \"white\", \"gridwidth\": 2, \"linecolor\": \"white\", \"showbackground\": true, \"ticks\": \"\", \"zerolinecolor\": \"white\"}}, \"shapedefaults\": {\"line\": {\"color\": \"#2a3f5f\"}}, \"ternary\": {\"aaxis\": {\"gridcolor\": \"white\", \"linecolor\": \"white\", \"ticks\": \"\"}, \"baxis\": {\"gridcolor\": \"white\", \"linecolor\": \"white\", \"ticks\": \"\"}, \"bgcolor\": \"#E5ECF6\", \"caxis\": {\"gridcolor\": \"white\", \"linecolor\": \"white\", \"ticks\": \"\"}}, \"title\": {\"x\": 0.05}, \"xaxis\": {\"automargin\": true, \"gridcolor\": \"white\", \"linecolor\": \"white\", \"ticks\": \"\", \"title\": {\"standoff\": 15}, \"zerolinecolor\": \"white\", \"zerolinewidth\": 2}, \"yaxis\": {\"automargin\": true, \"gridcolor\": \"white\", \"linecolor\": \"white\", \"ticks\": \"\", \"title\": {\"standoff\": 15}, \"zerolinecolor\": \"white\", \"zerolinewidth\": 2}}}, \"title\": {\"text\": \"Percentage Decrease in CO Emissions Between 1990 and 2018\"}},                        {\"responsive\": true}                    ).then(function(){\n",
       "                            \n",
       "var gd = document.getElementById('607533b6-301c-4674-9bae-d4c24e7fa655');\n",
       "var x = new MutationObserver(function (mutations, observer) {{\n",
       "        var display = window.getComputedStyle(gd).display;\n",
       "        if (!display || display === 'none') {{\n",
       "            console.log([gd, 'removed!']);\n",
       "            Plotly.purge(gd);\n",
       "            observer.disconnect();\n",
       "        }}\n",
       "}});\n",
       "\n",
       "// Listen for the removal of the full notebook cells\n",
       "var notebookContainer = gd.closest('#notebook-container');\n",
       "if (notebookContainer) {{\n",
       "    x.observe(notebookContainer, {childList: true});\n",
       "}}\n",
       "\n",
       "// Listen for the clearing of the current output cell\n",
       "var outputEl = gd.closest('.output');\n",
       "if (outputEl) {{\n",
       "    x.observe(outputEl, {childList: true});\n",
       "}}\n",
       "\n",
       "                        })                };                });            </script>        </div>"
      ]
     },
     "metadata": {},
     "output_type": "display_data"
    }
   ],
   "source": [
    "#FOR SOME REASON, ALABAMA GOT CALIFORNIA'S STATS\n",
    "\n",
    "fig = px.choropleth(locations=solutions, locationmode=\"USA-states\", \n",
    "                    color=t_slopes.column(\"Percentage Decrease in CO Emissions \\m Between 1990 and 2018\"), scope=\"usa\", \n",
    "                    labels={'color':'Percentage Decrease'}, title  = 'Percentage Decrease in CO Emissions Between 1990 and 2018')\n",
    "fig.show()"
   ]
  },
  {
   "cell_type": "markdown",
   "metadata": {},
   "source": []
  },
  {
   "cell_type": "code",
   "execution_count": 576,
   "metadata": {},
   "outputs": [
    {
     "data": {
      "text/plain": [
       "Text(0.5, 1.0, 'Change in California Gasoline \\nTax Rates Over Time')"
      ]
     },
     "execution_count": 576,
     "metadata": {},
     "output_type": "execute_result"
    },
    {
     "data": {
      "image/png": "[encoded data removed]",
      "text/plain": [
       "<Figure size 432x288 with 1 Axes>"
      ]
     },
     "metadata": {},
     "output_type": "display_data"
    }
   ],
   "source": [
    "# Why has California decreased its CO emissions at a greater rate than any other state in the US? Perhaps the answer lies in tax-based dicincentives for the use of gas.\n",
    "# https://www.cdtfa.ca.gov/taxes-and-fees/sales-tax-rates-for-fuels.htm\n",
    "# tax rate is per gallon\n",
    "# We couldn't find data on gasoline tax rates in California prior to 2010\n",
    "fig = plt.figure()\n",
    "ax = fig.add_axes([0,0,1,1])\n",
    "fig.patch.set_facecolor('#fefcff')\n",
    "ax.set_facecolor('white')\n",
    "\n",
    "years = np.array([2010, 2011, 2012, 2013, 2014, 2015, 2016, 2017, 2018])\n",
    "cali_tax_rates = np.array([0.180, 0.353, 0.357, 0.360, 0.395, 0.360, 0.300, 0.278, 0.417])\n",
    "california_gas_tax = Table().with_columns(\"Year\", years, \"Tax Rate\", cali_tax_rates)\n",
    "plt.plot(years, cali_tax_rates, color='#6801A6')\n",
    "plt.xlabel(\"Year\")\n",
    "plt.ylabel(\"Gas Tax Rate \\n(In Dollars/Gallon)\")\n",
    "plt.title(\"Change in California Gasoline \\nTax Rates Over Time\")"
   ]
  },
  {
   "cell_type": "code",
   "execution_count": 580,
   "metadata": {},
   "outputs": [
    {
     "data": {
      "text/plain": [
       "Text(0.5, 1.0, 'Vehicle Miles Traveled \\nin California')"
      ]
     },
     "execution_count": 580,
     "metadata": {},
     "output_type": "execute_result"
    },
    {
     "data": {
      "image/png": "[encoded data removed]",
      "text/plain": [
       "<Figure size 432x288 with 1 Axes>"
      ]
     },
     "metadata": {},
     "output_type": "display_data"
    }
   ],
   "source": [
    "#California population from 1990 to 2018\n",
    "# https://www.census.gov/prod/99pubs/99statab/sec31.pdf\n",
    "# https://www.fhwa.dot.gov/policyinformation/statistics/2016/vmt421c.cfm\n",
    "#DATA IN THOUSANDS\n",
    "fig = plt.figure()\n",
    "ax = fig.add_axes([0,0,1,1])\n",
    "fig.patch.set_facecolor('#fefcff')\n",
    "ax.set_facecolor('white')\n",
    "\n",
    "\n",
    "years = np.array([1990, 1991, 1992, 1993, 1994, 1995, 1996, 1997, 1998, 1999, 2000, 2001, 2002, 2003, 2004, 2005, 2006, 2007, 2008, 2009, 2010, 2011, 2012, 2013, 2014, 2015, 2016, 2017, 2018])\n",
    "cal_car_reg = np.array([188798, 188136, 190362, 194063, 198045, 201530, 206365, 207754, 215496, 220461, 225821, 225331])\n",
    "vehicle_miles_of_travel = np.array([2144362, 2172050, 2247151, 2296378, 2357588, 2422696, 2485848, 2561695, 2631522, 2691056, 2746925, 2781462, 2873612, 2908778, 2982017, 3009218, 3033753, 3049027, 2992705, 2975804, 2985095, 2964720, 2968815, 2988323, 3040220, 3109937, 3174408, 3224707, 3255347])\n",
    "# years = np.array([2007, 2009, 2010, 2011, 2012, 2013, 2014, 2015])\n",
    "#in millions\n",
    "# vehicle_miles_of_travel = np.array([328312, 324486, 322848, 320784, 326272, 329534, 332857, 335539])\n",
    "# stopped at 2008\n",
    "# cal_car_reg = np.array([35192491, 34914139, 29176697, 27702150, 28074977, 28686646, 29424012])\n",
    "plt.plot(years, vehicle_miles_of_travel, color='#6801A6')\n",
    "plt.xlabel(\"Year\")\n",
    "plt.ylabel(\"Vehicle Miles Travelled \\nin Millions\")\n",
    "plt.title(\"Vehicle Miles Traveled \\nin California\")"
   ]
  },
  {
   "cell_type": "code",
   "execution_count": 597,
   "metadata": {},
   "outputs": [
    {
     "data": {
      "text/html": [
       "<table border=\"1\" class=\"dataframe\">\n",
       "    <thead>\n",
       "        <tr>\n",
       "            <th>Economic Sector</th> <th>1990</th> <th>1991</th> <th>1992</th> <th>1993</th> <th>1994</th> <th>1995</th> <th>1996</th> <th>1997</th> <th>1998</th> <th>1999</th> <th>2000</th> <th>2001</th> <th>2002</th> <th>2003</th> <th>2004</th> <th>2005</th> <th>2006</th> <th>2007</th> <th>2008</th> <th>2009</th> <th>2010</th> <th>2011</th> <th>2012</th> <th>2013</th> <th>2014</th> <th>2015</th> <th>2016</th> <th>2017</th> <th>2018</th>\n",
       "        </tr>\n",
       "    </thead>\n",
       "    <tbody>\n",
       "        <tr>\n",
       "            <td>Transportation        </td> <td>0.237233  </td> <td>0.232366  </td> <td>0.237733  </td> <td>0.239135  </td> <td>0.244125  </td> <td>0.246245  </td> <td>0.247117  </td> <td>0.248977  </td> <td>0.253239  </td> <td>0.261503  </td> <td>0.261323  </td> <td>0.262362  </td> <td>0.266578  </td> <td>0.263841  </td> <td>0.265271  </td> <td>0.266975 </td> <td>0.269307  </td> <td>0.265469 </td> <td>0.259581  </td> <td>0.265472  </td> <td>0.257972  </td> <td>0.25931  </td> <td>0.265996  </td> <td>0.259457  </td> <td>0.262354 </td> <td>0.269644  </td> <td>0.281359  </td> <td>0.285488  </td> <td>0.281961  </td>\n",
       "        </tr>\n",
       "        <tr>\n",
       "            <td>Electricity generation</td> <td>0.291377  </td> <td>0.293668  </td> <td>0.291137  </td> <td>0.297472  </td> <td>0.297223  </td> <td>0.295949  </td> <td>0.297782  </td> <td>0.304891  </td> <td>0.31501   </td> <td>0.314867  </td> <td>0.322891  </td> <td>0.322018  </td> <td>0.322345  </td> <td>0.32485   </td> <td>0.323759  </td> <td>0.332252 </td> <td>0.328026  </td> <td>0.332504 </td> <td>0.334556  </td> <td>0.32515   </td> <td>0.331172  </td> <td>0.323994 </td> <td>0.314698  </td> <td>0.308571  </td> <td>0.305918 </td> <td>0.29196   </td> <td>0.284608  </td> <td>0.274095  </td> <td>0.269435  </td>\n",
       "        </tr>\n",
       "        <tr>\n",
       "            <td>Industry              </td> <td>0.253018  </td> <td>0.25137   </td> <td>0.252015  </td> <td>0.242908  </td> <td>0.24352   </td> <td>0.243215  </td> <td>0.240151  </td> <td>0.237923  </td> <td>0.232349  </td> <td>0.223503  </td> <td>0.217688  </td> <td>0.213662  </td> <td>0.210328  </td> <td>0.206046  </td> <td>0.209249  </td> <td>0.203153 </td> <td>0.209766  </td> <td>0.205506 </td> <td>0.203399  </td> <td>0.194149  </td> <td>0.20107   </td> <td>0.206411 </td> <td>0.212886  </td> <td>0.214779  </td> <td>0.210686 </td> <td>0.214151  </td> <td>0.212871  </td> <td>0.217552  </td> <td>0.220282  </td>\n",
       "        </tr>\n",
       "        <tr>\n",
       "            <td>Agriculture           </td> <td>0.0930507 </td> <td>0.0925245 </td> <td>0.0911362 </td> <td>0.0937753 </td> <td>0.0906158 </td> <td>0.0912918 </td> <td>0.0896239 </td> <td>0.0872944 </td> <td>0.0876728 </td> <td>0.0858203 </td> <td>0.0819762 </td> <td>0.0860502 </td> <td>0.0859386 </td> <td>0.0854951 </td> <td>0.0857264 </td> <td>0.0848969</td> <td>0.0856259 </td> <td>0.086773 </td> <td>0.0876347 </td> <td>0.0938533 </td> <td>0.091971  </td> <td>0.091384 </td> <td>0.0922239 </td> <td>0.0953044 </td> <td>0.0959054</td> <td>0.0982553 </td> <td>0.0982484 </td> <td>0.0990067 </td> <td>0.0986358 </td>\n",
       "        </tr>\n",
       "        <tr>\n",
       "            <td>Commercial            </td> <td>0.0665944 </td> <td>0.0683496 </td> <td>0.066539  </td> <td>0.064369  </td> <td>0.0640268 </td> <td>0.0631049 </td> <td>0.0623469 </td> <td>0.0608388 </td> <td>0.0568084 </td> <td>0.0558856 </td> <td>0.0566417 </td> <td>0.0559229 </td> <td>0.0557317 </td> <td>0.0576587 </td> <td>0.056345  </td> <td>0.0548076</td> <td>0.0535662 </td> <td>0.0548004</td> <td>0.0574538 </td> <td>0.0618651 </td> <td>0.0601938 </td> <td>0.0609372</td> <td>0.0601391 </td> <td>0.0619044 </td> <td>0.0628718</td> <td>0.0662802 </td> <td>0.0654485 </td> <td>0.0657751 </td> <td>0.0663988 </td>\n",
       "        </tr>\n",
       "        <tr>\n",
       "            <td>Residential           </td> <td>0.05355   </td> <td>0.0555834 </td> <td>0.0556815 </td> <td>0.0564162 </td> <td>0.0542857 </td> <td>0.0542251 </td> <td>0.0572085 </td> <td>0.0541234 </td> <td>0.048953  </td> <td>0.0514032 </td> <td>0.0531932 </td> <td>0.0525747 </td> <td>0.0518856 </td> <td>0.0541253 </td> <td>0.0515819 </td> <td>0.0500629</td> <td>0.0456555 </td> <td>0.0479384</td> <td>0.0505075 </td> <td>0.0525152 </td> <td>0.0509514 </td> <td>0.0512155</td> <td>0.0466933 </td> <td>0.0528833 </td> <td>0.0554363</td> <td>0.0527237 </td> <td>0.0503178 </td> <td>0.0508975 </td> <td>0.0563035 </td>\n",
       "        </tr>\n",
       "        <tr>\n",
       "            <td>U.S. territories      </td> <td>0.00517651</td> <td>0.00613875</td> <td>0.00575851</td> <td>0.00592493</td> <td>0.00620417</td> <td>0.00597013</td> <td>0.00577022</td> <td>0.00595205</td> <td>0.00596691</td> <td>0.00701793</td> <td>0.00628665</td> <td>0.00741011</td> <td>0.00719349</td> <td>0.00798469</td> <td>0.00806832</td> <td>0.0078524</td> <td>0.00805321</td> <td>0.0070089</td> <td>0.00686787</td> <td>0.00699457</td> <td>0.00666927</td> <td>0.0067478</td> <td>0.00736375</td> <td>0.00710144</td> <td>0.0068282</td> <td>0.00698525</td> <td>0.00714755</td> <td>0.00718594</td> <td>0.00698352</td>\n",
       "        </tr>\n",
       "    </tbody>\n",
       "</table>"
      ],
      "text/plain": [
       "Economic Sector        | 1990       | 1991       | 1992       | 1993       | 1994       | 1995       | 1996       | 1997       | 1998       | 1999       | 2000       | 2001       | 2002       | 2003       | 2004       | 2005      | 2006       | 2007      | 2008       | 2009       | 2010       | 2011      | 2012       | 2013       | 2014      | 2015       | 2016       | 2017       | 2018\n",
       "Transportation         | 0.237233   | 0.232366   | 0.237733   | 0.239135   | 0.244125   | 0.246245   | 0.247117   | 0.248977   | 0.253239   | 0.261503   | 0.261323   | 0.262362   | 0.266578   | 0.263841   | 0.265271   | 0.266975  | 0.269307   | 0.265469  | 0.259581   | 0.265472   | 0.257972   | 0.25931   | 0.265996   | 0.259457   | 0.262354  | 0.269644   | 0.281359   | 0.285488   | 0.281961\n",
       "Electricity generation | 0.291377   | 0.293668   | 0.291137   | 0.297472   | 0.297223   | 0.295949   | 0.297782   | 0.304891   | 0.31501    | 0.314867   | 0.322891   | 0.322018   | 0.322345   | 0.32485    | 0.323759   | 0.332252  | 0.328026   | 0.332504  | 0.334556   | 0.32515    | 0.331172   | 0.323994  | 0.314698   | 0.308571   | 0.305918  | 0.29196    | 0.284608   | 0.274095   | 0.269435\n",
       "Industry               | 0.253018   | 0.25137    | 0.252015   | 0.242908   | 0.24352    | 0.243215   | 0.240151   | 0.237923   | 0.232349   | 0.223503   | 0.217688   | 0.213662   | 0.210328   | 0.206046   | 0.209249   | 0.203153  | 0.209766   | 0.205506  | 0.203399   | 0.194149   | 0.20107    | 0.206411  | 0.212886   | 0.214779   | 0.210686  | 0.214151   | 0.212871   | 0.217552   | 0.220282\n",
       "Agriculture            | 0.0930507  | 0.0925245  | 0.0911362  | 0.0937753  | 0.0906158  | 0.0912918  | 0.0896239  | 0.0872944  | 0.0876728  | 0.0858203  | 0.0819762  | 0.0860502  | 0.0859386  | 0.0854951  | 0.0857264  | 0.0848969 | 0.0856259  | 0.086773  | 0.0876347  | 0.0938533  | 0.091971   | 0.091384  | 0.0922239  | 0.0953044  | 0.0959054 | 0.0982553  | 0.0982484  | 0.0990067  | 0.0986358\n",
       "Commercial             | 0.0665944  | 0.0683496  | 0.066539   | 0.064369   | 0.0640268  | 0.0631049  | 0.0623469  | 0.0608388  | 0.0568084  | 0.0558856  | 0.0566417  | 0.0559229  | 0.0557317  | 0.0576587  | 0.056345   | 0.0548076 | 0.0535662  | 0.0548004 | 0.0574538  | 0.0618651  | 0.0601938  | 0.0609372 | 0.0601391  | 0.0619044  | 0.0628718 | 0.0662802  | 0.0654485  | 0.0657751  | 0.0663988\n",
       "Residential            | 0.05355    | 0.0555834  | 0.0556815  | 0.0564162  | 0.0542857  | 0.0542251  | 0.0572085  | 0.0541234  | 0.048953   | 0.0514032  | 0.0531932  | 0.0525747  | 0.0518856  | 0.0541253  | 0.0515819  | 0.0500629 | 0.0456555  | 0.0479384 | 0.0505075  | 0.0525152  | 0.0509514  | 0.0512155 | 0.0466933  | 0.0528833  | 0.0554363 | 0.0527237  | 0.0503178  | 0.0508975  | 0.0563035\n",
       "U.S. territories       | 0.00517651 | 0.00613875 | 0.00575851 | 0.00592493 | 0.00620417 | 0.00597013 | 0.00577022 | 0.00595205 | 0.00596691 | 0.00701793 | 0.00628665 | 0.00741011 | 0.00719349 | 0.00798469 | 0.00806832 | 0.0078524 | 0.00805321 | 0.0070089 | 0.00686787 | 0.00699457 | 0.00666927 | 0.0067478 | 0.00736375 | 0.00710144 | 0.0068282 | 0.00698525 | 0.00714755 | 0.00718594 | 0.00698352"
      ]
     },
     "execution_count": 597,
     "metadata": {},
     "output_type": "execute_result"
    }
   ],
   "source": [
    "total_emissions = pd.read_csv(\"data_imp.csv\")\n",
    "total_emissions = Table.from_df(total_emissions)\n",
    "total_emissions\n",
    "\n",
    "new_1990 = total_emissions.column(\"1990\")/total_emissions.column(\"1990\")[7]\n",
    "new_1991 = total_emissions.column(\"1991\")/total_emissions.column(\"1991\")[7]\n",
    "new_1992 = total_emissions.column(\"1992\")/total_emissions.column(\"1992\")[7]\n",
    "new_1993 = total_emissions.column(\"1993\")/total_emissions.column(\"1993\")[7]\n",
    "new_1994 = total_emissions.column(\"1994\")/total_emissions.column(\"1994\")[7]\n",
    "new_1995 = total_emissions.column(\"1995\")/total_emissions.column(\"1995\")[7]\n",
    "new_1996 = total_emissions.column(\"1996\")/total_emissions.column(\"1996\")[7]\n",
    "new_1997 = total_emissions.column(\"1997\")/total_emissions.column(\"1997\")[7]\n",
    "new_1998 = total_emissions.column(\"1998\")/total_emissions.column(\"1998\")[7]\n",
    "new_1999 = total_emissions.column(\"1999\")/total_emissions.column(\"1999\")[7]\n",
    "new_2000 = total_emissions.column(\"2000\")/total_emissions.column(\"2000\")[7]\n",
    "new_2001 = total_emissions.column(\"2001\")/total_emissions.column(\"2001\")[7]\n",
    "new_2002 = total_emissions.column(\"2002\")/total_emissions.column(\"2002\")[7]\n",
    "new_2003 = total_emissions.column(\"2003\")/total_emissions.column(\"2003\")[7]\n",
    "new_2004 = total_emissions.column(\"2004\")/total_emissions.column(\"2004\")[7]\n",
    "new_2005 = total_emissions.column(\"2005\")/total_emissions.column(\"2005\")[7]\n",
    "new_2006 = total_emissions.column(\"2006\")/total_emissions.column(\"2006\")[7]\n",
    "new_2007 = total_emissions.column(\"2007\")/total_emissions.column(\"2007\")[7]\n",
    "new_2008 = total_emissions.column(\"2008\")/total_emissions.column(\"2008\")[7]\n",
    "new_2009 = total_emissions.column(\"2009\")/total_emissions.column(\"2009\")[7]\n",
    "new_2010 = total_emissions.column(\"2010\")/total_emissions.column(\"2010\")[7]\n",
    "new_2011 = total_emissions.column(\"2011\")/total_emissions.column(\"2011\")[7]\n",
    "new_2012 = total_emissions.column(\"2012\")/total_emissions.column(\"2012\")[7]\n",
    "new_2013 = total_emissions.column(\"2013\")/total_emissions.column(\"2013\")[7]\n",
    "new_2014 = total_emissions.column(\"2014\")/total_emissions.column(\"2014\")[7]\n",
    "new_2015 = total_emissions.column(\"2015\")/total_emissions.column(\"2015\")[7]\n",
    "new_2016 = total_emissions.column(\"2016\")/total_emissions.column(\"2016\")[7]\n",
    "new_2017 = total_emissions.column(\"2017\")/total_emissions.column(\"2017\")[7]\n",
    "new_2018 = total_emissions.column(\"2018\")/total_emissions.column(\"2018\")[7]\n",
    "\n",
    "total_emissions = total_emissions.drop(\"1990\", \"1991\", \"1992\", \"1993\", \"1994\", \"1995\", \"1996\", \"1997\", \"1998\", \"1999\", \"2000\", \"2001\", \"2002\", \"2003\", \"2004\", \"2005\", \"2006\", \"2007\",\"2008\", \"2009\", \"2010\", \"2011\", \"2012\", \"2013\", \"2014\", \"2015\", \"2016\", \"2017\", \"2018\")\n",
    "total_emissions = total_emissions.with_columns(\"1990\", new_1990, \"1991\", new_1991, \"1992\", new_1992, \"1993\", new_1993, \"1994\", new_1994, \"1995\", new_1995, \"1996\", new_1996, \"1997\", new_1997, \"1998\", new_1998, \"1999\", new_1999, \"2000\", new_2000, \"2001\", new_2001, \"2002\", new_2002, \"2003\", new_2003, \"2004\", new_2004, \"2005\", new_2005, \"2006\", new_2006, \"2007\", new_2007, \"2008\", new_2008, \"2009\", new_2009, \"2010\", new_2010, \"2011\", new_2011, \"2012\", new_2012, \"2013\", new_2013, \"2014\", new_2014, \"2015\", new_2015, \"2016\", new_2016, \"2017\", new_2017, \"2018\", new_2018)\n",
    "total_emissions = total_emissions.remove(7)\n",
    "total_emissions"
   ]
  },
  {
   "cell_type": "code",
   "execution_count": 616,
   "metadata": {},
   "outputs": [
    {
     "data": {
      "text/plain": [
       "Text(0.5, 0, 'Industry')"
      ]
     },
     "execution_count": 616,
     "metadata": {},
     "output_type": "execute_result"
    },
    {
     "data": {
      "image/png": "[encoded data removed]",
      "text/plain": [
       "<Figure size 432x288 with 1 Axes>"
      ]
     },
     "metadata": {},
     "output_type": "display_data"
    }
   ],
   "source": [
    "fig = plt.figure()\n",
    "ax = fig.add_axes([0,0,1,1])\n",
    "fig.patch.set_facecolor('#fefcff')\n",
    "ax.set_facecolor('white')\n",
    "\n",
    "\n",
    "plt.bar(total_emissions.remove(6).column(\"Economic Sector\"), total_emissions.remove(6).column(\"1990\"), color='#6801A6')\n",
    "plt.xticks(ha=\"right\", rotation=45)\n",
    "plt.title(\"Sector Percentage of Greenhouse Gas Emissions \\n in the US in 1990\")\n",
    "plt.ylabel(\"Percentage\")\n",
    "plt.xlabel(\"Industry\")\n",
    "\n",
    "# plt.legend()"
   ]
  },
  {
   "cell_type": "code",
   "execution_count": 648,
   "metadata": {},
   "outputs": [
    {
     "data": {
      "text/plain": [
       "Text(0.5, 0, 'Industry')"
      ]
     },
     "execution_count": 648,
     "metadata": {},
     "output_type": "execute_result"
    },
    {
     "data": {
      "image/png": "[encoded data removed]",
      "text/plain": [
       "<Figure size 432x288 with 1 Axes>"
      ]
     },
     "metadata": {},
     "output_type": "display_data"
    }
   ],
   "source": [
    "fig = plt.figure()\n",
    "ax = fig.add_axes([0,0,1,1])\n",
    "fig.patch.set_facecolor('#fefcff')\n",
    "ax.set_facecolor('white')\n",
    "\n",
    "plt.bar(total_emissions.remove(6).column(\"Economic Sector\"), total_emissions.remove(6).column(\"2018\"), color='#6801A6')\n",
    "plt.xticks(ha=\"right\", rotation=45)\n",
    "plt.title(\"Sector Percentage of Greenhouse Gas Emissions \\n in the US in 2018\")\n",
    "plt.ylabel(\"Percentage\")\n",
    "plt.xlabel(\"Industry\")"
   ]
  },
  {
   "cell_type": "code",
   "execution_count": null,
   "metadata": {},
   "outputs": [],
   "source": []
  }
 ],
 "metadata": {
  "kernelspec": {
   "display_name": "Python 3",
   "language": "python",
   "name": "python3"
  },
  "language_info": {
   "codemirror_mode": {
    "name": "ipython",
    "version": 3
   },
   "file_extension": ".py",
   "mimetype": "text/x-python",
   "name": "python",
   "nbconvert_exporter": "python",
   "pygments_lexer": "ipython3",
   "version": "3.8.5"
  }
 },
 "nbformat": 4,
 "nbformat_minor": 4
}
